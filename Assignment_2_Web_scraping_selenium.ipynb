{
 "cells": [
  {
   "cell_type": "markdown",
   "metadata": {},
   "source": [
    "###### Q1: Write a python program to scrape data for “Data Analyst” Job position in “Bangalore” location. You have to scrape the job-title, job-location, company_name, experience_required. You have to scrape first 10 jobs data"
   ]
  },
  {
   "cell_type": "code",
   "execution_count": 1,
   "metadata": {},
   "outputs": [],
   "source": [
    "# Import required Libraries\n",
    "import pandas as pd \n",
    "import selenium\n",
    "from selenium import webdriver\n",
    "import time"
   ]
  },
  {
   "cell_type": "code",
   "execution_count": 2,
   "metadata": {},
   "outputs": [],
   "source": [
    "driver = webdriver.Chrome(r\"C:\\Users\\rahsh\\Downloads\\chromedriver_win32\\chromedriver.exe\")"
   ]
  },
  {
   "cell_type": "code",
   "execution_count": 4,
   "metadata": {},
   "outputs": [],
   "source": [
    "#Getting the website from driver\n",
    "driver.get('https://www.naukri.com/')"
   ]
  },
  {
   "cell_type": "code",
   "execution_count": 5,
   "metadata": {},
   "outputs": [],
   "source": [
    "#for finding job search bar\n",
    "search_job = driver.find_element_by_id('qsb-keyword-sugg')\n",
    "search_job.clear()\n",
    "search_job.send_keys(\"Data Analyst\")\n",
    "search_loc = driver.find_element_by_xpath(\"//input[@id='qsb-location-sugg']\")\n",
    "search_loc.send_keys(\"Bangalore\")\n",
    "search_loc = driver.find_element_by_xpath(\"//div[@class='search-btn']/button\")\n",
    "search_loc.click()"
   ]
  },
  {
   "cell_type": "code",
   "execution_count": 6,
   "metadata": {},
   "outputs": [],
   "source": [
    "#giving the url to be scrapped\n",
    "url=\"https://www.naukri.com/data-analyst-jobs-in-bangalore?k=data%20analyst&l=bangalore\""
   ]
  },
  {
   "cell_type": "code",
   "execution_count": 7,
   "metadata": {},
   "outputs": [],
   "source": [
    "#open the webpage through driver\n",
    "driver.get(url)"
   ]
  },
  {
   "cell_type": "code",
   "execution_count": 8,
   "metadata": {},
   "outputs": [],
   "source": [
    "#creating empty list\n",
    "job_titles=[]\n",
    "company_names=[]\n",
    "job_location=[]\n",
    "experienced_required=[]"
   ]
  },
  {
   "cell_type": "code",
   "execution_count": 9,
   "metadata": {},
   "outputs": [
    {
     "data": {
      "text/plain": [
       "[<selenium.webdriver.remote.webelement.WebElement (session=\"495a7c5c56610023d8b0e2ccdc765364\", element=\"0ba8bc2b-7874-432e-b4c7-2f2fb238f44f\")>,\n",
       " <selenium.webdriver.remote.webelement.WebElement (session=\"495a7c5c56610023d8b0e2ccdc765364\", element=\"cd039b96-0299-43ef-afcc-6d8b7650d56a\")>,\n",
       " <selenium.webdriver.remote.webelement.WebElement (session=\"495a7c5c56610023d8b0e2ccdc765364\", element=\"385c542d-b67e-47fb-9d65-e275aa5d579c\")>,\n",
       " <selenium.webdriver.remote.webelement.WebElement (session=\"495a7c5c56610023d8b0e2ccdc765364\", element=\"55d3f0b4-66d8-41d4-b606-b6b0dff5c2c5\")>]"
      ]
     },
     "execution_count": 9,
     "metadata": {},
     "output_type": "execute_result"
    }
   ],
   "source": [
    "#extract tags having job titles\n",
    "titles_tags = driver.find_elements_by_xpath(\"//a[@class='title fw500 ellipsis']\")\n",
    "titles_tags[0:4]"
   ]
  },
  {
   "cell_type": "code",
   "execution_count": 10,
   "metadata": {},
   "outputs": [
    {
     "data": {
      "text/plain": [
       "['Azure Data Analyst',\n",
       " 'Data Analyst',\n",
       " 'Data Analyst',\n",
       " 'Data Analyst',\n",
       " 'Data Analyst',\n",
       " 'Data Analyst',\n",
       " 'Data Analyst',\n",
       " 'Data Analyst',\n",
       " 'Data Analyst',\n",
       " 'Data Analyst']"
      ]
     },
     "execution_count": 10,
     "metadata": {},
     "output_type": "execute_result"
    }
   ],
   "source": [
    "#for loop to iterate title tags \n",
    "for i in titles_tags:\n",
    "    title=i.text\n",
    "    job_titles.append(title)\n",
    "job_titles[0:10]"
   ]
  },
  {
   "cell_type": "code",
   "execution_count": 11,
   "metadata": {},
   "outputs": [
    {
     "data": {
      "text/plain": [
       "[<selenium.webdriver.remote.webelement.WebElement (session=\"495a7c5c56610023d8b0e2ccdc765364\", element=\"cdc62928-cb2c-42ee-ac1e-80e24f0b876f\")>,\n",
       " <selenium.webdriver.remote.webelement.WebElement (session=\"495a7c5c56610023d8b0e2ccdc765364\", element=\"28310f8d-f7fa-4058-9e03-ead0d9440363\")>,\n",
       " <selenium.webdriver.remote.webelement.WebElement (session=\"495a7c5c56610023d8b0e2ccdc765364\", element=\"a59e59f0-7164-489f-9c9f-5a22b3c48d41\")>,\n",
       " <selenium.webdriver.remote.webelement.WebElement (session=\"495a7c5c56610023d8b0e2ccdc765364\", element=\"211d9e04-eba6-4edc-bf15-149563a41721\")>]"
      ]
     },
     "execution_count": 11,
     "metadata": {},
     "output_type": "execute_result"
    }
   ],
   "source": [
    "#extracting all the tags company names\n",
    "companies_tags = driver.find_elements_by_xpath(\"//a[@class='subTitle ellipsis fleft']\")\n",
    "companies_tags[0:4]"
   ]
  },
  {
   "cell_type": "code",
   "execution_count": 12,
   "metadata": {},
   "outputs": [
    {
     "data": {
      "text/plain": [
       "['Capgemini Technology Services India Limited',\n",
       " 'RedLock, Inc',\n",
       " 'Super India Tech Mark',\n",
       " 'tech mahindra ltd',\n",
       " 'CONDUENT BUSINESS SERVICES INDIA LLP',\n",
       " 'GlaxoSmithKline Pharmaceuticals Limited',\n",
       " 'Myntra Designs Pvt. Ltd.',\n",
       " 'Myntra Designs Pvt. Ltd.',\n",
       " 'Myntra Designs Pvt. Ltd.',\n",
       " 'Myntra Designs Pvt. Ltd.']"
      ]
     },
     "execution_count": 12,
     "metadata": {},
     "output_type": "execute_result"
    }
   ],
   "source": [
    "#for loop to iterate over the cpmpany name tags \n",
    "for i in companies_tags:\n",
    "    company_name=i.text\n",
    "    company_names.append(company_name)\n",
    "company_names[0:10]"
   ]
  },
  {
   "cell_type": "code",
   "execution_count": 13,
   "metadata": {},
   "outputs": [
    {
     "data": {
      "text/plain": [
       "[<selenium.webdriver.remote.webelement.WebElement (session=\"495a7c5c56610023d8b0e2ccdc765364\", element=\"082744a1-bf27-44d6-84ce-089abe17b0f3\")>,\n",
       " <selenium.webdriver.remote.webelement.WebElement (session=\"495a7c5c56610023d8b0e2ccdc765364\", element=\"7269dc3a-2f2e-4ae2-99a7-c23d8175983f\")>,\n",
       " <selenium.webdriver.remote.webelement.WebElement (session=\"495a7c5c56610023d8b0e2ccdc765364\", element=\"cea8ec50-ddcb-4ebd-a009-6fb433dc672b\")>,\n",
       " <selenium.webdriver.remote.webelement.WebElement (session=\"495a7c5c56610023d8b0e2ccdc765364\", element=\"d3856b63-6549-45f0-98a9-771fc3c9c99c\")>]"
      ]
     },
     "execution_count": 13,
     "metadata": {},
     "output_type": "execute_result"
    }
   ],
   "source": [
    "#extracting all the tags for job locations\n",
    "location_tags = driver.find_elements_by_xpath(\"//li[@class='fleft grey-text br2 placeHolderLi location']\")\n",
    "location_tags[0:4]"
   ]
  },
  {
   "cell_type": "code",
   "execution_count": 14,
   "metadata": {},
   "outputs": [
    {
     "data": {
      "text/plain": [
       "['Bangalore/Bengaluru',\n",
       " 'Bangalore/Bengaluru',\n",
       " 'Bangalore/Bengaluru(Devalapur)',\n",
       " 'Bangalore/Bengaluru',\n",
       " 'Bangalore/Bengaluru',\n",
       " 'Bangalore/Bengaluru',\n",
       " 'Bangalore/Bengaluru',\n",
       " 'Bangalore/Bengaluru',\n",
       " 'Bangalore/Bengaluru',\n",
       " 'Bangalore/Bengaluru']"
      ]
     },
     "execution_count": 14,
     "metadata": {},
     "output_type": "execute_result"
    }
   ],
   "source": [
    "#running loop to iterate over the location tags \n",
    "for i in location_tags:\n",
    "    location=i.text\n",
    "    job_location.append(location)\n",
    "job_location[0:10]"
   ]
  },
  {
   "cell_type": "code",
   "execution_count": 15,
   "metadata": {},
   "outputs": [
    {
     "data": {
      "text/plain": [
       "[<selenium.webdriver.remote.webelement.WebElement (session=\"495a7c5c56610023d8b0e2ccdc765364\", element=\"9ca0bac7-6771-4d95-bf63-b0f3370924cd\")>,\n",
       " <selenium.webdriver.remote.webelement.WebElement (session=\"495a7c5c56610023d8b0e2ccdc765364\", element=\"3cedd59a-32a0-4081-b874-f6bd2a640838\")>,\n",
       " <selenium.webdriver.remote.webelement.WebElement (session=\"495a7c5c56610023d8b0e2ccdc765364\", element=\"90582528-5bdc-4f0d-add7-ee8db0bce754\")>,\n",
       " <selenium.webdriver.remote.webelement.WebElement (session=\"495a7c5c56610023d8b0e2ccdc765364\", element=\"32579729-f6a7-4fa4-b9a5-5788b2897df4\")>]"
      ]
     },
     "execution_count": 15,
     "metadata": {},
     "output_type": "execute_result"
    }
   ],
   "source": [
    "#extracting all the tags having experince required\n",
    "experience_tags = driver.find_elements_by_xpath(\"//li[@class='fleft grey-text br2 placeHolderLi experience']\")\n",
    "experience_tags[0:4]"
   ]
  },
  {
   "cell_type": "code",
   "execution_count": 16,
   "metadata": {},
   "outputs": [
    {
     "data": {
      "text/plain": [
       "['6-8 Yrs',\n",
       " '0-0 Yrs',\n",
       " '0-2 Yrs',\n",
       " '4-8 Yrs',\n",
       " '1-2 Yrs',\n",
       " '2-7 Yrs',\n",
       " '3-6 Yrs',\n",
       " '4-8 Yrs',\n",
       " '3-8 Yrs',\n",
       " '4-8 Yrs']"
      ]
     },
     "execution_count": 16,
     "metadata": {},
     "output_type": "execute_result"
    }
   ],
   "source": [
    "#running loop to iterate over the experience tags extracted\n",
    "for i in experience_tags:\n",
    "    experience=i.text\n",
    "    experienced_required.append(experience)\n",
    "experienced_required[0:10]"
   ]
  },
  {
   "cell_type": "code",
   "execution_count": 17,
   "metadata": {},
   "outputs": [
    {
     "name": "stdout",
     "output_type": "stream",
     "text": [
      "20 20 20 20\n"
     ]
    }
   ],
   "source": [
    "print(len(job_titles),len(company_names),len(job_location),len(experienced_required))"
   ]
  },
  {
   "cell_type": "code",
   "execution_count": 18,
   "metadata": {},
   "outputs": [],
   "source": [
    "#creating dataframe\n",
    "\n",
    "jobs=pd.DataFrame({})\n",
    "jobs['titles']=job_titles\n",
    "jobs['company']=company_names\n",
    "jobs['experience_required']=experienced_required\n",
    "jobs['location']=job_location"
   ]
  },
  {
   "cell_type": "code",
   "execution_count": 19,
   "metadata": {},
   "outputs": [
    {
     "data": {
      "text/html": [
       "<div>\n",
       "<style scoped>\n",
       "    .dataframe tbody tr th:only-of-type {\n",
       "        vertical-align: middle;\n",
       "    }\n",
       "\n",
       "    .dataframe tbody tr th {\n",
       "        vertical-align: top;\n",
       "    }\n",
       "\n",
       "    .dataframe thead th {\n",
       "        text-align: right;\n",
       "    }\n",
       "</style>\n",
       "<table border=\"1\" class=\"dataframe\">\n",
       "  <thead>\n",
       "    <tr style=\"text-align: right;\">\n",
       "      <th></th>\n",
       "      <th>titles</th>\n",
       "      <th>company</th>\n",
       "      <th>experience_required</th>\n",
       "      <th>location</th>\n",
       "    </tr>\n",
       "  </thead>\n",
       "  <tbody>\n",
       "    <tr>\n",
       "      <th>0</th>\n",
       "      <td>Azure Data Analyst</td>\n",
       "      <td>Capgemini Technology Services India Limited</td>\n",
       "      <td>6-8 Yrs</td>\n",
       "      <td>Bangalore/Bengaluru</td>\n",
       "    </tr>\n",
       "    <tr>\n",
       "      <th>1</th>\n",
       "      <td>Data Analyst</td>\n",
       "      <td>RedLock, Inc</td>\n",
       "      <td>0-0 Yrs</td>\n",
       "      <td>Bangalore/Bengaluru</td>\n",
       "    </tr>\n",
       "    <tr>\n",
       "      <th>2</th>\n",
       "      <td>Data Analyst</td>\n",
       "      <td>Super India Tech Mark</td>\n",
       "      <td>0-2 Yrs</td>\n",
       "      <td>Bangalore/Bengaluru(Devalapur)</td>\n",
       "    </tr>\n",
       "    <tr>\n",
       "      <th>3</th>\n",
       "      <td>Data Analyst</td>\n",
       "      <td>tech mahindra ltd</td>\n",
       "      <td>4-8 Yrs</td>\n",
       "      <td>Bangalore/Bengaluru</td>\n",
       "    </tr>\n",
       "    <tr>\n",
       "      <th>4</th>\n",
       "      <td>Data Analyst</td>\n",
       "      <td>CONDUENT BUSINESS SERVICES INDIA LLP</td>\n",
       "      <td>1-2 Yrs</td>\n",
       "      <td>Bangalore/Bengaluru</td>\n",
       "    </tr>\n",
       "    <tr>\n",
       "      <th>5</th>\n",
       "      <td>Data Analyst</td>\n",
       "      <td>GlaxoSmithKline Pharmaceuticals Limited</td>\n",
       "      <td>2-7 Yrs</td>\n",
       "      <td>Bangalore/Bengaluru</td>\n",
       "    </tr>\n",
       "    <tr>\n",
       "      <th>6</th>\n",
       "      <td>Data Analyst</td>\n",
       "      <td>Myntra Designs Pvt. Ltd.</td>\n",
       "      <td>3-6 Yrs</td>\n",
       "      <td>Bangalore/Bengaluru</td>\n",
       "    </tr>\n",
       "    <tr>\n",
       "      <th>7</th>\n",
       "      <td>Data Analyst</td>\n",
       "      <td>Myntra Designs Pvt. Ltd.</td>\n",
       "      <td>4-8 Yrs</td>\n",
       "      <td>Bangalore/Bengaluru</td>\n",
       "    </tr>\n",
       "    <tr>\n",
       "      <th>8</th>\n",
       "      <td>Data Analyst</td>\n",
       "      <td>Myntra Designs Pvt. Ltd.</td>\n",
       "      <td>3-8 Yrs</td>\n",
       "      <td>Bangalore/Bengaluru</td>\n",
       "    </tr>\n",
       "    <tr>\n",
       "      <th>9</th>\n",
       "      <td>Data Analyst</td>\n",
       "      <td>Myntra Designs Pvt. Ltd.</td>\n",
       "      <td>4-8 Yrs</td>\n",
       "      <td>Bangalore/Bengaluru</td>\n",
       "    </tr>\n",
       "  </tbody>\n",
       "</table>\n",
       "</div>"
      ],
      "text/plain": [
       "               titles                                      company  \\\n",
       "0  Azure Data Analyst  Capgemini Technology Services India Limited   \n",
       "1        Data Analyst                                 RedLock, Inc   \n",
       "2        Data Analyst                        Super India Tech Mark   \n",
       "3        Data Analyst                            tech mahindra ltd   \n",
       "4        Data Analyst         CONDUENT BUSINESS SERVICES INDIA LLP   \n",
       "5        Data Analyst      GlaxoSmithKline Pharmaceuticals Limited   \n",
       "6        Data Analyst                     Myntra Designs Pvt. Ltd.   \n",
       "7        Data Analyst                     Myntra Designs Pvt. Ltd.   \n",
       "8        Data Analyst                     Myntra Designs Pvt. Ltd.   \n",
       "9        Data Analyst                     Myntra Designs Pvt. Ltd.   \n",
       "\n",
       "  experience_required                        location  \n",
       "0             6-8 Yrs             Bangalore/Bengaluru  \n",
       "1             0-0 Yrs             Bangalore/Bengaluru  \n",
       "2             0-2 Yrs  Bangalore/Bengaluru(Devalapur)  \n",
       "3             4-8 Yrs             Bangalore/Bengaluru  \n",
       "4             1-2 Yrs             Bangalore/Bengaluru  \n",
       "5             2-7 Yrs             Bangalore/Bengaluru  \n",
       "6             3-6 Yrs             Bangalore/Bengaluru  \n",
       "7             4-8 Yrs             Bangalore/Bengaluru  \n",
       "8             3-8 Yrs             Bangalore/Bengaluru  \n",
       "9             4-8 Yrs             Bangalore/Bengaluru  "
      ]
     },
     "execution_count": 19,
     "metadata": {},
     "output_type": "execute_result"
    }
   ],
   "source": [
    "jobs[0:10]"
   ]
  },
  {
   "cell_type": "code",
   "execution_count": 20,
   "metadata": {},
   "outputs": [],
   "source": [
    "#Closing the driver\n",
    "driver.close()"
   ]
  },
  {
   "cell_type": "markdown",
   "metadata": {},
   "source": [
    "###### Q2: Write a python program to scrape data for “Data Scientist” Job position in “Bangalore” location. You have to scrape the job-title, job-location, company_name, full job-description. You have to scrape first 10 jobs data."
   ]
  },
  {
   "cell_type": "code",
   "execution_count": 22,
   "metadata": {},
   "outputs": [],
   "source": [
    "#Connect to web driver\n",
    "driver = webdriver.Chrome(r\"C:\\Users\\rahsh\\Downloads\\chromedriver_win32\\chromedriver.exe\")"
   ]
  },
  {
   "cell_type": "code",
   "execution_count": 23,
   "metadata": {},
   "outputs": [],
   "source": [
    "#Getting the website from driver\n",
    "driver.get('https://www.naukri.com/')"
   ]
  },
  {
   "cell_type": "code",
   "execution_count": 24,
   "metadata": {},
   "outputs": [],
   "source": [
    "#finding element for job search bar\n",
    "search_job = driver.find_element_by_id('qsb-keyword-sugg')\n",
    "search_job.clear()\n",
    "search_job.send_keys(\"Data Scientist\")\n",
    "search_loc = driver.find_element_by_xpath(\"//input[@id='qsb-location-sugg']\")\n",
    "search_loc.send_keys(\"Bangalore\")\n",
    "search_loc = driver.find_element_by_xpath(\"//div[@class='search-btn']/button\")\n",
    "search_loc.click()"
   ]
  },
  {
   "cell_type": "code",
   "execution_count": 25,
   "metadata": {},
   "outputs": [],
   "source": [
    "#specifying the url of the page to be scrapped\n",
    "url=\"https://www.naukri.com/data-scientist-jobs-in-bangalore?k=data%20scientist&l=bangalore\""
   ]
  },
  {
   "cell_type": "code",
   "execution_count": 26,
   "metadata": {},
   "outputs": [],
   "source": [
    "#lets open the webpage through our webdriver\n",
    "driver.get(url)"
   ]
  },
  {
   "cell_type": "code",
   "execution_count": 27,
   "metadata": {},
   "outputs": [],
   "source": [
    "#creating the empty list\n",
    "job_titles=[]\n",
    "company_names=[]\n",
    "job_location=[]\n",
    "job_description=[]"
   ]
  },
  {
   "cell_type": "code",
   "execution_count": 28,
   "metadata": {},
   "outputs": [
    {
     "data": {
      "text/plain": [
       "[<selenium.webdriver.remote.webelement.WebElement (session=\"442387200dc6e6b3599d9e1b25c2c702\", element=\"99c29e9a-7bd5-4727-b726-71d86f6dd352\")>,\n",
       " <selenium.webdriver.remote.webelement.WebElement (session=\"442387200dc6e6b3599d9e1b25c2c702\", element=\"1181fcdd-b8b9-4ace-8861-852627b28d45\")>,\n",
       " <selenium.webdriver.remote.webelement.WebElement (session=\"442387200dc6e6b3599d9e1b25c2c702\", element=\"a1847223-a52d-438d-9986-88087f2b74c5\")>,\n",
       " <selenium.webdriver.remote.webelement.WebElement (session=\"442387200dc6e6b3599d9e1b25c2c702\", element=\"11a58ace-26c2-4978-a16c-679a3a78b89c\")>,\n",
       " <selenium.webdriver.remote.webelement.WebElement (session=\"442387200dc6e6b3599d9e1b25c2c702\", element=\"1f8001e1-d2ad-416f-aaa0-3fff35a140c2\")>,\n",
       " <selenium.webdriver.remote.webelement.WebElement (session=\"442387200dc6e6b3599d9e1b25c2c702\", element=\"0fb170fc-8cba-45e9-ac61-66b067ab1313\")>,\n",
       " <selenium.webdriver.remote.webelement.WebElement (session=\"442387200dc6e6b3599d9e1b25c2c702\", element=\"fbc1246b-3833-4351-b7a7-56fb321c190c\")>,\n",
       " <selenium.webdriver.remote.webelement.WebElement (session=\"442387200dc6e6b3599d9e1b25c2c702\", element=\"72de7900-2af5-425a-82c4-3eafeac891c6\")>,\n",
       " <selenium.webdriver.remote.webelement.WebElement (session=\"442387200dc6e6b3599d9e1b25c2c702\", element=\"103faee4-1496-45f7-988d-5b77f1212ce8\")>,\n",
       " <selenium.webdriver.remote.webelement.WebElement (session=\"442387200dc6e6b3599d9e1b25c2c702\", element=\"05ed09f8-0585-4b2c-8b6c-abb6fcab5dde\")>]"
      ]
     },
     "execution_count": 28,
     "metadata": {},
     "output_type": "execute_result"
    }
   ],
   "source": [
    "#extracting all the tags having job titles\n",
    "titles_tags = driver.find_elements_by_xpath(\"//a[@class='title fw500 ellipsis']\")\n",
    "titles_tags[0:10]"
   ]
  },
  {
   "cell_type": "code",
   "execution_count": 29,
   "metadata": {},
   "outputs": [
    {
     "data": {
      "text/plain": [
       "['Data Scientist',\n",
       " 'Opportunity For Data Scientist Internship - Bengaluru',\n",
       " 'Data Scientist - Machine Learning',\n",
       " 'Data Scientist || Data Analyst || Data science',\n",
       " 'Data Scientist - IBM Garage',\n",
       " 'GAMMA Lead Data Scientist',\n",
       " 'DBCG IND - GAMMA Senior Data Scientist',\n",
       " 'Data Scientist/Senior Data Scientist',\n",
       " 'Senior Data Scientist | CES IT LTD | CMMI Level 5',\n",
       " 'Global Medical Data Scientist']"
      ]
     },
     "execution_count": 29,
     "metadata": {},
     "output_type": "execute_result"
    }
   ],
   "source": [
    "#running loop to iterate over the title tags extracted\n",
    "for i in titles_tags:\n",
    "    title=i.text\n",
    "    job_titles.append(title)\n",
    "job_titles[0:10]"
   ]
  },
  {
   "cell_type": "code",
   "execution_count": 30,
   "metadata": {},
   "outputs": [
    {
     "data": {
      "text/plain": [
       "[<selenium.webdriver.remote.webelement.WebElement (session=\"442387200dc6e6b3599d9e1b25c2c702\", element=\"775f59ce-8dd8-4119-a2d8-7cd98f4ec84a\")>,\n",
       " <selenium.webdriver.remote.webelement.WebElement (session=\"442387200dc6e6b3599d9e1b25c2c702\", element=\"2a36d3cf-b6c9-451e-83b2-8bbc957bb9b5\")>,\n",
       " <selenium.webdriver.remote.webelement.WebElement (session=\"442387200dc6e6b3599d9e1b25c2c702\", element=\"9ca36bdd-d970-40db-8fc1-2fbed20343c7\")>,\n",
       " <selenium.webdriver.remote.webelement.WebElement (session=\"442387200dc6e6b3599d9e1b25c2c702\", element=\"257325de-a175-457f-99b2-793b32480c8f\")>,\n",
       " <selenium.webdriver.remote.webelement.WebElement (session=\"442387200dc6e6b3599d9e1b25c2c702\", element=\"1820dd4e-d3f7-4fb6-a6eb-700ce07b3b80\")>,\n",
       " <selenium.webdriver.remote.webelement.WebElement (session=\"442387200dc6e6b3599d9e1b25c2c702\", element=\"24f5869b-17e6-49c8-af2a-f007bec39407\")>,\n",
       " <selenium.webdriver.remote.webelement.WebElement (session=\"442387200dc6e6b3599d9e1b25c2c702\", element=\"7f1da24a-3a76-4f9c-9ce2-c399b9d07e33\")>,\n",
       " <selenium.webdriver.remote.webelement.WebElement (session=\"442387200dc6e6b3599d9e1b25c2c702\", element=\"c531b195-36fc-44f3-a9c1-51113b06cb54\")>,\n",
       " <selenium.webdriver.remote.webelement.WebElement (session=\"442387200dc6e6b3599d9e1b25c2c702\", element=\"9d11fcfc-2848-4764-9b44-492da8cb5dab\")>,\n",
       " <selenium.webdriver.remote.webelement.WebElement (session=\"442387200dc6e6b3599d9e1b25c2c702\", element=\"0a0b5e20-956f-4293-a835-9a6c497f4f35\")>]"
      ]
     },
     "execution_count": 30,
     "metadata": {},
     "output_type": "execute_result"
    }
   ],
   "source": [
    "#extracting all the tags having the company names\n",
    "companies_tags = driver.find_elements_by_xpath(\"//a[@class='subTitle ellipsis fleft']\")\n",
    "companies_tags[0:10]"
   ]
  },
  {
   "cell_type": "code",
   "execution_count": 31,
   "metadata": {},
   "outputs": [
    {
     "data": {
      "text/plain": [
       "['CronJ IT Technologies Private Limited',\n",
       " 'Corner Stone Solutions',\n",
       " 'AugmatrixGo',\n",
       " 'Inspiration Manpower Consultancy Pvt. Ltd.',\n",
       " 'IBM India Pvt. Limited',\n",
       " 'Boston Consulting Group',\n",
       " 'Boston Consulting Group',\n",
       " 'GANIT BUSINESS SOLUTIONS PRIVATE LIMITED',\n",
       " 'CES Ltd.',\n",
       " 'GlaxoSmithKline Pharmaceuticals Limited']"
      ]
     },
     "execution_count": 31,
     "metadata": {},
     "output_type": "execute_result"
    }
   ],
   "source": [
    "#running loop to iterate over the company name tags extracted \n",
    "for i in companies_tags:\n",
    "    company_name=i.text\n",
    "    company_names.append(company_name)\n",
    "company_names[0:10]"
   ]
  },
  {
   "cell_type": "code",
   "execution_count": 32,
   "metadata": {},
   "outputs": [
    {
     "data": {
      "text/plain": [
       "[<selenium.webdriver.remote.webelement.WebElement (session=\"442387200dc6e6b3599d9e1b25c2c702\", element=\"bbcbd544-5552-4f38-a4a2-fa02a3d8cef1\")>,\n",
       " <selenium.webdriver.remote.webelement.WebElement (session=\"442387200dc6e6b3599d9e1b25c2c702\", element=\"941c0386-9365-4a0b-9a3c-396a3a6c3ac3\")>,\n",
       " <selenium.webdriver.remote.webelement.WebElement (session=\"442387200dc6e6b3599d9e1b25c2c702\", element=\"6b79649d-6587-4d1e-ab8a-6807d57e4718\")>,\n",
       " <selenium.webdriver.remote.webelement.WebElement (session=\"442387200dc6e6b3599d9e1b25c2c702\", element=\"89eca32e-ddb0-4201-a6bb-8f202ed32576\")>]"
      ]
     },
     "execution_count": 32,
     "metadata": {},
     "output_type": "execute_result"
    }
   ],
   "source": [
    "#extracting all the tags having the job locations\n",
    "location_tags = driver.find_elements_by_xpath(\"//li[@class='fleft grey-text br2 placeHolderLi location']\")\n",
    "location_tags[0:4]"
   ]
  },
  {
   "cell_type": "code",
   "execution_count": 33,
   "metadata": {},
   "outputs": [
    {
     "data": {
      "text/plain": [
       "['Bangalore/Bengaluru',\n",
       " 'Bangalore/Bengaluru',\n",
       " 'Bangalore/Bengaluru',\n",
       " 'Navi Mumbai, Bangalore/Bengaluru',\n",
       " 'Noida, Hyderabad/Secunderabad, Bangalore/Bengaluru',\n",
       " 'Mumbai, New Delhi, Chennai, Bangalore/Bengaluru',\n",
       " 'Mumbai, New Delhi, Chennai, Bangalore/Bengaluru',\n",
       " 'Hyderabad/Secunderabad, Pune, Chennai, Bangalore/Bengaluru, Mumbai (All Areas)',\n",
       " 'Kolkata, Mumbai, Hyderabad/Secunderabad, Pune, Chennai, Bangalore/Bengaluru, Delhi / NCR',\n",
       " 'Bangalore/Bengaluru']"
      ]
     },
     "execution_count": 33,
     "metadata": {},
     "output_type": "execute_result"
    }
   ],
   "source": [
    "#running loop to iterate over the tags extracted\n",
    "for i in location_tags:\n",
    "    location=i.text\n",
    "    job_location.append(location)\n",
    "job_location[0:10]"
   ]
  },
  {
   "cell_type": "code",
   "execution_count": 34,
   "metadata": {},
   "outputs": [
    {
     "data": {
      "text/plain": [
       "[<selenium.webdriver.remote.webelement.WebElement (session=\"442387200dc6e6b3599d9e1b25c2c702\", element=\"182ed185-1a8a-4afb-8c79-29ad8fd45042\")>,\n",
       " <selenium.webdriver.remote.webelement.WebElement (session=\"442387200dc6e6b3599d9e1b25c2c702\", element=\"a50a64a7-6241-42c3-bf38-0821126e9e42\")>,\n",
       " <selenium.webdriver.remote.webelement.WebElement (session=\"442387200dc6e6b3599d9e1b25c2c702\", element=\"032921e9-07ca-420a-8413-edd40e742e91\")>,\n",
       " <selenium.webdriver.remote.webelement.WebElement (session=\"442387200dc6e6b3599d9e1b25c2c702\", element=\"434f1ad9-1716-469c-93dd-5cbcc5cf04ef\")>,\n",
       " <selenium.webdriver.remote.webelement.WebElement (session=\"442387200dc6e6b3599d9e1b25c2c702\", element=\"59c82450-efbd-481c-8255-b66066861247\")>,\n",
       " <selenium.webdriver.remote.webelement.WebElement (session=\"442387200dc6e6b3599d9e1b25c2c702\", element=\"5aea721d-778d-4cd0-b8e3-4c5297224909\")>,\n",
       " <selenium.webdriver.remote.webelement.WebElement (session=\"442387200dc6e6b3599d9e1b25c2c702\", element=\"a2c1e8e5-c025-474f-a291-f9758c95ebff\")>,\n",
       " <selenium.webdriver.remote.webelement.WebElement (session=\"442387200dc6e6b3599d9e1b25c2c702\", element=\"0af134ab-5507-4caa-8f18-51d1fa3ed928\")>,\n",
       " <selenium.webdriver.remote.webelement.WebElement (session=\"442387200dc6e6b3599d9e1b25c2c702\", element=\"5929e35b-98c5-4fe4-a7d2-08aa1864212b\")>,\n",
       " <selenium.webdriver.remote.webelement.WebElement (session=\"442387200dc6e6b3599d9e1b25c2c702\", element=\"4f480f22-475d-4c44-93e4-941bacf2a4ac\")>]"
      ]
     },
     "execution_count": 34,
     "metadata": {},
     "output_type": "execute_result"
    }
   ],
   "source": [
    "#extracting all the tags having job description\n",
    "jobdescription_tags = driver.find_elements_by_xpath(\"//div[@class='job-description fs12 grey-text']\")\n",
    "jobdescription_tags[0:10]"
   ]
  },
  {
   "cell_type": "code",
   "execution_count": 35,
   "metadata": {},
   "outputs": [
    {
     "data": {
      "text/plain": [
       "['Flexibility in working independently and do needful research whenever requiredGood Know...',\n",
       " 'Looking for IIT, IIIT IISc, NIT, BIT & Equivalent colleges (Preferred)Flexibility in wo...',\n",
       " 'BTech / MTech degree in from reputed institutes like IIT / NIT / BITSSkills Required : ...',\n",
       " 'Must HaveGood to haveHuman Resources experienceAdditional Accenture HR systems experience',\n",
       " 'Required Technical and Professional ExpertisePreferred Technical and Professional Exper...',\n",
       " 'Practice Area Profile BCG GAMMA combines innovative skills in computer science, artific...',\n",
       " 'What Youll Do We re looking for a passionate and talented Senior Data Scientist to join...',\n",
       " 'Bachelors / Masters degree in Engineering / Technology or MBA from Tier-1 B School orMi...',\n",
       " 'Logical and Analytical skills must be really strongShould have experience with atleast ...',\n",
       " 'medical voice of customer feedback, customer listening, feedback from surveys and resea...']"
      ]
     },
     "execution_count": 35,
     "metadata": {},
     "output_type": "execute_result"
    }
   ],
   "source": [
    "#running loop to iterate over the tags extracted\n",
    "for i in jobdescription_tags:\n",
    "    jobdescription=i.text\n",
    "    job_description.append(jobdescription)\n",
    "job_description[0:10]"
   ]
  },
  {
   "cell_type": "code",
   "execution_count": 36,
   "metadata": {},
   "outputs": [
    {
     "name": "stdout",
     "output_type": "stream",
     "text": [
      "20 20 20 20\n"
     ]
    }
   ],
   "source": [
    "print(len(job_titles),len(company_names),len(job_location),len(job_description))"
   ]
  },
  {
   "cell_type": "code",
   "execution_count": 37,
   "metadata": {},
   "outputs": [],
   "source": [
    "#creating dataframe\n",
    "\n",
    "jobs=pd.DataFrame({})\n",
    "jobs['titles']=job_titles\n",
    "jobs['company']=company_names\n",
    "jobs['location']=job_location\n",
    "jobs['job_description']=job_description"
   ]
  },
  {
   "cell_type": "code",
   "execution_count": 38,
   "metadata": {},
   "outputs": [
    {
     "data": {
      "text/html": [
       "<div>\n",
       "<style scoped>\n",
       "    .dataframe tbody tr th:only-of-type {\n",
       "        vertical-align: middle;\n",
       "    }\n",
       "\n",
       "    .dataframe tbody tr th {\n",
       "        vertical-align: top;\n",
       "    }\n",
       "\n",
       "    .dataframe thead th {\n",
       "        text-align: right;\n",
       "    }\n",
       "</style>\n",
       "<table border=\"1\" class=\"dataframe\">\n",
       "  <thead>\n",
       "    <tr style=\"text-align: right;\">\n",
       "      <th></th>\n",
       "      <th>titles</th>\n",
       "      <th>company</th>\n",
       "      <th>location</th>\n",
       "      <th>job_description</th>\n",
       "    </tr>\n",
       "  </thead>\n",
       "  <tbody>\n",
       "    <tr>\n",
       "      <th>0</th>\n",
       "      <td>Data Scientist</td>\n",
       "      <td>CronJ IT Technologies Private Limited</td>\n",
       "      <td>Bangalore/Bengaluru</td>\n",
       "      <td>Flexibility in working independently and do ne...</td>\n",
       "    </tr>\n",
       "    <tr>\n",
       "      <th>1</th>\n",
       "      <td>Opportunity For Data Scientist Internship - Be...</td>\n",
       "      <td>Corner Stone Solutions</td>\n",
       "      <td>Bangalore/Bengaluru</td>\n",
       "      <td>Looking for IIT, IIIT IISc, NIT, BIT &amp; Equival...</td>\n",
       "    </tr>\n",
       "    <tr>\n",
       "      <th>2</th>\n",
       "      <td>Data Scientist - Machine Learning</td>\n",
       "      <td>AugmatrixGo</td>\n",
       "      <td>Bangalore/Bengaluru</td>\n",
       "      <td>BTech / MTech degree in from reputed institute...</td>\n",
       "    </tr>\n",
       "    <tr>\n",
       "      <th>3</th>\n",
       "      <td>Data Scientist || Data Analyst || Data science</td>\n",
       "      <td>Inspiration Manpower Consultancy Pvt. Ltd.</td>\n",
       "      <td>Navi Mumbai, Bangalore/Bengaluru</td>\n",
       "      <td>Must HaveGood to haveHuman Resources experienc...</td>\n",
       "    </tr>\n",
       "    <tr>\n",
       "      <th>4</th>\n",
       "      <td>Data Scientist - IBM Garage</td>\n",
       "      <td>IBM India Pvt. Limited</td>\n",
       "      <td>Noida, Hyderabad/Secunderabad, Bangalore/Benga...</td>\n",
       "      <td>Required Technical and Professional ExpertiseP...</td>\n",
       "    </tr>\n",
       "    <tr>\n",
       "      <th>5</th>\n",
       "      <td>GAMMA Lead Data Scientist</td>\n",
       "      <td>Boston Consulting Group</td>\n",
       "      <td>Mumbai, New Delhi, Chennai, Bangalore/Bengaluru</td>\n",
       "      <td>Practice Area Profile BCG GAMMA combines innov...</td>\n",
       "    </tr>\n",
       "    <tr>\n",
       "      <th>6</th>\n",
       "      <td>DBCG IND - GAMMA Senior Data Scientist</td>\n",
       "      <td>Boston Consulting Group</td>\n",
       "      <td>Mumbai, New Delhi, Chennai, Bangalore/Bengaluru</td>\n",
       "      <td>What Youll Do We re looking for a passionate a...</td>\n",
       "    </tr>\n",
       "    <tr>\n",
       "      <th>7</th>\n",
       "      <td>Data Scientist/Senior Data Scientist</td>\n",
       "      <td>GANIT BUSINESS SOLUTIONS PRIVATE LIMITED</td>\n",
       "      <td>Hyderabad/Secunderabad, Pune, Chennai, Bangalo...</td>\n",
       "      <td>Bachelors / Masters degree in Engineering / Te...</td>\n",
       "    </tr>\n",
       "    <tr>\n",
       "      <th>8</th>\n",
       "      <td>Senior Data Scientist | CES IT LTD | CMMI Level 5</td>\n",
       "      <td>CES Ltd.</td>\n",
       "      <td>Kolkata, Mumbai, Hyderabad/Secunderabad, Pune,...</td>\n",
       "      <td>Logical and Analytical skills must be really s...</td>\n",
       "    </tr>\n",
       "    <tr>\n",
       "      <th>9</th>\n",
       "      <td>Global Medical Data Scientist</td>\n",
       "      <td>GlaxoSmithKline Pharmaceuticals Limited</td>\n",
       "      <td>Bangalore/Bengaluru</td>\n",
       "      <td>medical voice of customer feedback, customer l...</td>\n",
       "    </tr>\n",
       "  </tbody>\n",
       "</table>\n",
       "</div>"
      ],
      "text/plain": [
       "                                              titles  \\\n",
       "0                                     Data Scientist   \n",
       "1  Opportunity For Data Scientist Internship - Be...   \n",
       "2                  Data Scientist - Machine Learning   \n",
       "3     Data Scientist || Data Analyst || Data science   \n",
       "4                        Data Scientist - IBM Garage   \n",
       "5                          GAMMA Lead Data Scientist   \n",
       "6             DBCG IND - GAMMA Senior Data Scientist   \n",
       "7               Data Scientist/Senior Data Scientist   \n",
       "8  Senior Data Scientist | CES IT LTD | CMMI Level 5   \n",
       "9                      Global Medical Data Scientist   \n",
       "\n",
       "                                      company  \\\n",
       "0       CronJ IT Technologies Private Limited   \n",
       "1                      Corner Stone Solutions   \n",
       "2                                 AugmatrixGo   \n",
       "3  Inspiration Manpower Consultancy Pvt. Ltd.   \n",
       "4                      IBM India Pvt. Limited   \n",
       "5                     Boston Consulting Group   \n",
       "6                     Boston Consulting Group   \n",
       "7    GANIT BUSINESS SOLUTIONS PRIVATE LIMITED   \n",
       "8                                    CES Ltd.   \n",
       "9     GlaxoSmithKline Pharmaceuticals Limited   \n",
       "\n",
       "                                            location  \\\n",
       "0                                Bangalore/Bengaluru   \n",
       "1                                Bangalore/Bengaluru   \n",
       "2                                Bangalore/Bengaluru   \n",
       "3                   Navi Mumbai, Bangalore/Bengaluru   \n",
       "4  Noida, Hyderabad/Secunderabad, Bangalore/Benga...   \n",
       "5    Mumbai, New Delhi, Chennai, Bangalore/Bengaluru   \n",
       "6    Mumbai, New Delhi, Chennai, Bangalore/Bengaluru   \n",
       "7  Hyderabad/Secunderabad, Pune, Chennai, Bangalo...   \n",
       "8  Kolkata, Mumbai, Hyderabad/Secunderabad, Pune,...   \n",
       "9                                Bangalore/Bengaluru   \n",
       "\n",
       "                                     job_description  \n",
       "0  Flexibility in working independently and do ne...  \n",
       "1  Looking for IIT, IIIT IISc, NIT, BIT & Equival...  \n",
       "2  BTech / MTech degree in from reputed institute...  \n",
       "3  Must HaveGood to haveHuman Resources experienc...  \n",
       "4  Required Technical and Professional ExpertiseP...  \n",
       "5  Practice Area Profile BCG GAMMA combines innov...  \n",
       "6  What Youll Do We re looking for a passionate a...  \n",
       "7  Bachelors / Masters degree in Engineering / Te...  \n",
       "8  Logical and Analytical skills must be really s...  \n",
       "9  medical voice of customer feedback, customer l...  "
      ]
     },
     "execution_count": 38,
     "metadata": {},
     "output_type": "execute_result"
    }
   ],
   "source": [
    "jobs[0:10]"
   ]
  },
  {
   "cell_type": "code",
   "execution_count": 39,
   "metadata": {},
   "outputs": [],
   "source": [
    "#Closing the driver\n",
    "driver.close()"
   ]
  },
  {
   "cell_type": "markdown",
   "metadata": {},
   "source": [
    "###### Q3: In this question you have to scrape data using the filters available on the webpage as shown below:\n",
    "###### You have to use the location and salary filter. You have to scrape data for “Data Scientist” designation for first 10 job results.You have to scrape the job-title, job-location, company_name, experience_required. The location filter to be used is “Delhi/NCR” The salary filter to be used is “3-6” lakhs"
   ]
  },
  {
   "cell_type": "code",
   "execution_count": 40,
   "metadata": {},
   "outputs": [],
   "source": [
    "# Importing Libraries\n",
    "import pandas as pd \n",
    "import selenium\n",
    "from selenium import webdriver\n",
    "import time"
   ]
  },
  {
   "cell_type": "code",
   "execution_count": 41,
   "metadata": {},
   "outputs": [],
   "source": [
    "#Connect to web driver\n",
    "driver = webdriver.Chrome(r\"C:\\Users\\rahsh\\Downloads\\chromedriver_win32\\chromedriver.exe\")"
   ]
  },
  {
   "cell_type": "code",
   "execution_count": 42,
   "metadata": {},
   "outputs": [],
   "source": [
    "#Getting the website from driver\n",
    "driver.get('https://www.naukri.com/')"
   ]
  },
  {
   "cell_type": "code",
   "execution_count": 43,
   "metadata": {},
   "outputs": [],
   "source": [
    "#finding element for job search bar\n",
    "search_job = driver.find_element_by_id('qsb-keyword-sugg')\n",
    "search_job.clear()\n",
    "search_job.send_keys(\"Data Scientist\")\n",
    "search_loc = driver.find_element_by_xpath(\"//input[@id='qsb-location-sugg']\")\n",
    "search_loc.send_keys(\"Delhi/NCR\")\n",
    "search_loc = driver.find_element_by_xpath(\"//div[@class='search-btn']/button\")\n",
    "search_loc.click()"
   ]
  },
  {
   "cell_type": "code",
   "execution_count": 44,
   "metadata": {},
   "outputs": [],
   "source": [
    "#specifying the url of the page to be scrapped\n",
    "url=\"https://www.naukri.com/data-scientist-jobs-in-delhi-ncr?k=data%20scientist&l=delhi%2Fncr\""
   ]
  },
  {
   "cell_type": "code",
   "execution_count": 45,
   "metadata": {},
   "outputs": [],
   "source": [
    "#lets open the webpage through our webdriver\n",
    "driver.get(url)"
   ]
  },
  {
   "cell_type": "code",
   "execution_count": 46,
   "metadata": {},
   "outputs": [],
   "source": [
    "#creating the empty list\n",
    "job_titles=[]\n",
    "company_names=[]\n",
    "job_location=[]\n",
    "experienced_required=[]"
   ]
  },
  {
   "cell_type": "code",
   "execution_count": 47,
   "metadata": {},
   "outputs": [
    {
     "data": {
      "text/plain": [
       "[<selenium.webdriver.remote.webelement.WebElement (session=\"88ec26c042fcf3689ba0070eb762291e\", element=\"ce175524-695d-4e97-b332-168fe64965f4\")>,\n",
       " <selenium.webdriver.remote.webelement.WebElement (session=\"88ec26c042fcf3689ba0070eb762291e\", element=\"7ec2deed-5b5c-446b-88b0-80250dc5e0fd\")>,\n",
       " <selenium.webdriver.remote.webelement.WebElement (session=\"88ec26c042fcf3689ba0070eb762291e\", element=\"2693ff40-eac5-4baf-b958-a3c97fa2db2e\")>,\n",
       " <selenium.webdriver.remote.webelement.WebElement (session=\"88ec26c042fcf3689ba0070eb762291e\", element=\"c9e7b7ed-6ac3-4281-a6fe-2d2355ef87cd\")>]"
      ]
     },
     "execution_count": 47,
     "metadata": {},
     "output_type": "execute_result"
    }
   ],
   "source": [
    "#extracting all the tags having job titles\n",
    "titles_tags = driver.find_elements_by_xpath(\"//a[@class='title fw500 ellipsis']\")\n",
    "titles_tags[0:4]"
   ]
  },
  {
   "cell_type": "code",
   "execution_count": 48,
   "metadata": {},
   "outputs": [
    {
     "data": {
      "text/plain": [
       "['Data Scientist - IBM Garage',\n",
       " 'GAMMA Lead Data Scientist',\n",
       " 'DBCG IND - GAMMA Senior Data Scientist',\n",
       " 'Senior Data Scientist | CES IT LTD | CMMI Level 5',\n",
       " 'Data Scientist/Data Analyst - Python/Machine Learning',\n",
       " 'Data Scientist / Data Analyst – Mobile Gaming Industry',\n",
       " 'Senior Data Scientist - Machine Learning/Hadoop',\n",
       " 'Founding Member & Principal Data Scientist - Machine Learning/Deep',\n",
       " 'Data Scientist',\n",
       " 'Females Required- Data Scientist- Noida']"
      ]
     },
     "execution_count": 48,
     "metadata": {},
     "output_type": "execute_result"
    }
   ],
   "source": [
    "#running loop to iterate over the tags extracted\n",
    "for i in titles_tags:\n",
    "    title=i.text\n",
    "    job_titles.append(title)\n",
    "job_titles[0:10]"
   ]
  },
  {
   "cell_type": "code",
   "execution_count": 49,
   "metadata": {},
   "outputs": [
    {
     "data": {
      "text/plain": [
       "[<selenium.webdriver.remote.webelement.WebElement (session=\"88ec26c042fcf3689ba0070eb762291e\", element=\"e20c719b-cff6-4fcc-8c54-af92ad3617fd\")>,\n",
       " <selenium.webdriver.remote.webelement.WebElement (session=\"88ec26c042fcf3689ba0070eb762291e\", element=\"5d09a563-bc8d-4f49-a908-4c593002cf6f\")>,\n",
       " <selenium.webdriver.remote.webelement.WebElement (session=\"88ec26c042fcf3689ba0070eb762291e\", element=\"a4b3edfe-b513-47ad-abd8-afcca65bae39\")>,\n",
       " <selenium.webdriver.remote.webelement.WebElement (session=\"88ec26c042fcf3689ba0070eb762291e\", element=\"cccf16fe-9ad1-4314-9acd-37ffbec8267f\")>]"
      ]
     },
     "execution_count": 49,
     "metadata": {},
     "output_type": "execute_result"
    }
   ],
   "source": [
    "#extracting all the tags having the company names\n",
    "companies_tags = driver.find_elements_by_xpath(\"//a[@class='subTitle ellipsis fleft']\")\n",
    "companies_tags[0:4]"
   ]
  },
  {
   "cell_type": "code",
   "execution_count": 50,
   "metadata": {},
   "outputs": [
    {
     "data": {
      "text/plain": [
       "['IBM India Pvt. Limited',\n",
       " 'Boston Consulting Group',\n",
       " 'Boston Consulting Group',\n",
       " 'CES Ltd.',\n",
       " 'Change leaders',\n",
       " 'WITZEAL TECHNOLOGIES PRIVATE LIMITED',\n",
       " 'Decision Point',\n",
       " 'Benovymed Healthcare',\n",
       " 'TransOrg Analytics',\n",
       " 'Randstad']"
      ]
     },
     "execution_count": 50,
     "metadata": {},
     "output_type": "execute_result"
    }
   ],
   "source": [
    "#running loop to iterate over the tags extracted \n",
    "for i in companies_tags:\n",
    "    company_name=i.text\n",
    "    company_names.append(company_name)\n",
    "company_names[0:10]"
   ]
  },
  {
   "cell_type": "code",
   "execution_count": 51,
   "metadata": {},
   "outputs": [
    {
     "data": {
      "text/plain": [
       "[<selenium.webdriver.remote.webelement.WebElement (session=\"88ec26c042fcf3689ba0070eb762291e\", element=\"1e7397fd-2ca5-4a92-aa37-e4f2918862a3\")>,\n",
       " <selenium.webdriver.remote.webelement.WebElement (session=\"88ec26c042fcf3689ba0070eb762291e\", element=\"4bdadb77-b069-49b4-a031-da2d989cef1c\")>,\n",
       " <selenium.webdriver.remote.webelement.WebElement (session=\"88ec26c042fcf3689ba0070eb762291e\", element=\"56f22607-4237-456c-9cdc-29cc3f28cebb\")>,\n",
       " <selenium.webdriver.remote.webelement.WebElement (session=\"88ec26c042fcf3689ba0070eb762291e\", element=\"049d7548-d0ce-4898-b191-b543681f79fd\")>]"
      ]
     },
     "execution_count": 51,
     "metadata": {},
     "output_type": "execute_result"
    }
   ],
   "source": [
    "#extracting all the tags having the job locations\n",
    "location_tags = driver.find_elements_by_xpath(\"//li[@class='fleft grey-text br2 placeHolderLi location']\")\n",
    "location_tags[0:4]"
   ]
  },
  {
   "cell_type": "code",
   "execution_count": 52,
   "metadata": {},
   "outputs": [
    {
     "data": {
      "text/plain": [
       "['Noida, Hyderabad/Secunderabad, Bangalore/Bengaluru',\n",
       " 'Mumbai, New Delhi, Chennai, Bangalore/Bengaluru',\n",
       " 'Mumbai, New Delhi, Chennai, Bangalore/Bengaluru',\n",
       " 'Kolkata, Mumbai, Hyderabad/Secunderabad, Pune, Chennai, Bangalore/Bengaluru, Delhi / NCR',\n",
       " 'Mumbai, Ghaziabad',\n",
       " 'Gurgaon/Gurugram',\n",
       " 'Gurgaon/Gurugram',\n",
       " 'Gurgaon/Gurugram',\n",
       " 'Mumbai, Gurgaon/Gurugram',\n",
       " 'Noida, Gurgaon/Gurugram, Delhi / NCR']"
      ]
     },
     "execution_count": 52,
     "metadata": {},
     "output_type": "execute_result"
    }
   ],
   "source": [
    "#running loop to iterate over the tags extracted \n",
    "for i in location_tags:\n",
    "    location=i.text\n",
    "    job_location.append(location)\n",
    "job_location[0:10]"
   ]
  },
  {
   "cell_type": "code",
   "execution_count": 53,
   "metadata": {},
   "outputs": [
    {
     "data": {
      "text/plain": [
       "[<selenium.webdriver.remote.webelement.WebElement (session=\"88ec26c042fcf3689ba0070eb762291e\", element=\"0c1f11c7-c2f0-4a42-90db-a3d9ce5785a7\")>,\n",
       " <selenium.webdriver.remote.webelement.WebElement (session=\"88ec26c042fcf3689ba0070eb762291e\", element=\"bbb5e7c3-e8b6-42fc-828f-63a4b5fc6f7f\")>,\n",
       " <selenium.webdriver.remote.webelement.WebElement (session=\"88ec26c042fcf3689ba0070eb762291e\", element=\"71c9514c-b2bf-4f57-9cd2-5623e04d0e30\")>,\n",
       " <selenium.webdriver.remote.webelement.WebElement (session=\"88ec26c042fcf3689ba0070eb762291e\", element=\"8476d287-6953-4b7b-998b-6fdcc28f42dc\")>]"
      ]
     },
     "execution_count": 53,
     "metadata": {},
     "output_type": "execute_result"
    }
   ],
   "source": [
    "#extracting all the tags having experince required\n",
    "experience_tags = driver.find_elements_by_xpath(\"//li[@class='fleft grey-text br2 placeHolderLi experience']\")\n",
    "experience_tags[0:4]"
   ]
  },
  {
   "cell_type": "code",
   "execution_count": 54,
   "metadata": {},
   "outputs": [
    {
     "data": {
      "text/plain": [
       "['5-8 Yrs',\n",
       " '7-12 Yrs',\n",
       " '6-10 Yrs',\n",
       " '2-7 Yrs',\n",
       " '5-10 Yrs',\n",
       " '4-7 Yrs',\n",
       " '2-7 Yrs',\n",
       " '3-7 Yrs',\n",
       " '3-6 Yrs',\n",
       " '3-7 Yrs']"
      ]
     },
     "execution_count": 54,
     "metadata": {},
     "output_type": "execute_result"
    }
   ],
   "source": [
    "#running loop to iterate over the tags extracted\n",
    "for i in experience_tags:\n",
    "    experience=i.text\n",
    "    experienced_required.append(experience)\n",
    "experienced_required[0:10]"
   ]
  },
  {
   "cell_type": "code",
   "execution_count": 55,
   "metadata": {},
   "outputs": [
    {
     "name": "stdout",
     "output_type": "stream",
     "text": [
      "20 20 20 20\n"
     ]
    }
   ],
   "source": [
    "print(len(job_titles),len(company_names),len(job_location),len(experienced_required))"
   ]
  },
  {
   "cell_type": "code",
   "execution_count": 56,
   "metadata": {},
   "outputs": [],
   "source": [
    "#putting in dataframe\n",
    "\n",
    "jobs=pd.DataFrame({})\n",
    "jobs['titles']=job_titles\n",
    "jobs['company']=company_names\n",
    "jobs['experience_required']=experienced_required\n",
    "jobs['location']=job_location"
   ]
  },
  {
   "cell_type": "code",
   "execution_count": 57,
   "metadata": {},
   "outputs": [
    {
     "data": {
      "text/html": [
       "<div>\n",
       "<style scoped>\n",
       "    .dataframe tbody tr th:only-of-type {\n",
       "        vertical-align: middle;\n",
       "    }\n",
       "\n",
       "    .dataframe tbody tr th {\n",
       "        vertical-align: top;\n",
       "    }\n",
       "\n",
       "    .dataframe thead th {\n",
       "        text-align: right;\n",
       "    }\n",
       "</style>\n",
       "<table border=\"1\" class=\"dataframe\">\n",
       "  <thead>\n",
       "    <tr style=\"text-align: right;\">\n",
       "      <th></th>\n",
       "      <th>titles</th>\n",
       "      <th>company</th>\n",
       "      <th>experience_required</th>\n",
       "      <th>location</th>\n",
       "    </tr>\n",
       "  </thead>\n",
       "  <tbody>\n",
       "    <tr>\n",
       "      <th>0</th>\n",
       "      <td>Data Scientist - IBM Garage</td>\n",
       "      <td>IBM India Pvt. Limited</td>\n",
       "      <td>5-8 Yrs</td>\n",
       "      <td>Noida, Hyderabad/Secunderabad, Bangalore/Benga...</td>\n",
       "    </tr>\n",
       "    <tr>\n",
       "      <th>1</th>\n",
       "      <td>GAMMA Lead Data Scientist</td>\n",
       "      <td>Boston Consulting Group</td>\n",
       "      <td>7-12 Yrs</td>\n",
       "      <td>Mumbai, New Delhi, Chennai, Bangalore/Bengaluru</td>\n",
       "    </tr>\n",
       "    <tr>\n",
       "      <th>2</th>\n",
       "      <td>DBCG IND - GAMMA Senior Data Scientist</td>\n",
       "      <td>Boston Consulting Group</td>\n",
       "      <td>6-10 Yrs</td>\n",
       "      <td>Mumbai, New Delhi, Chennai, Bangalore/Bengaluru</td>\n",
       "    </tr>\n",
       "    <tr>\n",
       "      <th>3</th>\n",
       "      <td>Senior Data Scientist | CES IT LTD | CMMI Level 5</td>\n",
       "      <td>CES Ltd.</td>\n",
       "      <td>2-7 Yrs</td>\n",
       "      <td>Kolkata, Mumbai, Hyderabad/Secunderabad, Pune,...</td>\n",
       "    </tr>\n",
       "    <tr>\n",
       "      <th>4</th>\n",
       "      <td>Data Scientist/Data Analyst - Python/Machine L...</td>\n",
       "      <td>Change leaders</td>\n",
       "      <td>5-10 Yrs</td>\n",
       "      <td>Mumbai, Ghaziabad</td>\n",
       "    </tr>\n",
       "    <tr>\n",
       "      <th>5</th>\n",
       "      <td>Data Scientist / Data Analyst – Mobile Gaming ...</td>\n",
       "      <td>WITZEAL TECHNOLOGIES PRIVATE LIMITED</td>\n",
       "      <td>4-7 Yrs</td>\n",
       "      <td>Gurgaon/Gurugram</td>\n",
       "    </tr>\n",
       "    <tr>\n",
       "      <th>6</th>\n",
       "      <td>Senior Data Scientist - Machine Learning/Hadoop</td>\n",
       "      <td>Decision Point</td>\n",
       "      <td>2-7 Yrs</td>\n",
       "      <td>Gurgaon/Gurugram</td>\n",
       "    </tr>\n",
       "    <tr>\n",
       "      <th>7</th>\n",
       "      <td>Founding Member &amp; Principal Data Scientist - M...</td>\n",
       "      <td>Benovymed Healthcare</td>\n",
       "      <td>3-7 Yrs</td>\n",
       "      <td>Gurgaon/Gurugram</td>\n",
       "    </tr>\n",
       "    <tr>\n",
       "      <th>8</th>\n",
       "      <td>Data Scientist</td>\n",
       "      <td>TransOrg Analytics</td>\n",
       "      <td>3-6 Yrs</td>\n",
       "      <td>Mumbai, Gurgaon/Gurugram</td>\n",
       "    </tr>\n",
       "    <tr>\n",
       "      <th>9</th>\n",
       "      <td>Females Required- Data Scientist- Noida</td>\n",
       "      <td>Randstad</td>\n",
       "      <td>3-7 Yrs</td>\n",
       "      <td>Noida, Gurgaon/Gurugram, Delhi / NCR</td>\n",
       "    </tr>\n",
       "  </tbody>\n",
       "</table>\n",
       "</div>"
      ],
      "text/plain": [
       "                                              titles  \\\n",
       "0                        Data Scientist - IBM Garage   \n",
       "1                          GAMMA Lead Data Scientist   \n",
       "2             DBCG IND - GAMMA Senior Data Scientist   \n",
       "3  Senior Data Scientist | CES IT LTD | CMMI Level 5   \n",
       "4  Data Scientist/Data Analyst - Python/Machine L...   \n",
       "5  Data Scientist / Data Analyst – Mobile Gaming ...   \n",
       "6    Senior Data Scientist - Machine Learning/Hadoop   \n",
       "7  Founding Member & Principal Data Scientist - M...   \n",
       "8                                     Data Scientist   \n",
       "9            Females Required- Data Scientist- Noida   \n",
       "\n",
       "                                company experience_required  \\\n",
       "0                IBM India Pvt. Limited             5-8 Yrs   \n",
       "1               Boston Consulting Group            7-12 Yrs   \n",
       "2               Boston Consulting Group            6-10 Yrs   \n",
       "3                              CES Ltd.             2-7 Yrs   \n",
       "4                        Change leaders            5-10 Yrs   \n",
       "5  WITZEAL TECHNOLOGIES PRIVATE LIMITED             4-7 Yrs   \n",
       "6                        Decision Point             2-7 Yrs   \n",
       "7                  Benovymed Healthcare             3-7 Yrs   \n",
       "8                    TransOrg Analytics             3-6 Yrs   \n",
       "9                              Randstad             3-7 Yrs   \n",
       "\n",
       "                                            location  \n",
       "0  Noida, Hyderabad/Secunderabad, Bangalore/Benga...  \n",
       "1    Mumbai, New Delhi, Chennai, Bangalore/Bengaluru  \n",
       "2    Mumbai, New Delhi, Chennai, Bangalore/Bengaluru  \n",
       "3  Kolkata, Mumbai, Hyderabad/Secunderabad, Pune,...  \n",
       "4                                  Mumbai, Ghaziabad  \n",
       "5                                   Gurgaon/Gurugram  \n",
       "6                                   Gurgaon/Gurugram  \n",
       "7                                   Gurgaon/Gurugram  \n",
       "8                           Mumbai, Gurgaon/Gurugram  \n",
       "9               Noida, Gurgaon/Gurugram, Delhi / NCR  "
      ]
     },
     "execution_count": 57,
     "metadata": {},
     "output_type": "execute_result"
    }
   ],
   "source": [
    "jobs[0:10]"
   ]
  },
  {
   "cell_type": "code",
   "execution_count": 58,
   "metadata": {},
   "outputs": [],
   "source": [
    "#Closing the driver\n",
    "driver.close()"
   ]
  },
  {
   "cell_type": "markdown",
   "metadata": {},
   "source": [
    "###### Q5: Write a python program to scrape the salary data for Data Scientist designation in Noida location.You have to scrape Company name, Number of salaries, Average salary, Min salary, Max Salary."
   ]
  },
  {
   "cell_type": "code",
   "execution_count": 64,
   "metadata": {},
   "outputs": [],
   "source": [
    "#Importing required libraries\n",
    "import selenium\n",
    "import pandas as pd\n",
    "from selenium import webdriver\n",
    "import time"
   ]
  },
  {
   "cell_type": "code",
   "execution_count": 65,
   "metadata": {},
   "outputs": [],
   "source": [
    "#Connect to web driver\n",
    "driver = webdriver.Chrome(r\"C:\\Users\\rahsh\\Downloads\\chromedriver_win32\\chromedriver.exe\")"
   ]
  },
  {
   "cell_type": "code",
   "execution_count": 66,
   "metadata": {},
   "outputs": [],
   "source": [
    "#Getting the website to driver\n",
    "driver.get('https://www.glassdoor.co.in/Salaries/index.htm')"
   ]
  },
  {
   "cell_type": "code",
   "execution_count": 67,
   "metadata": {},
   "outputs": [],
   "source": [
    "#Finding the required elements from the search bars of job and location\n",
    "job_search=driver.find_element_by_id('KeywordSearch')\n",
    "location_search=driver.find_element_by_id('LocationSearch')\n",
    "\n",
    "#Sending the inputs to the webpage\n",
    "job_search.send_keys(\"Data Scientist\")\n",
    "location_search.send_keys(\"Noida\")\n",
    "\n",
    "#Searching the inputs by using the search button and clicking it\n",
    "driver.find_element_by_xpath(\"//button[@class='gd-btn-mkt']\").click()"
   ]
  },
  {
   "cell_type": "code",
   "execution_count": 68,
   "metadata": {},
   "outputs": [],
   "source": [
    "#Specifying the url of the webpage to be scraped\n",
    "url=\"https://www.glassdoor.co.in/Salaries/new-delhi-data-scientist-salary-SRCH_IL.0,9_IM1083_KO10,24.htm?clickSource=searchBtn\"\n",
    "driver.get(url)"
   ]
  },
  {
   "cell_type": "code",
   "execution_count": 69,
   "metadata": {},
   "outputs": [
    {
     "data": {
      "text/plain": [
       "[<selenium.webdriver.remote.webelement.WebElement (session=\"4308d526ea50ca74562f5f715041f7a0\", element=\"89eb948c-688b-402c-93c7-119f749e63c4\")>,\n",
       " <selenium.webdriver.remote.webelement.WebElement (session=\"4308d526ea50ca74562f5f715041f7a0\", element=\"ee7aeac0-d8d8-45d2-b9b6-f6257d4bfab2\")>,\n",
       " <selenium.webdriver.remote.webelement.WebElement (session=\"4308d526ea50ca74562f5f715041f7a0\", element=\"0cb0ab66-bc37-42a3-8536-fca0376c11af\")>,\n",
       " <selenium.webdriver.remote.webelement.WebElement (session=\"4308d526ea50ca74562f5f715041f7a0\", element=\"c1bfc219-c6e0-4401-9910-a6d42b109c9f\")>,\n",
       " <selenium.webdriver.remote.webelement.WebElement (session=\"4308d526ea50ca74562f5f715041f7a0\", element=\"26f19e38-585a-461a-88e4-bc1fa1362547\")>,\n",
       " <selenium.webdriver.remote.webelement.WebElement (session=\"4308d526ea50ca74562f5f715041f7a0\", element=\"5ddde204-26b2-409e-8fd4-f9b253390654\")>,\n",
       " <selenium.webdriver.remote.webelement.WebElement (session=\"4308d526ea50ca74562f5f715041f7a0\", element=\"ecf4cabb-dedc-4bc4-9889-2fbef35bf4fc\")>,\n",
       " <selenium.webdriver.remote.webelement.WebElement (session=\"4308d526ea50ca74562f5f715041f7a0\", element=\"f98690c7-674a-4044-8667-be9dee8e0b30\")>,\n",
       " <selenium.webdriver.remote.webelement.WebElement (session=\"4308d526ea50ca74562f5f715041f7a0\", element=\"d6bba559-95ca-4eb8-9ff2-5bfaf639937d\")>,\n",
       " <selenium.webdriver.remote.webelement.WebElement (session=\"4308d526ea50ca74562f5f715041f7a0\", element=\"07243296-bfff-41ed-ac22-64b9214f98a1\")>,\n",
       " <selenium.webdriver.remote.webelement.WebElement (session=\"4308d526ea50ca74562f5f715041f7a0\", element=\"dd1b6f09-e38c-4c10-a2ea-440e0aa685bb\")>,\n",
       " <selenium.webdriver.remote.webelement.WebElement (session=\"4308d526ea50ca74562f5f715041f7a0\", element=\"4957358a-7ef3-442a-811a-24835cf189c9\")>,\n",
       " <selenium.webdriver.remote.webelement.WebElement (session=\"4308d526ea50ca74562f5f715041f7a0\", element=\"4f83de96-2aae-4e92-a89d-2251df1acf0b\")>,\n",
       " <selenium.webdriver.remote.webelement.WebElement (session=\"4308d526ea50ca74562f5f715041f7a0\", element=\"9734e6fd-6f02-4c0a-abb9-6b24fef1e136\")>,\n",
       " <selenium.webdriver.remote.webelement.WebElement (session=\"4308d526ea50ca74562f5f715041f7a0\", element=\"946ed8d5-5bd5-46ab-bdda-c4dd4b532eaf\")>,\n",
       " <selenium.webdriver.remote.webelement.WebElement (session=\"4308d526ea50ca74562f5f715041f7a0\", element=\"e84964a0-fc94-493b-852c-30eb2cab112b\")>,\n",
       " <selenium.webdriver.remote.webelement.WebElement (session=\"4308d526ea50ca74562f5f715041f7a0\", element=\"71179f76-31a8-4de1-bea7-2e494a7a5d43\")>,\n",
       " <selenium.webdriver.remote.webelement.WebElement (session=\"4308d526ea50ca74562f5f715041f7a0\", element=\"200094c8-b877-4cfd-96a9-98287fd32fa2\")>,\n",
       " <selenium.webdriver.remote.webelement.WebElement (session=\"4308d526ea50ca74562f5f715041f7a0\", element=\"76a0a18d-80c1-4974-acdb-71a3de9a1116\")>,\n",
       " <selenium.webdriver.remote.webelement.WebElement (session=\"4308d526ea50ca74562f5f715041f7a0\", element=\"81a9e9f0-10af-4514-b034-3d2442f96810\")>]"
      ]
     },
     "execution_count": 69,
     "metadata": {},
     "output_type": "execute_result"
    }
   ],
   "source": [
    "#Extracting the tags having the company name\n",
    "comp_name=driver.find_elements_by_xpath(\"//div[@class='d-flex']/div[2]/p[2]\")\n",
    "comp_name"
   ]
  },
  {
   "cell_type": "code",
   "execution_count": 70,
   "metadata": {},
   "outputs": [
    {
     "data": {
      "text/plain": [
       "['Tata Consultancy Services',\n",
       " 'Accenture',\n",
       " 'Delhivery',\n",
       " 'IBM',\n",
       " 'Ericsson-Worldwide',\n",
       " 'UnitedHealth Group',\n",
       " 'Valiance Solutions',\n",
       " 'Innovaccer',\n",
       " 'ZS Associates',\n",
       " 'EXL Service']"
      ]
     },
     "execution_count": 70,
     "metadata": {},
     "output_type": "execute_result"
    }
   ],
   "source": [
    "#Extracting the text from the tags\n",
    "company=[]  #Empty list\n",
    "\n",
    "#As we need to scrap data for the first 10 job results, we are running a for loop for first 10 results only\n",
    "for i in comp_name[:10]:\n",
    "    company.append(i.text)\n",
    "company"
   ]
  },
  {
   "cell_type": "code",
   "execution_count": 71,
   "metadata": {},
   "outputs": [
    {
     "data": {
      "text/plain": [
       "[<selenium.webdriver.remote.webelement.WebElement (session=\"4308d526ea50ca74562f5f715041f7a0\", element=\"c705f7d1-6803-4f7e-b548-b25bd4a94b84\")>,\n",
       " <selenium.webdriver.remote.webelement.WebElement (session=\"4308d526ea50ca74562f5f715041f7a0\", element=\"9a07e2e3-3496-4bd3-a683-fc22f7613728\")>,\n",
       " <selenium.webdriver.remote.webelement.WebElement (session=\"4308d526ea50ca74562f5f715041f7a0\", element=\"c70ccc80-8a47-4b92-9c5f-4b47ed007235\")>,\n",
       " <selenium.webdriver.remote.webelement.WebElement (session=\"4308d526ea50ca74562f5f715041f7a0\", element=\"16f14986-20bc-4dfa-827e-d4de05ce92e9\")>,\n",
       " <selenium.webdriver.remote.webelement.WebElement (session=\"4308d526ea50ca74562f5f715041f7a0\", element=\"abe134fd-d19a-4912-8a68-5790cc15f2c2\")>,\n",
       " <selenium.webdriver.remote.webelement.WebElement (session=\"4308d526ea50ca74562f5f715041f7a0\", element=\"3e313c92-df14-4636-9514-9bf2e2d5daf2\")>,\n",
       " <selenium.webdriver.remote.webelement.WebElement (session=\"4308d526ea50ca74562f5f715041f7a0\", element=\"11d3919e-3e43-4a31-8875-486ce6314f9f\")>,\n",
       " <selenium.webdriver.remote.webelement.WebElement (session=\"4308d526ea50ca74562f5f715041f7a0\", element=\"c9386ea2-6286-4c7c-a274-b7eed47d19b6\")>,\n",
       " <selenium.webdriver.remote.webelement.WebElement (session=\"4308d526ea50ca74562f5f715041f7a0\", element=\"78176839-e3f2-4d7b-a58a-04f574087d0a\")>,\n",
       " <selenium.webdriver.remote.webelement.WebElement (session=\"4308d526ea50ca74562f5f715041f7a0\", element=\"053c3509-780d-483e-9eab-8d835761ad95\")>,\n",
       " <selenium.webdriver.remote.webelement.WebElement (session=\"4308d526ea50ca74562f5f715041f7a0\", element=\"0c4ea13d-9ec7-41c5-86d9-a8a8f6e730f0\")>,\n",
       " <selenium.webdriver.remote.webelement.WebElement (session=\"4308d526ea50ca74562f5f715041f7a0\", element=\"d81e25f8-b47f-4af1-a2ef-4e482ff01038\")>,\n",
       " <selenium.webdriver.remote.webelement.WebElement (session=\"4308d526ea50ca74562f5f715041f7a0\", element=\"87a81183-102a-4009-ade2-804c7e9f7e16\")>,\n",
       " <selenium.webdriver.remote.webelement.WebElement (session=\"4308d526ea50ca74562f5f715041f7a0\", element=\"a5a09fd3-a7c6-4d68-a027-37a50a264cc5\")>,\n",
       " <selenium.webdriver.remote.webelement.WebElement (session=\"4308d526ea50ca74562f5f715041f7a0\", element=\"8b60495a-0207-4795-82bd-c30e3b010b41\")>,\n",
       " <selenium.webdriver.remote.webelement.WebElement (session=\"4308d526ea50ca74562f5f715041f7a0\", element=\"e5069ef0-322a-4d09-9f00-b4558a355006\")>,\n",
       " <selenium.webdriver.remote.webelement.WebElement (session=\"4308d526ea50ca74562f5f715041f7a0\", element=\"98c72fba-fe42-4c55-81da-6f48118ae4d0\")>,\n",
       " <selenium.webdriver.remote.webelement.WebElement (session=\"4308d526ea50ca74562f5f715041f7a0\", element=\"ff8d4fc2-ad9c-4c8c-b534-bc7a4b469828\")>,\n",
       " <selenium.webdriver.remote.webelement.WebElement (session=\"4308d526ea50ca74562f5f715041f7a0\", element=\"4edc7841-2211-48e7-9a4f-bfef97c35943\")>,\n",
       " <selenium.webdriver.remote.webelement.WebElement (session=\"4308d526ea50ca74562f5f715041f7a0\", element=\"f99dd142-3f7c-406a-bbb3-b9655d80ea3d\")>]"
      ]
     },
     "execution_count": 71,
     "metadata": {},
     "output_type": "execute_result"
    }
   ],
   "source": [
    "#Extracting the tags having the number of salaries\n",
    "no_salaries=driver.find_elements_by_xpath(\"//div[@class='d-flex']/div[2]/p[5]\")\n",
    "no_salaries"
   ]
  },
  {
   "cell_type": "code",
   "execution_count": 72,
   "metadata": {},
   "outputs": [
    {
     "data": {
      "text/plain": [
       "['14 salaries',\n",
       " '14 salaries',\n",
       " '14 salaries',\n",
       " '13 salaries',\n",
       " '12 salaries',\n",
       " '10 salaries',\n",
       " '9 salaries',\n",
       " '8 salaries',\n",
       " '7 salaries',\n",
       " '7 salaries']"
      ]
     },
     "execution_count": 72,
     "metadata": {},
     "output_type": "execute_result"
    }
   ],
   "source": [
    "#Extracting the text from the tags\n",
    "no_of_salaries=[] \n",
    "\n",
    "#running a for loop for first 10 results only\n",
    "for i in no_salaries[:10]:\n",
    "    no_of_salaries.append(i.text)\n",
    "no_of_salaries"
   ]
  },
  {
   "cell_type": "code",
   "execution_count": 73,
   "metadata": {},
   "outputs": [
    {
     "data": {
      "text/plain": [
       "[<selenium.webdriver.remote.webelement.WebElement (session=\"4308d526ea50ca74562f5f715041f7a0\", element=\"533481c6-a2f9-4a56-b18e-c8dd49a9e660\")>,\n",
       " <selenium.webdriver.remote.webelement.WebElement (session=\"4308d526ea50ca74562f5f715041f7a0\", element=\"3c4fe434-a4b2-46ff-8745-d9c752eebbf0\")>,\n",
       " <selenium.webdriver.remote.webelement.WebElement (session=\"4308d526ea50ca74562f5f715041f7a0\", element=\"8f5993bd-e2f4-48d0-881f-0782d1ef6e22\")>,\n",
       " <selenium.webdriver.remote.webelement.WebElement (session=\"4308d526ea50ca74562f5f715041f7a0\", element=\"49472180-7933-4143-8fda-4162011d9404\")>,\n",
       " <selenium.webdriver.remote.webelement.WebElement (session=\"4308d526ea50ca74562f5f715041f7a0\", element=\"88e071ba-0ae3-4bc2-a1e1-3ddb3e1a009d\")>,\n",
       " <selenium.webdriver.remote.webelement.WebElement (session=\"4308d526ea50ca74562f5f715041f7a0\", element=\"c9f8e204-3984-477d-88ec-380cc6f4a749\")>,\n",
       " <selenium.webdriver.remote.webelement.WebElement (session=\"4308d526ea50ca74562f5f715041f7a0\", element=\"4cdcb7f6-b709-466a-9b17-eebccbd9d1b3\")>,\n",
       " <selenium.webdriver.remote.webelement.WebElement (session=\"4308d526ea50ca74562f5f715041f7a0\", element=\"429a9e8d-86a9-4c30-b22f-12e139e2fd51\")>,\n",
       " <selenium.webdriver.remote.webelement.WebElement (session=\"4308d526ea50ca74562f5f715041f7a0\", element=\"58bb495f-4d21-42c4-8210-396c098c997f\")>,\n",
       " <selenium.webdriver.remote.webelement.WebElement (session=\"4308d526ea50ca74562f5f715041f7a0\", element=\"0d3076b9-1fc7-4d0c-820c-f15c5ccb9d15\")>,\n",
       " <selenium.webdriver.remote.webelement.WebElement (session=\"4308d526ea50ca74562f5f715041f7a0\", element=\"98df0b21-6d3e-45ee-8e00-539def32da10\")>,\n",
       " <selenium.webdriver.remote.webelement.WebElement (session=\"4308d526ea50ca74562f5f715041f7a0\", element=\"9e8c223d-d84a-4eeb-8c05-6aaa93811bfa\")>,\n",
       " <selenium.webdriver.remote.webelement.WebElement (session=\"4308d526ea50ca74562f5f715041f7a0\", element=\"c3351e6c-a2d8-4263-a3d6-b2f0c4d0d8d7\")>,\n",
       " <selenium.webdriver.remote.webelement.WebElement (session=\"4308d526ea50ca74562f5f715041f7a0\", element=\"575c79cf-816f-4aae-89ae-91c206d4f43c\")>,\n",
       " <selenium.webdriver.remote.webelement.WebElement (session=\"4308d526ea50ca74562f5f715041f7a0\", element=\"a367e5d2-651d-4a2d-910c-798c34eec106\")>,\n",
       " <selenium.webdriver.remote.webelement.WebElement (session=\"4308d526ea50ca74562f5f715041f7a0\", element=\"04173949-61b6-4246-8659-9ae01e19fe7c\")>,\n",
       " <selenium.webdriver.remote.webelement.WebElement (session=\"4308d526ea50ca74562f5f715041f7a0\", element=\"27fa39a3-c57c-44a4-89d5-e753c00ce739\")>,\n",
       " <selenium.webdriver.remote.webelement.WebElement (session=\"4308d526ea50ca74562f5f715041f7a0\", element=\"352ecb29-0996-455e-b911-adab576b4aaf\")>,\n",
       " <selenium.webdriver.remote.webelement.WebElement (session=\"4308d526ea50ca74562f5f715041f7a0\", element=\"b93b15d5-eb09-47d2-964a-4c696d47115a\")>,\n",
       " <selenium.webdriver.remote.webelement.WebElement (session=\"4308d526ea50ca74562f5f715041f7a0\", element=\"dc8bbee9-19ef-48d9-90a1-24faf419ed2f\")>]"
      ]
     },
     "execution_count": 73,
     "metadata": {},
     "output_type": "execute_result"
    }
   ],
   "source": [
    "#Extracting the tags having average salary\n",
    "avg_sal=driver.find_elements_by_xpath(\"//div[@class='col-2 d-none d-md-flex flex-row justify-content-end']\")\n",
    "avg_sal"
   ]
  },
  {
   "cell_type": "code",
   "execution_count": 74,
   "metadata": {},
   "outputs": [
    {
     "data": {
      "text/plain": [
       "['₹ 5,97,967/yr',\n",
       " '₹ 11,12,243/yr',\n",
       " '₹ 12,12,741/yr',\n",
       " '₹ 7,37,972/yr',\n",
       " '₹ 7,15,984/yr',\n",
       " '₹ 13,41,900/yr',\n",
       " '₹ 7,90,812/yr',\n",
       " '₹ 11,81,047/yr',\n",
       " '₹ 9,89,924/yr',\n",
       " '₹ 11,73,127/yr']"
      ]
     },
     "execution_count": 74,
     "metadata": {},
     "output_type": "execute_result"
    }
   ],
   "source": [
    "#Extracting the text from the tags\n",
    "avg_salary=[]  #Empty list\n",
    "\n",
    "#As we need to scrap data for the first 10 job results, we are running a for loop for first 10 results only\n",
    "for i in avg_sal[:10]:\n",
    "    avg_salary.append(i.text.replace('\\n',''))\n",
    "avg_salary"
   ]
  },
  {
   "cell_type": "code",
   "execution_count": 75,
   "metadata": {},
   "outputs": [
    {
     "data": {
      "text/plain": [
       "[<selenium.webdriver.remote.webelement.WebElement (session=\"4308d526ea50ca74562f5f715041f7a0\", element=\"edceec8a-a3e4-4e31-b8b3-f6a121de80be\")>,\n",
       " <selenium.webdriver.remote.webelement.WebElement (session=\"4308d526ea50ca74562f5f715041f7a0\", element=\"9bbd56de-3ad1-43d2-b578-85d07b366341\")>,\n",
       " <selenium.webdriver.remote.webelement.WebElement (session=\"4308d526ea50ca74562f5f715041f7a0\", element=\"0f0efd5e-ec89-431c-a1c8-088a7c1d4159\")>,\n",
       " <selenium.webdriver.remote.webelement.WebElement (session=\"4308d526ea50ca74562f5f715041f7a0\", element=\"efcbb67c-f873-4892-9e9f-027b9865faff\")>,\n",
       " <selenium.webdriver.remote.webelement.WebElement (session=\"4308d526ea50ca74562f5f715041f7a0\", element=\"2487948c-4dac-42b6-bb6c-f376a887b6c3\")>,\n",
       " <selenium.webdriver.remote.webelement.WebElement (session=\"4308d526ea50ca74562f5f715041f7a0\", element=\"65d5f429-8578-43f5-a069-d3c33c787293\")>,\n",
       " <selenium.webdriver.remote.webelement.WebElement (session=\"4308d526ea50ca74562f5f715041f7a0\", element=\"59dbb1e0-a4db-424d-a932-7a16d9cbe23a\")>,\n",
       " <selenium.webdriver.remote.webelement.WebElement (session=\"4308d526ea50ca74562f5f715041f7a0\", element=\"b385c643-4d22-4feb-bc1c-4b3f3935d5dd\")>,\n",
       " <selenium.webdriver.remote.webelement.WebElement (session=\"4308d526ea50ca74562f5f715041f7a0\", element=\"734ea38b-ec02-489d-a5a6-c0a34ed7ddcf\")>,\n",
       " <selenium.webdriver.remote.webelement.WebElement (session=\"4308d526ea50ca74562f5f715041f7a0\", element=\"bac7a983-8b8d-4ee9-a307-cb34ae6c136a\")>,\n",
       " <selenium.webdriver.remote.webelement.WebElement (session=\"4308d526ea50ca74562f5f715041f7a0\", element=\"43dca5ae-50a1-491c-9305-1962b45a9543\")>,\n",
       " <selenium.webdriver.remote.webelement.WebElement (session=\"4308d526ea50ca74562f5f715041f7a0\", element=\"335bb347-825b-449b-8a50-4b253a743249\")>,\n",
       " <selenium.webdriver.remote.webelement.WebElement (session=\"4308d526ea50ca74562f5f715041f7a0\", element=\"5ab028b5-08c7-481f-9f87-c912799dba10\")>,\n",
       " <selenium.webdriver.remote.webelement.WebElement (session=\"4308d526ea50ca74562f5f715041f7a0\", element=\"140e75ea-ea5a-4c86-8b53-7405bd73039e\")>,\n",
       " <selenium.webdriver.remote.webelement.WebElement (session=\"4308d526ea50ca74562f5f715041f7a0\", element=\"a1f86fdc-287b-4027-b762-a581c8d1487f\")>,\n",
       " <selenium.webdriver.remote.webelement.WebElement (session=\"4308d526ea50ca74562f5f715041f7a0\", element=\"5ba1fc07-7546-47fa-940b-318839ae4f86\")>,\n",
       " <selenium.webdriver.remote.webelement.WebElement (session=\"4308d526ea50ca74562f5f715041f7a0\", element=\"38915065-afb7-454b-9717-50c2e6067690\")>,\n",
       " <selenium.webdriver.remote.webelement.WebElement (session=\"4308d526ea50ca74562f5f715041f7a0\", element=\"e00bcdd4-ebf7-42e9-9654-94a8f277133e\")>,\n",
       " <selenium.webdriver.remote.webelement.WebElement (session=\"4308d526ea50ca74562f5f715041f7a0\", element=\"c47ef2df-1df7-4a73-a925-08b79d4eccb9\")>,\n",
       " <selenium.webdriver.remote.webelement.WebElement (session=\"4308d526ea50ca74562f5f715041f7a0\", element=\"adc5e187-a29d-4175-a3f7-15b3e0979888\")>]"
      ]
     },
     "execution_count": 75,
     "metadata": {},
     "output_type": "execute_result"
    }
   ],
   "source": [
    "#Extracting the tags having minimum salary\n",
    "min_sal=driver.find_elements_by_xpath(\"//div[@class='col-3 offset-1 d-none d-md-block']/div/div[2]/span[1]\")\n",
    "min_sal"
   ]
  },
  {
   "cell_type": "code",
   "execution_count": 76,
   "metadata": {},
   "outputs": [
    {
     "data": {
      "text/plain": [
       "['₹333K',\n",
       " '₹560K',\n",
       " '₹436K',\n",
       " '₹569K',\n",
       " '₹350K',\n",
       " '₹1,037K',\n",
       " '₹487K',\n",
       " '₹602K',\n",
       " '₹196K',\n",
       " '₹558K']"
      ]
     },
     "execution_count": 76,
     "metadata": {},
     "output_type": "execute_result"
    }
   ],
   "source": [
    "#Extracting the text from the tags\n",
    "min_salary=[]  #Empty list\n",
    "\n",
    "#As we need to scrap data for the first 10 job results, we are running a for loop for first 10 results only\n",
    "for i in min_sal[:10]:\n",
    "    min_salary.append(i.text)\n",
    "min_salary"
   ]
  },
  {
   "cell_type": "code",
   "execution_count": 77,
   "metadata": {},
   "outputs": [
    {
     "data": {
      "text/plain": [
       "[<selenium.webdriver.remote.webelement.WebElement (session=\"4308d526ea50ca74562f5f715041f7a0\", element=\"29a8404b-151c-4fa8-87e5-04f1ddccdd5b\")>,\n",
       " <selenium.webdriver.remote.webelement.WebElement (session=\"4308d526ea50ca74562f5f715041f7a0\", element=\"7784d9bd-1a83-4c4c-af3e-a5885a8ac173\")>,\n",
       " <selenium.webdriver.remote.webelement.WebElement (session=\"4308d526ea50ca74562f5f715041f7a0\", element=\"c1e23e81-f370-4bec-b879-67a4772ada9a\")>,\n",
       " <selenium.webdriver.remote.webelement.WebElement (session=\"4308d526ea50ca74562f5f715041f7a0\", element=\"957928bc-9a5f-421d-b80d-4afd720f1427\")>,\n",
       " <selenium.webdriver.remote.webelement.WebElement (session=\"4308d526ea50ca74562f5f715041f7a0\", element=\"be7952e1-510d-487b-b191-e00bc92574b9\")>,\n",
       " <selenium.webdriver.remote.webelement.WebElement (session=\"4308d526ea50ca74562f5f715041f7a0\", element=\"e69dd3e2-108d-4feb-bb97-1a9f322a0586\")>,\n",
       " <selenium.webdriver.remote.webelement.WebElement (session=\"4308d526ea50ca74562f5f715041f7a0\", element=\"634a0b88-9516-461e-8d66-13de2e602612\")>,\n",
       " <selenium.webdriver.remote.webelement.WebElement (session=\"4308d526ea50ca74562f5f715041f7a0\", element=\"ac59736f-c96a-4e0c-8395-4b8e3d63cf3d\")>,\n",
       " <selenium.webdriver.remote.webelement.WebElement (session=\"4308d526ea50ca74562f5f715041f7a0\", element=\"274ccfc2-b7af-44da-9023-e646840579d7\")>,\n",
       " <selenium.webdriver.remote.webelement.WebElement (session=\"4308d526ea50ca74562f5f715041f7a0\", element=\"f2be6c4b-071b-4e9e-b0aa-c3c605b2e4f0\")>,\n",
       " <selenium.webdriver.remote.webelement.WebElement (session=\"4308d526ea50ca74562f5f715041f7a0\", element=\"d26993c6-20e0-495d-bebe-4c935b43c813\")>,\n",
       " <selenium.webdriver.remote.webelement.WebElement (session=\"4308d526ea50ca74562f5f715041f7a0\", element=\"108e56ed-74c1-4787-888a-07227a56bdee\")>,\n",
       " <selenium.webdriver.remote.webelement.WebElement (session=\"4308d526ea50ca74562f5f715041f7a0\", element=\"058cbd75-51a0-4fc5-b045-ec32c031d7d5\")>,\n",
       " <selenium.webdriver.remote.webelement.WebElement (session=\"4308d526ea50ca74562f5f715041f7a0\", element=\"15c82742-cc2a-4eab-bcc0-77252b8d0792\")>,\n",
       " <selenium.webdriver.remote.webelement.WebElement (session=\"4308d526ea50ca74562f5f715041f7a0\", element=\"92ad6d90-67bd-489e-b9c2-da12ee257612\")>,\n",
       " <selenium.webdriver.remote.webelement.WebElement (session=\"4308d526ea50ca74562f5f715041f7a0\", element=\"91ab5ae2-5190-4023-90cd-406b2c367ec1\")>,\n",
       " <selenium.webdriver.remote.webelement.WebElement (session=\"4308d526ea50ca74562f5f715041f7a0\", element=\"3407d14a-a174-4b4b-9949-2112b80e34ae\")>,\n",
       " <selenium.webdriver.remote.webelement.WebElement (session=\"4308d526ea50ca74562f5f715041f7a0\", element=\"29319316-4590-4a7c-9cd6-e17fdca7a59d\")>,\n",
       " <selenium.webdriver.remote.webelement.WebElement (session=\"4308d526ea50ca74562f5f715041f7a0\", element=\"4b65d090-c04a-46e4-8019-ad599a1665a0\")>,\n",
       " <selenium.webdriver.remote.webelement.WebElement (session=\"4308d526ea50ca74562f5f715041f7a0\", element=\"35c1a3e2-5195-4420-8c30-7f45acf3492c\")>]"
      ]
     },
     "execution_count": 77,
     "metadata": {},
     "output_type": "execute_result"
    }
   ],
   "source": [
    "#Extracting the tags having the maximum salary\n",
    "max_sal=driver.find_elements_by_xpath(\"//div[@class='col-3 offset-1 d-none d-md-block']/div/div[2]/span[2]\")\n",
    "max_sal"
   ]
  },
  {
   "cell_type": "code",
   "execution_count": 78,
   "metadata": {},
   "outputs": [
    {
     "data": {
      "text/plain": [
       "['₹1,080K',\n",
       " '₹2,147K',\n",
       " '₹11,274K',\n",
       " '₹2,648K',\n",
       " '₹1,565K',\n",
       " '₹1,500K',\n",
       " '₹1,421K',\n",
       " '₹1,644K',\n",
       " '₹1,755K',\n",
       " '₹1,500K']"
      ]
     },
     "execution_count": 78,
     "metadata": {},
     "output_type": "execute_result"
    }
   ],
   "source": [
    "#Extracting the text from the tags\n",
    "max_salary=[]  #Empty list\n",
    "\n",
    "#As we need to scrap data for the first 10 job results, we are running a for loop for first 10 results only\n",
    "for i in max_sal[:10]:\n",
    "    max_salary.append(i.text)\n",
    "max_salary"
   ]
  },
  {
   "cell_type": "code",
   "execution_count": 79,
   "metadata": {},
   "outputs": [
    {
     "name": "stdout",
     "output_type": "stream",
     "text": [
      "10 10 10 10 10\n"
     ]
    }
   ],
   "source": [
    "#Checking out the length of the data extracted\n",
    "print(len(company),len(no_of_salaries),len(avg_salary),len(min_salary),len(max_salary))"
   ]
  },
  {
   "cell_type": "code",
   "execution_count": 80,
   "metadata": {},
   "outputs": [
    {
     "data": {
      "text/html": [
       "<div>\n",
       "<style scoped>\n",
       "    .dataframe tbody tr th:only-of-type {\n",
       "        vertical-align: middle;\n",
       "    }\n",
       "\n",
       "    .dataframe tbody tr th {\n",
       "        vertical-align: top;\n",
       "    }\n",
       "\n",
       "    .dataframe thead th {\n",
       "        text-align: right;\n",
       "    }\n",
       "</style>\n",
       "<table border=\"1\" class=\"dataframe\">\n",
       "  <thead>\n",
       "    <tr style=\"text-align: right;\">\n",
       "      <th></th>\n",
       "      <th>Company Name</th>\n",
       "      <th>Number of salaries</th>\n",
       "      <th>Average salary</th>\n",
       "      <th>Minimum salary</th>\n",
       "      <th>Maximum salary</th>\n",
       "    </tr>\n",
       "  </thead>\n",
       "  <tbody>\n",
       "    <tr>\n",
       "      <th>0</th>\n",
       "      <td>Tata Consultancy Services</td>\n",
       "      <td>14 salaries</td>\n",
       "      <td>₹ 5,97,967/yr</td>\n",
       "      <td>₹333K</td>\n",
       "      <td>₹1,080K</td>\n",
       "    </tr>\n",
       "    <tr>\n",
       "      <th>1</th>\n",
       "      <td>Accenture</td>\n",
       "      <td>14 salaries</td>\n",
       "      <td>₹ 11,12,243/yr</td>\n",
       "      <td>₹560K</td>\n",
       "      <td>₹2,147K</td>\n",
       "    </tr>\n",
       "    <tr>\n",
       "      <th>2</th>\n",
       "      <td>Delhivery</td>\n",
       "      <td>14 salaries</td>\n",
       "      <td>₹ 12,12,741/yr</td>\n",
       "      <td>₹436K</td>\n",
       "      <td>₹11,274K</td>\n",
       "    </tr>\n",
       "    <tr>\n",
       "      <th>3</th>\n",
       "      <td>IBM</td>\n",
       "      <td>13 salaries</td>\n",
       "      <td>₹ 7,37,972/yr</td>\n",
       "      <td>₹569K</td>\n",
       "      <td>₹2,648K</td>\n",
       "    </tr>\n",
       "    <tr>\n",
       "      <th>4</th>\n",
       "      <td>Ericsson-Worldwide</td>\n",
       "      <td>12 salaries</td>\n",
       "      <td>₹ 7,15,984/yr</td>\n",
       "      <td>₹350K</td>\n",
       "      <td>₹1,565K</td>\n",
       "    </tr>\n",
       "    <tr>\n",
       "      <th>5</th>\n",
       "      <td>UnitedHealth Group</td>\n",
       "      <td>10 salaries</td>\n",
       "      <td>₹ 13,41,900/yr</td>\n",
       "      <td>₹1,037K</td>\n",
       "      <td>₹1,500K</td>\n",
       "    </tr>\n",
       "    <tr>\n",
       "      <th>6</th>\n",
       "      <td>Valiance Solutions</td>\n",
       "      <td>9 salaries</td>\n",
       "      <td>₹ 7,90,812/yr</td>\n",
       "      <td>₹487K</td>\n",
       "      <td>₹1,421K</td>\n",
       "    </tr>\n",
       "    <tr>\n",
       "      <th>7</th>\n",
       "      <td>Innovaccer</td>\n",
       "      <td>8 salaries</td>\n",
       "      <td>₹ 11,81,047/yr</td>\n",
       "      <td>₹602K</td>\n",
       "      <td>₹1,644K</td>\n",
       "    </tr>\n",
       "    <tr>\n",
       "      <th>8</th>\n",
       "      <td>ZS Associates</td>\n",
       "      <td>7 salaries</td>\n",
       "      <td>₹ 9,89,924/yr</td>\n",
       "      <td>₹196K</td>\n",
       "      <td>₹1,755K</td>\n",
       "    </tr>\n",
       "    <tr>\n",
       "      <th>9</th>\n",
       "      <td>EXL Service</td>\n",
       "      <td>7 salaries</td>\n",
       "      <td>₹ 11,73,127/yr</td>\n",
       "      <td>₹558K</td>\n",
       "      <td>₹1,500K</td>\n",
       "    </tr>\n",
       "  </tbody>\n",
       "</table>\n",
       "</div>"
      ],
      "text/plain": [
       "                Company Name Number of salaries  Average salary  \\\n",
       "0  Tata Consultancy Services        14 salaries   ₹ 5,97,967/yr   \n",
       "1                  Accenture        14 salaries  ₹ 11,12,243/yr   \n",
       "2                  Delhivery        14 salaries  ₹ 12,12,741/yr   \n",
       "3                        IBM        13 salaries   ₹ 7,37,972/yr   \n",
       "4         Ericsson-Worldwide        12 salaries   ₹ 7,15,984/yr   \n",
       "5         UnitedHealth Group        10 salaries  ₹ 13,41,900/yr   \n",
       "6         Valiance Solutions         9 salaries   ₹ 7,90,812/yr   \n",
       "7                 Innovaccer         8 salaries  ₹ 11,81,047/yr   \n",
       "8              ZS Associates         7 salaries   ₹ 9,89,924/yr   \n",
       "9                EXL Service         7 salaries  ₹ 11,73,127/yr   \n",
       "\n",
       "  Minimum salary Maximum salary  \n",
       "0          ₹333K        ₹1,080K  \n",
       "1          ₹560K        ₹2,147K  \n",
       "2          ₹436K       ₹11,274K  \n",
       "3          ₹569K        ₹2,648K  \n",
       "4          ₹350K        ₹1,565K  \n",
       "5        ₹1,037K        ₹1,500K  \n",
       "6          ₹487K        ₹1,421K  \n",
       "7          ₹602K        ₹1,644K  \n",
       "8          ₹196K        ₹1,755K  \n",
       "9          ₹558K        ₹1,500K  "
      ]
     },
     "execution_count": 80,
     "metadata": {},
     "output_type": "execute_result"
    }
   ],
   "source": [
    "#Creating a new dataframe for saving the data\n",
    "jobs=pd.DataFrame({})\n",
    "jobs['Company Name']=company\n",
    "jobs['Number of salaries']=no_of_salaries\n",
    "jobs['Average salary']=avg_salary\n",
    "jobs['Minimum salary']=min_salary\n",
    "jobs['Maximum salary']=max_salary\n",
    "jobs"
   ]
  },
  {
   "cell_type": "code",
   "execution_count": 81,
   "metadata": {},
   "outputs": [],
   "source": [
    "#Closing the driver\n",
    "driver.close()"
   ]
  },
  {
   "cell_type": "markdown",
   "metadata": {},
   "source": [
    "###### Q6 : Scrape data of first 100 sunglasses listings on flipkart.com. You have to scrape four attributes:\n",
    "###### 1. Brand 2. Product Description 3. Price 4. Discount %"
   ]
  },
  {
   "cell_type": "code",
   "execution_count": 82,
   "metadata": {},
   "outputs": [],
   "source": [
    "# Importing Libraries\n",
    "import pandas as pd\n",
    "import selenium\n",
    "from selenium import webdriver\n",
    "import time\n",
    "from selenium.common.exceptions import StaleElementReferenceException, NoSuchElementException,ElementNotInteractableException,InvalidArgumentException,InvalidCookieDomainException"
   ]
  },
  {
   "cell_type": "code",
   "execution_count": 84,
   "metadata": {},
   "outputs": [],
   "source": [
    "#connecting to the webdriver\n",
    "driver = webdriver.Chrome(r\"C:\\Users\\rahsh\\Downloads\\chromedriver_win32\\chromedriver.exe\")"
   ]
  },
  {
   "cell_type": "code",
   "execution_count": 85,
   "metadata": {},
   "outputs": [],
   "source": [
    "#Getting the website to driver\n",
    "driver.get('https://www.flipkart.com/search?q=sunglasses&otracker=search&otracker1=search&marketplace=FLIPKART&as-show=on&as=off')"
   ]
  },
  {
   "cell_type": "code",
   "execution_count": 86,
   "metadata": {},
   "outputs": [],
   "source": [
    "#specifying the url of the webpage to be scraped\n",
    "url=\"https://www.flipkart.com/search?q=sunglasses&otracker=search&otracker1=search&marketplace=FLIPKART&as-show=on&as=off\""
   ]
  },
  {
   "cell_type": "code",
   "execution_count": 87,
   "metadata": {},
   "outputs": [],
   "source": [
    "#opening the webpage through our driver\n",
    "driver.get(url)"
   ]
  },
  {
   "cell_type": "code",
   "execution_count": 88,
   "metadata": {},
   "outputs": [],
   "source": [
    "#creating the empty lists\n",
    "Brand=[]\n",
    "Product_Description=[]\n",
    "Price=[]\n",
    "Discount=[]"
   ]
  },
  {
   "cell_type": "code",
   "execution_count": 89,
   "metadata": {},
   "outputs": [],
   "source": [
    "#getting the list of url of first 100 sunglasses\n",
    "URL=[]\n",
    "for i in range(0,3):\n",
    "    sunglasses=driver.find_elements_by_xpath(\"//a[@class='_2UzuFa']\")[0:100]\n",
    "    for i in sunglasses:\n",
    "        URL.append(i.get_attribute('href'))\n",
    "    driver.find_element_by_xpath('//*[@id=\"container\"]/div/div[3]/div[1]/div[2]/div[12]/div/div/nav/a[11]').click()\n",
    "    time.sleep(3)"
   ]
  },
  {
   "cell_type": "code",
   "execution_count": 90,
   "metadata": {},
   "outputs": [],
   "source": [
    "list_of_url=URL[0:100]"
   ]
  },
  {
   "cell_type": "code",
   "execution_count": 91,
   "metadata": {},
   "outputs": [
    {
     "data": {
      "text/plain": [
       "100"
      ]
     },
     "execution_count": 91,
     "metadata": {},
     "output_type": "execute_result"
    }
   ],
   "source": [
    "len(list_of_url)"
   ]
  },
  {
   "cell_type": "code",
   "execution_count": 92,
   "metadata": {},
   "outputs": [],
   "source": [
    "#going to the url of first sunglasses through our driver\n",
    "driver.get(list_of_url[0])"
   ]
  },
  {
   "cell_type": "code",
   "execution_count": 93,
   "metadata": {},
   "outputs": [
    {
     "name": "stderr",
     "output_type": "stream",
     "text": [
      "100%|████████████████████████████████████████████████████████████████████████████████| 100/100 [03:15<00:00,  1.96s/it]\n"
     ]
    }
   ],
   "source": [
    "#running a loop to extract all the required information from the list_of_url\n",
    "from tqdm import tqdm\n",
    "for i in tqdm(list_of_url):\n",
    "    driver.get(i)\n",
    "    try:\n",
    "        brand=driver.find_element_by_xpath(\"//span[@class='G6XhRU']\").text\n",
    "        Brand.append(brand)\n",
    "        description=driver.find_element_by_xpath(\"//span[@class='B_NuCI']\").text\n",
    "        Product_Description.append(description)\n",
    "        price=driver.find_element_by_xpath(\"//div[@class='_30jeq3 _16Jk6d']\").text\n",
    "        Price.append(price)\n",
    "        discount=driver.find_element_by_xpath(\"//div[@class='_3Ay6Sb _31Dcoz pZkvcx']/span\").text\n",
    "        Discount.append(discount)\n",
    "    except NoSuchElementException:\n",
    "        Brand.append(\"Null\")\n",
    "        Product_Description.append(\"Null\")\n",
    "        Price.append(\"Null\")\n",
    "        Discount.append('Null')"
   ]
  },
  {
   "cell_type": "code",
   "execution_count": 94,
   "metadata": {},
   "outputs": [
    {
     "data": {
      "text/plain": [
       "['Fastrack ',\n",
       " 'Fastrack ',\n",
       " 'PIRASO ',\n",
       " 'Fastrack ',\n",
       " 'PIRASO ',\n",
       " 'ROZZETTA CRAFT ',\n",
       " 'Fastrack ',\n",
       " 'PIRASO ',\n",
       " 'Fastrack ',\n",
       " 'phenomenal ',\n",
       " 'Silver Kartz ',\n",
       " 'Fastrack ',\n",
       " 'Singco India ',\n",
       " 'HIPPON ',\n",
       " 'Fastrack ',\n",
       " 'ROZZETTA CRAFT ',\n",
       " 'Singco India ',\n",
       " 'Fastrack ',\n",
       " 'Fastrack ',\n",
       " 'PIRASO ',\n",
       " 'DEIXELS ',\n",
       " 'Fastrack ',\n",
       " 'ROZZETTA CRAFT ',\n",
       " 'Fastrack ',\n",
       " 'Fastrack ',\n",
       " 'NuVew ',\n",
       " 'GANSTA ',\n",
       " 'phenomenal ',\n",
       " 'DEIXELS ',\n",
       " 'Fastrack ',\n",
       " 'Singco India ',\n",
       " 'Fastrack ',\n",
       " 'Singco ',\n",
       " 'Fastrack ',\n",
       " 'Aislin ',\n",
       " 'GANSTA ',\n",
       " 'Fastrack ',\n",
       " 'Silver Kartz ',\n",
       " 'Singco ',\n",
       " 'ROYAL SON ',\n",
       " 'GANSTA ',\n",
       " 'NuVew ',\n",
       " 'Aislin ',\n",
       " 'SRPM ',\n",
       " 'PIRASO ',\n",
       " 'ROZZETTA CRAFT ',\n",
       " 'PIRASO ',\n",
       " 'phenomenal ',\n",
       " 'Aislin ',\n",
       " 'Fastrack ',\n",
       " 'ROZZETTA CRAFT ',\n",
       " 'NuVew ',\n",
       " 'Aislin ',\n",
       " 'ROYAL SON ',\n",
       " 'Singco India ',\n",
       " 'Fravy ',\n",
       " 'Fastrack ',\n",
       " 'hipe ',\n",
       " 'ROZZETTA CRAFT ',\n",
       " 'Fastrack ',\n",
       " 'phenomenal ',\n",
       " 'phenomenal ',\n",
       " 'NuVew ',\n",
       " 'Aislin ',\n",
       " 'Silver Kartz ',\n",
       " 'Aislin ',\n",
       " 'ROZZETTA CRAFT ',\n",
       " 'ROZZETTA CRAFT ',\n",
       " 'ROZZETTA CRAFT ',\n",
       " 'FLYING MACHINE ',\n",
       " 'Aislin ',\n",
       " 'Silver Kartz ',\n",
       " 'Aislin ',\n",
       " 'hipe ',\n",
       " 'ROYAL SON ',\n",
       " 'NuVew ',\n",
       " 'Aislin ',\n",
       " 'NuVew ',\n",
       " 'Aislin ',\n",
       " 'Fastrack ',\n",
       " 'ROZZETTA CRAFT ',\n",
       " 'ROYAL SON ',\n",
       " 'IDEE ',\n",
       " 'ROYAL SON ',\n",
       " 'bulgaria ',\n",
       " 'Aislin ',\n",
       " 'Fastrack ',\n",
       " 'NuVew ',\n",
       " 'Poloport ',\n",
       " 'Guru Randhawa ',\n",
       " 'DEIXELS ',\n",
       " 'Aislin ',\n",
       " 'IRUS by IDEE ',\n",
       " 'hipe ',\n",
       " 'Aislin ',\n",
       " 'IDEE ',\n",
       " 'Aislin ',\n",
       " 'Aislin ',\n",
       " 'ROYAL SON ',\n",
       " 'IDEE ']"
      ]
     },
     "execution_count": 94,
     "metadata": {},
     "output_type": "execute_result"
    }
   ],
   "source": [
    "Brand"
   ]
  },
  {
   "cell_type": "code",
   "execution_count": 95,
   "metadata": {},
   "outputs": [
    {
     "data": {
      "text/plain": [
       "['UV Protection Wayfarer Sunglasses (Free Size)  (Green)',\n",
       " 'Mirrored, UV Protection Wayfarer Sunglasses (Free Size)  (Blue, Green)',\n",
       " 'UV Protection Aviator Sunglasses (54)  (Black)',\n",
       " 'Gradient, UV Protection Wayfarer Sunglasses (Free Size)  (Green)',\n",
       " 'UV Protection Aviator Sunglasses (Free Size)  (Golden, Black)',\n",
       " 'UV Protection Retro Square Sunglasses (Free Size)  (Blue)',\n",
       " 'UV Protection Rectangular Sunglasses (Free Size)  (Grey)',\n",
       " 'UV Protection Aviator Sunglasses (54)  (Green)',\n",
       " 'UV Protection Wayfarer Sunglasses (Free Size)  (Grey)',\n",
       " 'UV Protection, Mirrored Retro Square Sunglasses (53)  (Red, Black)',\n",
       " 'UV Protection Wayfarer Sunglasses (Free Size)  (Black)',\n",
       " 'UV Protection Aviator Sunglasses (58)  (Brown)',\n",
       " 'UV Protection, Polarized Aviator Sunglasses (Free Size)  (Black, Black)',\n",
       " 'UV Protection Wayfarer Sunglasses (55)  (Violet)',\n",
       " 'Gradient, UV Protection Wayfarer Sunglasses (Free Size)  (Black)',\n",
       " 'UV Protection, Gradient Rectangular Sunglasses (Free Size)  (Blue)',\n",
       " 'UV Protection Aviator Sunglasses (Free Size)  (Black, Blue, Brown)',\n",
       " 'UV Protection Wayfarer Sunglasses (56)  (Green)',\n",
       " 'UV Protection Wayfarer Sunglasses (Free Size)  (Grey)',\n",
       " 'UV Protection Wayfarer Sunglasses (32)  (Black)',\n",
       " 'UV Protection Round Sunglasses (Free Size)  (Blue, Clear)',\n",
       " 'Gradient, UV Protection Wayfarer Sunglasses (Free Size)  (Blue)',\n",
       " 'UV Protection Retro Square Sunglasses (Free Size)  (Brown)',\n",
       " 'UV Protection Aviator Sunglasses (58)  (Green)',\n",
       " 'UV Protection Aviator Sunglasses (Free Size)  (Black)',\n",
       " 'UV Protection Aviator Sunglasses (58)  (Black, Grey, Violet)',\n",
       " 'UV Protection, Gradient Wayfarer Sunglasses (53)  (Black, Brown)',\n",
       " 'UV Protection Retro Square Sunglasses (Free Size)  (Yellow, Red)',\n",
       " 'UV Protection Aviator, Wayfarer Sunglasses (Free Size)  (Black)',\n",
       " 'UV Protection Wayfarer Sunglasses (Free Size)  (Grey)',\n",
       " 'Mirrored, Riding Glasses, Others Sports Sunglasses (50)  (Black, Blue, Silver)',\n",
       " 'UV Protection Aviator Sunglasses (Free Size)  (Grey)',\n",
       " 'UV Protection, Others Aviator Sunglasses (32)  (Red, Blue, Pink, Yellow)',\n",
       " 'UV Protection Wayfarer Sunglasses (Free Size)  (Blue)',\n",
       " 'UV Protection Round Sunglasses (55)  (Black)',\n",
       " 'UV Protection Aviator Sunglasses (57)  (Black, Blue)',\n",
       " 'UV Protection Rectangular Sunglasses (59)  (Brown)',\n",
       " 'UV Protection Oval Sunglasses (56)  (Green)',\n",
       " 'Mirrored Aviator Sunglasses (53)  (Blue, Black, Brown)',\n",
       " 'UV Protection Retro Square Sunglasses (88)  (Blue)',\n",
       " 'Night Vision, Riding Glasses Wayfarer Sunglasses (53)  (Yellow, Red)',\n",
       " 'UV Protection, Gradient, Night Vision, Mirrored Aviator Sunglasses (Free Size)  (Black, Blue)',\n",
       " 'UV Protection, Gradient Oval Sunglasses (58)  (Pink)',\n",
       " 'UV Protection Round Sunglasses (53)  (Pink)',\n",
       " 'UV Protection Aviator Sunglasses (50)  (Golden, Green)',\n",
       " 'UV Protection, Riding Glasses Rectangular Sunglasses (Free Size)  (Clear)',\n",
       " 'UV Protection Aviator Sunglasses (54)  (Black, Golden)',\n",
       " 'UV Protection, Mirrored Clubmaster Sunglasses (Free Size)  (Black, Blue)',\n",
       " 'UV Protection, Gradient Oval Sunglasses (58)  (Blue)',\n",
       " 'UV Protection Shield Sunglasses (Free Size)  (Grey)',\n",
       " 'Gradient, UV Protection Round Sunglasses (Free Size)  (Grey)',\n",
       " 'UV Protection, Night Vision, Riding Glasses Sports Sunglasses (65)  (Yellow)',\n",
       " 'UV Protection Oval Sunglasses (60)  (Brown)',\n",
       " 'Mirrored Aviator Sunglasses (58)  (Black)',\n",
       " 'UV Protection Round Sunglasses (Free Size)  (Red, Blue)',\n",
       " 'UV Protection, Gradient, Night Vision Retro Square Sunglasses (Free Size)  (Blue)',\n",
       " 'UV Protection Aviator Sunglasses (Free Size)  (Green)',\n",
       " 'Mirrored Wayfarer Sunglasses (55)  (Blue)',\n",
       " 'UV Protection, Gradient Round Sunglasses (Free Size)  (Blue)',\n",
       " 'UV Protection Round Sunglasses (Free Size)  (Brown)',\n",
       " 'UV Protection Clubmaster Sunglasses (Free Size)  (Black, Clear)',\n",
       " 'UV Protection, Mirrored, Gradient Retro Square Sunglasses (59)  (Black, Brown)',\n",
       " 'UV Protection, Riding Glasses Wayfarer Sunglasses (56)  (Black, Clear)',\n",
       " 'UV Protection, Gradient Cat-eye Sunglasses (61)  (Brown)',\n",
       " 'UV Protection Aviator Sunglasses (88)  (Black, Green)',\n",
       " 'UV Protection, Gradient Wayfarer, Over-sized Sunglasses (61)  (Brown)',\n",
       " 'UV Protection Retro Square Sunglasses (Free Size)  (Golden, Black)',\n",
       " 'UV Protection, Gradient Rectangular Sunglasses (Free Size)  (Black)',\n",
       " 'UV Protection, Gradient Retro Square Sunglasses (Free Size)  (Black)',\n",
       " 'UV Protection Wayfarer Sunglasses (Free Size)  (Grey)',\n",
       " 'UV Protection, Gradient Round, Cat-eye Sunglasses (60)  (Black)',\n",
       " 'UV Protection Aviator Sunglasses (62)  (Black)',\n",
       " 'UV Protection, Gradient Wayfarer Sunglasses (57)  (Brown)',\n",
       " 'Mirrored, UV Protection, Gradient Round Sunglasses (55)  (Blue, Silver)',\n",
       " 'UV Protection Retro Square Sunglasses (58)  (Clear, Silver)',\n",
       " 'UV Protection, Gradient Over-sized, Retro Square Sunglasses (66)  (Black, Golden)',\n",
       " 'UV Protection, Others Aviator Sunglasses (58)  (Green)',\n",
       " 'UV Protection Aviator Sunglasses (57)  (Black, Blue)',\n",
       " 'UV Protection, Others Wayfarer, Rectangular Sunglasses (65)  (Green)',\n",
       " 'UV Protection Wrap-around Sunglasses (Free Size)  (Green)',\n",
       " 'Polarized, Gradient, UV Protection Over-sized Sunglasses (Free Size)  (Golden, Black)',\n",
       " 'Mirrored Aviator Sunglasses (Free Size)  (Multicolor)',\n",
       " 'Gradient Aviator Sunglasses (58)  (Green)',\n",
       " 'UV Protection Retro Square, Aviator Sunglasses (65)  (Black)',\n",
       " 'UV Protection Sports Sunglasses (Free Size)  (For Boys & Girls)',\n",
       " 'Polarized, UV Protection, Gradient Over-sized Sunglasses (62)  (Violet)',\n",
       " 'Gradient Wayfarer Sunglasses (Free Size)  (Brown)',\n",
       " 'UV Protection, Night Vision, Riding Glasses Aviator Sunglasses (58)  (Yellow)',\n",
       " 'UV Protection Wayfarer Sunglasses (Free Size)  (Blue, Green)',\n",
       " 'Polarized Retro Square Sunglasses (Free Size)  (Black)',\n",
       " 'UV Protection Rectangular Sunglasses (Free Size)  (Clear)',\n",
       " 'UV Protection Rectangular Sunglasses (61)  (Green)',\n",
       " 'Gradient Rectangular Sunglasses (55)  (Brown)',\n",
       " 'UV Protection, Riding Glasses, Gradient, Mirrored, Night Vision Round Sunglasses (55)  (Red, Yellow)',\n",
       " 'UV Protection Oval Sunglasses (60)  (Black)',\n",
       " 'Gradient Aviator Sunglasses (58)  (Grey)',\n",
       " 'UV Protection, Gradient Wayfarer, Clubmaster Sunglasses (57)  (Blue)',\n",
       " 'UV Protection, Mirrored Cat-eye, Over-sized Sunglasses (64)  (Pink)',\n",
       " 'Polarized, UV Protection Retro Square Sunglasses (60)  (Black)',\n",
       " 'Gradient Aviator Sunglasses (58)  (Grey)']"
      ]
     },
     "execution_count": 95,
     "metadata": {},
     "output_type": "execute_result"
    }
   ],
   "source": [
    "Product_Description"
   ]
  },
  {
   "cell_type": "code",
   "execution_count": 96,
   "metadata": {},
   "outputs": [
    {
     "data": {
      "text/plain": [
       "['₹758',\n",
       " '₹499',\n",
       " '₹225',\n",
       " '₹674',\n",
       " '₹349',\n",
       " '₹499',\n",
       " '₹666',\n",
       " '₹225',\n",
       " '₹733',\n",
       " '₹399',\n",
       " '₹246',\n",
       " '₹1,115',\n",
       " '₹202',\n",
       " '₹251',\n",
       " '₹674',\n",
       " '₹404',\n",
       " '₹329',\n",
       " '₹759',\n",
       " '₹837',\n",
       " '₹225',\n",
       " '₹189',\n",
       " '₹843',\n",
       " '₹499',\n",
       " '₹1,091',\n",
       " '₹725',\n",
       " '₹215',\n",
       " '₹349',\n",
       " '₹399',\n",
       " '₹202',\n",
       " '₹627',\n",
       " '₹249',\n",
       " '₹759',\n",
       " '₹345',\n",
       " '₹647',\n",
       " '₹648',\n",
       " '₹284',\n",
       " '₹1,097',\n",
       " '₹299',\n",
       " '₹235',\n",
       " '₹599',\n",
       " '₹209',\n",
       " '₹295',\n",
       " '₹498',\n",
       " '₹189',\n",
       " '₹349',\n",
       " '₹449',\n",
       " '₹250',\n",
       " '₹299',\n",
       " '₹495',\n",
       " '₹759',\n",
       " '₹449',\n",
       " '₹198',\n",
       " '₹714',\n",
       " '₹399',\n",
       " '₹195',\n",
       " '₹329',\n",
       " '₹751',\n",
       " '₹219',\n",
       " '₹426',\n",
       " '₹940',\n",
       " '₹299',\n",
       " '₹259',\n",
       " '₹240',\n",
       " '₹475',\n",
       " '₹255',\n",
       " '₹625',\n",
       " '₹349',\n",
       " '₹499',\n",
       " '₹449',\n",
       " '₹686',\n",
       " '₹475',\n",
       " '₹255',\n",
       " '₹625',\n",
       " '₹210',\n",
       " '₹474',\n",
       " '₹325',\n",
       " '₹975',\n",
       " '₹195',\n",
       " '₹998',\n",
       " '₹865',\n",
       " '₹426',\n",
       " '₹399',\n",
       " '₹1,452',\n",
       " '₹599',\n",
       " '₹320',\n",
       " '₹1,120',\n",
       " '₹1,905',\n",
       " '₹198',\n",
       " '₹249',\n",
       " '₹1,990',\n",
       " '₹200',\n",
       " '₹1,025',\n",
       " '₹604',\n",
       " '₹265',\n",
       " '₹725',\n",
       " '₹1,226',\n",
       " '₹425',\n",
       " '₹1,037',\n",
       " '₹759',\n",
       " '₹1,182']"
      ]
     },
     "execution_count": 96,
     "metadata": {},
     "output_type": "execute_result"
    }
   ],
   "source": [
    "Price"
   ]
  },
  {
   "cell_type": "code",
   "execution_count": 97,
   "metadata": {},
   "outputs": [
    {
     "data": {
      "text/plain": [
       "['15% off',\n",
       " '50% off',\n",
       " '85% off',\n",
       " '15% off',\n",
       " '78% off',\n",
       " '77% off',\n",
       " '16% off',\n",
       " '85% off',\n",
       " '18% off',\n",
       " '80% off',\n",
       " '83% off',\n",
       " '14% off',\n",
       " '71% off',\n",
       " '79% off',\n",
       " '15% off',\n",
       " '79% off',\n",
       " '72% off',\n",
       " '15% off',\n",
       " '6% off',\n",
       " '85% off',\n",
       " '76% off',\n",
       " '15% off',\n",
       " '77% off',\n",
       " '16% off',\n",
       " '9% off',\n",
       " '72% off',\n",
       " '82% off',\n",
       " '80% off',\n",
       " '83% off',\n",
       " '21% off',\n",
       " '83% off',\n",
       " '15% off',\n",
       " '82% off',\n",
       " '28% off',\n",
       " '69% off',\n",
       " '85% off',\n",
       " '15% off',\n",
       " '75% off',\n",
       " '76% off',\n",
       " '70% off',\n",
       " '88% off',\n",
       " '70% off',\n",
       " '67% off',\n",
       " '62% off',\n",
       " '78% off',\n",
       " '79% off',\n",
       " '84% off',\n",
       " '85% off',\n",
       " '67% off',\n",
       " '15% off',\n",
       " '77% off',\n",
       " '79% off',\n",
       " '71% off',\n",
       " '73% off',\n",
       " '80% off',\n",
       " '83% off',\n",
       " '6% off',\n",
       " '78% off',\n",
       " '84% off',\n",
       " '5% off',\n",
       " '85% off',\n",
       " '87% off',\n",
       " '75% off',\n",
       " '72% off',\n",
       " '78% off',\n",
       " '70% off',\n",
       " '80% off',\n",
       " '77% off',\n",
       " '77% off',\n",
       " '57% off',\n",
       " '72% off',\n",
       " '78% off',\n",
       " '70% off',\n",
       " '85% off',\n",
       " '68% off',\n",
       " '78% off',\n",
       " '73% off',\n",
       " '75% off',\n",
       " '73% off',\n",
       " '3% off',\n",
       " '88% off',\n",
       " '73% off',\n",
       " '38% off',\n",
       " '60% off',\n",
       " '67% off',\n",
       " '73% off',\n",
       " '4% off',\n",
       " '73% off',\n",
       " '86% off',\n",
       " '26% off',\n",
       " '86% off',\n",
       " '68% off',\n",
       " '39% off',\n",
       " '85% off',\n",
       " '70% off',\n",
       " '56% off',\n",
       " '72% off',\n",
       " '74% off',\n",
       " '62% off',\n",
       " '58% off']"
      ]
     },
     "execution_count": 97,
     "metadata": {},
     "output_type": "execute_result"
    }
   ],
   "source": [
    "Discount"
   ]
  },
  {
   "cell_type": "code",
   "execution_count": 98,
   "metadata": {},
   "outputs": [
    {
     "name": "stdout",
     "output_type": "stream",
     "text": [
      "100 100 100 100\n"
     ]
    }
   ],
   "source": [
    "#printing length\n",
    "print(len(Brand),len(Product_Description),len(Price),len(Discount))"
   ]
  },
  {
   "cell_type": "code",
   "execution_count": 99,
   "metadata": {},
   "outputs": [],
   "source": [
    "#creating a dataframe\n",
    "\n",
    "Sunglasses=pd.DataFrame({})\n",
    "Sunglasses['Brand']=Brand\n",
    "Sunglasses['Product_Description']=Product_Description\n",
    "Sunglasses['Price']=Price\n",
    "Sunglasses['Discount']=Discount"
   ]
  },
  {
   "cell_type": "code",
   "execution_count": 100,
   "metadata": {},
   "outputs": [
    {
     "data": {
      "text/html": [
       "<div>\n",
       "<style scoped>\n",
       "    .dataframe tbody tr th:only-of-type {\n",
       "        vertical-align: middle;\n",
       "    }\n",
       "\n",
       "    .dataframe tbody tr th {\n",
       "        vertical-align: top;\n",
       "    }\n",
       "\n",
       "    .dataframe thead th {\n",
       "        text-align: right;\n",
       "    }\n",
       "</style>\n",
       "<table border=\"1\" class=\"dataframe\">\n",
       "  <thead>\n",
       "    <tr style=\"text-align: right;\">\n",
       "      <th></th>\n",
       "      <th>Brand</th>\n",
       "      <th>Product_Description</th>\n",
       "      <th>Price</th>\n",
       "      <th>Discount</th>\n",
       "    </tr>\n",
       "  </thead>\n",
       "  <tbody>\n",
       "    <tr>\n",
       "      <th>0</th>\n",
       "      <td>Fastrack</td>\n",
       "      <td>UV Protection Wayfarer Sunglasses (Free Size) ...</td>\n",
       "      <td>₹758</td>\n",
       "      <td>15% off</td>\n",
       "    </tr>\n",
       "    <tr>\n",
       "      <th>1</th>\n",
       "      <td>Fastrack</td>\n",
       "      <td>Mirrored, UV Protection Wayfarer Sunglasses (F...</td>\n",
       "      <td>₹499</td>\n",
       "      <td>50% off</td>\n",
       "    </tr>\n",
       "    <tr>\n",
       "      <th>2</th>\n",
       "      <td>PIRASO</td>\n",
       "      <td>UV Protection Aviator Sunglasses (54)  (Black)</td>\n",
       "      <td>₹225</td>\n",
       "      <td>85% off</td>\n",
       "    </tr>\n",
       "    <tr>\n",
       "      <th>3</th>\n",
       "      <td>Fastrack</td>\n",
       "      <td>Gradient, UV Protection Wayfarer Sunglasses (F...</td>\n",
       "      <td>₹674</td>\n",
       "      <td>15% off</td>\n",
       "    </tr>\n",
       "    <tr>\n",
       "      <th>4</th>\n",
       "      <td>PIRASO</td>\n",
       "      <td>UV Protection Aviator Sunglasses (Free Size)  ...</td>\n",
       "      <td>₹349</td>\n",
       "      <td>78% off</td>\n",
       "    </tr>\n",
       "    <tr>\n",
       "      <th>...</th>\n",
       "      <td>...</td>\n",
       "      <td>...</td>\n",
       "      <td>...</td>\n",
       "      <td>...</td>\n",
       "    </tr>\n",
       "    <tr>\n",
       "      <th>95</th>\n",
       "      <td>IDEE</td>\n",
       "      <td>Gradient Aviator Sunglasses (58)  (Grey)</td>\n",
       "      <td>₹1,226</td>\n",
       "      <td>56% off</td>\n",
       "    </tr>\n",
       "    <tr>\n",
       "      <th>96</th>\n",
       "      <td>Aislin</td>\n",
       "      <td>UV Protection, Gradient Wayfarer, Clubmaster S...</td>\n",
       "      <td>₹425</td>\n",
       "      <td>72% off</td>\n",
       "    </tr>\n",
       "    <tr>\n",
       "      <th>97</th>\n",
       "      <td>Aislin</td>\n",
       "      <td>UV Protection, Mirrored Cat-eye, Over-sized Su...</td>\n",
       "      <td>₹1,037</td>\n",
       "      <td>74% off</td>\n",
       "    </tr>\n",
       "    <tr>\n",
       "      <th>98</th>\n",
       "      <td>ROYAL SON</td>\n",
       "      <td>Polarized, UV Protection Retro Square Sunglass...</td>\n",
       "      <td>₹759</td>\n",
       "      <td>62% off</td>\n",
       "    </tr>\n",
       "    <tr>\n",
       "      <th>99</th>\n",
       "      <td>IDEE</td>\n",
       "      <td>Gradient Aviator Sunglasses (58)  (Grey)</td>\n",
       "      <td>₹1,182</td>\n",
       "      <td>58% off</td>\n",
       "    </tr>\n",
       "  </tbody>\n",
       "</table>\n",
       "<p>100 rows × 4 columns</p>\n",
       "</div>"
      ],
      "text/plain": [
       "         Brand                                Product_Description   Price  \\\n",
       "0    Fastrack   UV Protection Wayfarer Sunglasses (Free Size) ...    ₹758   \n",
       "1    Fastrack   Mirrored, UV Protection Wayfarer Sunglasses (F...    ₹499   \n",
       "2      PIRASO      UV Protection Aviator Sunglasses (54)  (Black)    ₹225   \n",
       "3    Fastrack   Gradient, UV Protection Wayfarer Sunglasses (F...    ₹674   \n",
       "4      PIRASO   UV Protection Aviator Sunglasses (Free Size)  ...    ₹349   \n",
       "..         ...                                                ...     ...   \n",
       "95       IDEE            Gradient Aviator Sunglasses (58)  (Grey)  ₹1,226   \n",
       "96     Aislin   UV Protection, Gradient Wayfarer, Clubmaster S...    ₹425   \n",
       "97     Aislin   UV Protection, Mirrored Cat-eye, Over-sized Su...  ₹1,037   \n",
       "98  ROYAL SON   Polarized, UV Protection Retro Square Sunglass...    ₹759   \n",
       "99       IDEE            Gradient Aviator Sunglasses (58)  (Grey)  ₹1,182   \n",
       "\n",
       "   Discount  \n",
       "0   15% off  \n",
       "1   50% off  \n",
       "2   85% off  \n",
       "3   15% off  \n",
       "4   78% off  \n",
       "..      ...  \n",
       "95  56% off  \n",
       "96  72% off  \n",
       "97  74% off  \n",
       "98  62% off  \n",
       "99  58% off  \n",
       "\n",
       "[100 rows x 4 columns]"
      ]
     },
     "execution_count": 100,
     "metadata": {},
     "output_type": "execute_result"
    }
   ],
   "source": [
    "Sunglasses"
   ]
  },
  {
   "cell_type": "code",
   "execution_count": 101,
   "metadata": {},
   "outputs": [],
   "source": [
    "#Closing the driver\n",
    "driver.close()"
   ]
  },
  {
   "cell_type": "markdown",
   "metadata": {},
   "source": [
    "###### Q7: Scrape 100 reviews data from flipkart.com for iphone11 phone.These are \n",
    "1. Rating \n",
    "2. Review_summary \n",
    "3. Full review\n",
    "You have to scrape this data for first 100 reviews."
   ]
  },
  {
   "cell_type": "code",
   "execution_count": null,
   "metadata": {},
   "outputs": [],
   "source": [
    "# Importing Libraries\n",
    "import pandas as pd\n",
    "import selenium\n",
    "from selenium import webdriver\n",
    "import time\n",
    "from selenium.common.exceptions import StaleElementReferenceException, NoSuchElementException,ElementNotInteractableException,InvalidArgumentException,InvalidCookieDomainException"
   ]
  },
  {
   "cell_type": "code",
   "execution_count": 102,
   "metadata": {},
   "outputs": [],
   "source": [
    "driver = webdriver.Chrome(r\"C:\\Users\\rahsh\\Downloads\\chromedriver_win32\\chromedriver.exe\")#first connecting to the webdriver\n",
    "url=('https://www.flipkart.com/apple-iphone-11-black-64-gb-includesearpods-poweradapter/p/itm0f37c2240b217?pid=MOBFKCTSVZAXUHGR&lid=LSTMOBFKCTSVZAXUHGREPBFGI&marketplace')\n",
    "driver.get(url)"
   ]
  },
  {
   "cell_type": "code",
   "execution_count": 103,
   "metadata": {},
   "outputs": [],
   "source": [
    "#creating empty lists\n",
    "Rating=[]\n",
    "Review_Summary=[]\n",
    "Full_Review=[]"
   ]
  },
  {
   "cell_type": "code",
   "execution_count": 104,
   "metadata": {},
   "outputs": [],
   "source": [
    "#navigating to the ratings and review page\n",
    "btn=driver.find_element_by_xpath(\"//div[@class='_3UAT2v _16PBlm']/span\")\n",
    "btn.click()"
   ]
  },
  {
   "cell_type": "code",
   "execution_count": 105,
   "metadata": {},
   "outputs": [],
   "source": [
    "#extracting the ratings of the product\n",
    "rating=driver.find_elements_by_xpath(\"//div[@class='_3LWZlK _1BLPMq']\")\n",
    "#extracting text from these tags\n",
    "for i in rating:\n",
    "    Rating.append(i.text)\n",
    "    \n",
    "#extracting review summary of the product\n",
    "rev_summ=driver.find_elements_by_xpath(\"//p[@class='_2-N8zT']\")\n",
    "#extracting text from these tags\n",
    "for i in rev_summ:\n",
    "    Review_Summary.append(i.text)\n",
    "    \n",
    "#extracting full review of the  product\n",
    "full_rev=driver.find_elements_by_xpath(\"//div[@class='t-ZTKy']/div/div\")\n",
    "#exracting text from these tags\n",
    "for i in full_rev:\n",
    "    Full_Review.append(i.text)\n",
    "    \n",
    "#navigating to next page\n",
    "next_page=driver.find_element_by_xpath(\"//nav[@class='yFHi8N']/a[11]\")\n",
    "next_page.click()"
   ]
  },
  {
   "cell_type": "code",
   "execution_count": 115,
   "metadata": {},
   "outputs": [
    {
     "name": "stdout",
     "output_type": "stream",
     "text": [
      "100 100 100\n"
     ]
    }
   ],
   "source": [
    "print(len(Rating),len(Review_Summary),len(Full_Review))"
   ]
  },
  {
   "cell_type": "code",
   "execution_count": 116,
   "metadata": {},
   "outputs": [
    {
     "data": {
      "text/html": [
       "<div>\n",
       "<style scoped>\n",
       "    .dataframe tbody tr th:only-of-type {\n",
       "        vertical-align: middle;\n",
       "    }\n",
       "\n",
       "    .dataframe tbody tr th {\n",
       "        vertical-align: top;\n",
       "    }\n",
       "\n",
       "    .dataframe thead th {\n",
       "        text-align: right;\n",
       "    }\n",
       "</style>\n",
       "<table border=\"1\" class=\"dataframe\">\n",
       "  <thead>\n",
       "    <tr style=\"text-align: right;\">\n",
       "      <th></th>\n",
       "      <th>Rating</th>\n",
       "      <th>Review_Summary</th>\n",
       "      <th>Full_Review</th>\n",
       "    </tr>\n",
       "  </thead>\n",
       "  <tbody>\n",
       "    <tr>\n",
       "      <th>0</th>\n",
       "      <td>5</td>\n",
       "      <td>Brilliant</td>\n",
       "      <td>The Best Phone for the Money\\n\\nThe iPhone 11 ...</td>\n",
       "    </tr>\n",
       "    <tr>\n",
       "      <th>1</th>\n",
       "      <td>5</td>\n",
       "      <td>Perfect product!</td>\n",
       "      <td>Amazing phone with great cameras and better ba...</td>\n",
       "    </tr>\n",
       "    <tr>\n",
       "      <th>2</th>\n",
       "      <td>5</td>\n",
       "      <td>Great product</td>\n",
       "      <td>Amazing Powerful and Durable Gadget.\\n\\nI’m am...</td>\n",
       "    </tr>\n",
       "    <tr>\n",
       "      <th>3</th>\n",
       "      <td>5</td>\n",
       "      <td>Worth every penny</td>\n",
       "      <td>Previously I was using one plus 3t it was a gr...</td>\n",
       "    </tr>\n",
       "    <tr>\n",
       "      <th>4</th>\n",
       "      <td>5</td>\n",
       "      <td>Highly recommended</td>\n",
       "      <td>iphone 11 is a very good phone to buy only if ...</td>\n",
       "    </tr>\n",
       "    <tr>\n",
       "      <th>...</th>\n",
       "      <td>...</td>\n",
       "      <td>...</td>\n",
       "      <td>...</td>\n",
       "    </tr>\n",
       "    <tr>\n",
       "      <th>95</th>\n",
       "      <td>5</td>\n",
       "      <td>Perfect product!</td>\n",
       "      <td>It’s a must buy who is looking for an upgrade ...</td>\n",
       "    </tr>\n",
       "    <tr>\n",
       "      <th>96</th>\n",
       "      <td>5</td>\n",
       "      <td>Perfect product!</td>\n",
       "      <td>Value for money❤️❤️\\nIts awesome mobile phone ...</td>\n",
       "    </tr>\n",
       "    <tr>\n",
       "      <th>97</th>\n",
       "      <td>5</td>\n",
       "      <td>Wonderful</td>\n",
       "      <td>*Review after 10 months of usage*\\nDoesn't see...</td>\n",
       "    </tr>\n",
       "    <tr>\n",
       "      <th>98</th>\n",
       "      <td>5</td>\n",
       "      <td>Fabulous!</td>\n",
       "      <td>This is my first iOS phone. I am very happy wi...</td>\n",
       "    </tr>\n",
       "    <tr>\n",
       "      <th>99</th>\n",
       "      <td>5</td>\n",
       "      <td>Worth every penny</td>\n",
       "      <td>Best budget Iphone till date ❤️ go for it guys...</td>\n",
       "    </tr>\n",
       "  </tbody>\n",
       "</table>\n",
       "<p>100 rows × 3 columns</p>\n",
       "</div>"
      ],
      "text/plain": [
       "   Rating      Review_Summary  \\\n",
       "0       5           Brilliant   \n",
       "1       5    Perfect product!   \n",
       "2       5       Great product   \n",
       "3       5   Worth every penny   \n",
       "4       5  Highly recommended   \n",
       "..    ...                 ...   \n",
       "95      5    Perfect product!   \n",
       "96      5    Perfect product!   \n",
       "97      5           Wonderful   \n",
       "98      5           Fabulous!   \n",
       "99      5   Worth every penny   \n",
       "\n",
       "                                          Full_Review  \n",
       "0   The Best Phone for the Money\\n\\nThe iPhone 11 ...  \n",
       "1   Amazing phone with great cameras and better ba...  \n",
       "2   Amazing Powerful and Durable Gadget.\\n\\nI’m am...  \n",
       "3   Previously I was using one plus 3t it was a gr...  \n",
       "4   iphone 11 is a very good phone to buy only if ...  \n",
       "..                                                ...  \n",
       "95  It’s a must buy who is looking for an upgrade ...  \n",
       "96  Value for money❤️❤️\\nIts awesome mobile phone ...  \n",
       "97  *Review after 10 months of usage*\\nDoesn't see...  \n",
       "98  This is my first iOS phone. I am very happy wi...  \n",
       "99  Best budget Iphone till date ❤️ go for it guys...  \n",
       "\n",
       "[100 rows x 3 columns]"
      ]
     },
     "execution_count": 116,
     "metadata": {},
     "output_type": "execute_result"
    }
   ],
   "source": [
    "#Now creating a dataframe\n",
    "iphone11_review=pd.DataFrame({})\n",
    "iphone11_review['Rating']=Rating\n",
    "iphone11_review['Review_Summary']=Review_Summary\n",
    "iphone11_review['Full_Review']=Full_Review\n",
    "iphone11_review"
   ]
  },
  {
   "cell_type": "code",
   "execution_count": 117,
   "metadata": {},
   "outputs": [],
   "source": [
    "#Closing the driver\n",
    "driver.close()"
   ]
  },
  {
   "cell_type": "markdown",
   "metadata": {},
   "source": [
    "## Q8: Scrape data for first 100 sneakers you find when you visit flipkart.com and search for “sneakers” in the search field.\n",
    "You have to scrape 4 attributes of each sneaker : 1. Brand 2. Product Description 3. Price 4. discount %"
   ]
  },
  {
   "cell_type": "code",
   "execution_count": 118,
   "metadata": {},
   "outputs": [],
   "source": [
    "import selenium\n",
    "import pandas as pd\n",
    "from selenium import webdriver"
   ]
  },
  {
   "cell_type": "code",
   "execution_count": 119,
   "metadata": {},
   "outputs": [],
   "source": [
    "#first connecting to the webdriver\n",
    "driver = webdriver.Chrome(r\"C:\\Users\\rahsh\\Downloads\\chromedriver_win32\\chromedriver.exe\")"
   ]
  },
  {
   "cell_type": "code",
   "execution_count": 120,
   "metadata": {},
   "outputs": [],
   "source": [
    "url='https://www.flipkart.com/search?q=sneakers+for+men&sid=osp%2Ccil%2Ce1f&as=on&as-show=on&otracker=AS_QueryStore_OrganicAutoSuggest_2_8_na_na_na&otracker1=AS_QueryStore_OrganicAutoSuggest_2_8_na_na_na&as-pos=2&as-type=RECENT&suggestionId=sneakers+for+men%7C'"
   ]
  },
  {
   "cell_type": "code",
   "execution_count": 121,
   "metadata": {},
   "outputs": [],
   "source": [
    "#opening the webpage through our driver\n",
    "driver.get(url)"
   ]
  },
  {
   "cell_type": "code",
   "execution_count": 122,
   "metadata": {},
   "outputs": [],
   "source": [
    "#creating the empty lists\n",
    "product_brand=[]\n",
    "product_description=[]\n",
    "product_price=[]\n",
    "product_discount=[]"
   ]
  },
  {
   "cell_type": "code",
   "execution_count": 123,
   "metadata": {},
   "outputs": [
    {
     "data": {
      "text/plain": [
       "[<selenium.webdriver.remote.webelement.WebElement (session=\"c1c29ab73949743a431ababadbaa7bdd\", element=\"9970f2d0-16d5-44d4-a2be-1ac1392f04a1\")>,\n",
       " <selenium.webdriver.remote.webelement.WebElement (session=\"c1c29ab73949743a431ababadbaa7bdd\", element=\"7fc63f35-0c72-4b97-8c76-f1ffa9f35e24\")>,\n",
       " <selenium.webdriver.remote.webelement.WebElement (session=\"c1c29ab73949743a431ababadbaa7bdd\", element=\"76b62c0d-852f-4d0e-8699-2501a7878c50\")>,\n",
       " <selenium.webdriver.remote.webelement.WebElement (session=\"c1c29ab73949743a431ababadbaa7bdd\", element=\"af00283e-ff1d-4223-91a9-166bfb2814a2\")>,\n",
       " <selenium.webdriver.remote.webelement.WebElement (session=\"c1c29ab73949743a431ababadbaa7bdd\", element=\"ebbd663e-fbf5-4f24-ac70-21c351916251\")>,\n",
       " <selenium.webdriver.remote.webelement.WebElement (session=\"c1c29ab73949743a431ababadbaa7bdd\", element=\"fbec4906-e92a-4d9e-8b4e-d13700cf2db9\")>,\n",
       " <selenium.webdriver.remote.webelement.WebElement (session=\"c1c29ab73949743a431ababadbaa7bdd\", element=\"543a8978-da70-4db7-96f1-7035dad28120\")>,\n",
       " <selenium.webdriver.remote.webelement.WebElement (session=\"c1c29ab73949743a431ababadbaa7bdd\", element=\"26b06690-d6ca-4067-bdce-e0a99edb32de\")>,\n",
       " <selenium.webdriver.remote.webelement.WebElement (session=\"c1c29ab73949743a431ababadbaa7bdd\", element=\"4a27c536-d5c5-420f-ac7b-f1068ef008c2\")>,\n",
       " <selenium.webdriver.remote.webelement.WebElement (session=\"c1c29ab73949743a431ababadbaa7bdd\", element=\"e1b2666e-1edb-4cee-9083-4d28a150b772\")>,\n",
       " <selenium.webdriver.remote.webelement.WebElement (session=\"c1c29ab73949743a431ababadbaa7bdd\", element=\"2b8338d9-bc8d-456d-b774-6d917abc16ec\")>,\n",
       " <selenium.webdriver.remote.webelement.WebElement (session=\"c1c29ab73949743a431ababadbaa7bdd\", element=\"711b7721-231b-4525-9bc8-cb2563b44c72\")>,\n",
       " <selenium.webdriver.remote.webelement.WebElement (session=\"c1c29ab73949743a431ababadbaa7bdd\", element=\"cf1504c9-b8c5-45d5-a784-300c212b1c38\")>,\n",
       " <selenium.webdriver.remote.webelement.WebElement (session=\"c1c29ab73949743a431ababadbaa7bdd\", element=\"d98499a4-8413-4811-ab3b-d1d99ceae702\")>,\n",
       " <selenium.webdriver.remote.webelement.WebElement (session=\"c1c29ab73949743a431ababadbaa7bdd\", element=\"b4aa1604-54ac-425e-bc2b-a39ebf1b9cb9\")>,\n",
       " <selenium.webdriver.remote.webelement.WebElement (session=\"c1c29ab73949743a431ababadbaa7bdd\", element=\"211fc7ec-6af5-432e-81fb-4fa74e56c58d\")>,\n",
       " <selenium.webdriver.remote.webelement.WebElement (session=\"c1c29ab73949743a431ababadbaa7bdd\", element=\"5d079824-7c50-4049-a4eb-a5bd0fc4f28a\")>,\n",
       " <selenium.webdriver.remote.webelement.WebElement (session=\"c1c29ab73949743a431ababadbaa7bdd\", element=\"78ebf80e-e92c-482b-a244-4af29964f74c\")>,\n",
       " <selenium.webdriver.remote.webelement.WebElement (session=\"c1c29ab73949743a431ababadbaa7bdd\", element=\"5f25c7cf-914e-474d-b8c0-28818f194f0b\")>,\n",
       " <selenium.webdriver.remote.webelement.WebElement (session=\"c1c29ab73949743a431ababadbaa7bdd\", element=\"c0fdc977-c18b-47ae-9b29-b5b683abc086\")>,\n",
       " <selenium.webdriver.remote.webelement.WebElement (session=\"c1c29ab73949743a431ababadbaa7bdd\", element=\"23195860-6d0f-4abd-b9f6-bfa66aa6d409\")>,\n",
       " <selenium.webdriver.remote.webelement.WebElement (session=\"c1c29ab73949743a431ababadbaa7bdd\", element=\"9653cb88-2ae0-4a0f-b00e-f976d19853dc\")>,\n",
       " <selenium.webdriver.remote.webelement.WebElement (session=\"c1c29ab73949743a431ababadbaa7bdd\", element=\"bcbd10b0-fe68-4487-a8d9-91bb1bdbd57b\")>,\n",
       " <selenium.webdriver.remote.webelement.WebElement (session=\"c1c29ab73949743a431ababadbaa7bdd\", element=\"e8b42ce2-3993-4fb2-b842-9f2b705ba0cb\")>,\n",
       " <selenium.webdriver.remote.webelement.WebElement (session=\"c1c29ab73949743a431ababadbaa7bdd\", element=\"a2f3d701-9c86-4093-8e85-6d8bba996bc9\")>,\n",
       " <selenium.webdriver.remote.webelement.WebElement (session=\"c1c29ab73949743a431ababadbaa7bdd\", element=\"41753f35-f315-42e0-b52e-12e064c991eb\")>,\n",
       " <selenium.webdriver.remote.webelement.WebElement (session=\"c1c29ab73949743a431ababadbaa7bdd\", element=\"a20f9d16-2c9b-4e39-932a-f94cdaf9d03b\")>,\n",
       " <selenium.webdriver.remote.webelement.WebElement (session=\"c1c29ab73949743a431ababadbaa7bdd\", element=\"c5d1a357-1551-48f5-b5db-9394122611bc\")>,\n",
       " <selenium.webdriver.remote.webelement.WebElement (session=\"c1c29ab73949743a431ababadbaa7bdd\", element=\"f12c3745-98ce-40e3-9b48-ca3d160d6b56\")>,\n",
       " <selenium.webdriver.remote.webelement.WebElement (session=\"c1c29ab73949743a431ababadbaa7bdd\", element=\"717196a4-8fa4-441f-a7df-841b61e3789f\")>,\n",
       " <selenium.webdriver.remote.webelement.WebElement (session=\"c1c29ab73949743a431ababadbaa7bdd\", element=\"cd2d117d-ec0d-40bb-bdc3-59adce9d590c\")>,\n",
       " <selenium.webdriver.remote.webelement.WebElement (session=\"c1c29ab73949743a431ababadbaa7bdd\", element=\"b428a3f3-12a9-44f5-bfa9-87f011d9d00e\")>,\n",
       " <selenium.webdriver.remote.webelement.WebElement (session=\"c1c29ab73949743a431ababadbaa7bdd\", element=\"44a37e8c-5c31-4278-ab41-19ef2d4822ee\")>,\n",
       " <selenium.webdriver.remote.webelement.WebElement (session=\"c1c29ab73949743a431ababadbaa7bdd\", element=\"45ba0c61-8665-4d86-b3c2-1d939b52850f\")>,\n",
       " <selenium.webdriver.remote.webelement.WebElement (session=\"c1c29ab73949743a431ababadbaa7bdd\", element=\"fa7c74b8-9972-4408-8861-2f80d9647d93\")>,\n",
       " <selenium.webdriver.remote.webelement.WebElement (session=\"c1c29ab73949743a431ababadbaa7bdd\", element=\"620d4614-cd22-49a4-b22e-4f9119aec75e\")>,\n",
       " <selenium.webdriver.remote.webelement.WebElement (session=\"c1c29ab73949743a431ababadbaa7bdd\", element=\"57679739-4e87-413b-a07d-03d118cf2ee7\")>,\n",
       " <selenium.webdriver.remote.webelement.WebElement (session=\"c1c29ab73949743a431ababadbaa7bdd\", element=\"462f0da5-4841-4cec-ae23-8b9a03b684c2\")>,\n",
       " <selenium.webdriver.remote.webelement.WebElement (session=\"c1c29ab73949743a431ababadbaa7bdd\", element=\"3c5d5886-78f3-4625-a6bb-c9ea1df73ad5\")>,\n",
       " <selenium.webdriver.remote.webelement.WebElement (session=\"c1c29ab73949743a431ababadbaa7bdd\", element=\"500b9375-e7de-4271-8196-59c5866cc426\")>]"
      ]
     },
     "execution_count": 123,
     "metadata": {},
     "output_type": "execute_result"
    }
   ],
   "source": [
    "#interacting with the webpage\n",
    "brand_tag=driver.find_elements_by_xpath(\"//div[@class='_2WkVRV']\")\n",
    "brand_tag[0:100]"
   ]
  },
  {
   "cell_type": "code",
   "execution_count": 124,
   "metadata": {},
   "outputs": [
    {
     "data": {
      "text/plain": [
       "['bluemaker',\n",
       " 'SPARX',\n",
       " 'Chevit',\n",
       " 'Chevit',\n",
       " 'Robbie jones',\n",
       " 'Chevit',\n",
       " 'Robbie jones',\n",
       " 'aadi',\n",
       " 'Shoes Bank',\n",
       " 'ORICUM',\n",
       " 'Chevit',\n",
       " 'Chevit',\n",
       " 'Chevit',\n",
       " 'bluemaker',\n",
       " 'Red Rose',\n",
       " 'SPARX',\n",
       " 'HOTSTYLE',\n",
       " 'T-ROCK',\n",
       " 'ROCKFIELD',\n",
       " 'EZBRA',\n",
       " 'believe',\n",
       " 'SCATCHITE',\n",
       " 'D-SNEAKERZ',\n",
       " 'Magnolia',\n",
       " 'Numenzo',\n",
       " 'Magnolia',\n",
       " 'bluemaker',\n",
       " 'Birde',\n",
       " 'SPARX',\n",
       " 'ENJOY the celebration people',\n",
       " 'HOTSTYLE',\n",
       " 'WOODLAND',\n",
       " '\"trend\"',\n",
       " 'bluemaker',\n",
       " 'Stefano Rads',\n",
       " 'Wika',\n",
       " 'A ANTIC MOP',\n",
       " 'Red Rose',\n",
       " 'Jokatoo',\n",
       " 'bluemaker']"
      ]
     },
     "execution_count": 124,
     "metadata": {},
     "output_type": "execute_result"
    }
   ],
   "source": [
    "for i in brand_tag:\n",
    "    brand=i.text\n",
    "    product_brand.append(brand)\n",
    "product_brand[0:100]"
   ]
  },
  {
   "cell_type": "code",
   "execution_count": 125,
   "metadata": {},
   "outputs": [
    {
     "data": {
      "text/plain": [
       "[<selenium.webdriver.remote.webelement.WebElement (session=\"c1c29ab73949743a431ababadbaa7bdd\", element=\"9970f2d0-16d5-44d4-a2be-1ac1392f04a1\")>,\n",
       " <selenium.webdriver.remote.webelement.WebElement (session=\"c1c29ab73949743a431ababadbaa7bdd\", element=\"7fc63f35-0c72-4b97-8c76-f1ffa9f35e24\")>,\n",
       " <selenium.webdriver.remote.webelement.WebElement (session=\"c1c29ab73949743a431ababadbaa7bdd\", element=\"76b62c0d-852f-4d0e-8699-2501a7878c50\")>,\n",
       " <selenium.webdriver.remote.webelement.WebElement (session=\"c1c29ab73949743a431ababadbaa7bdd\", element=\"af00283e-ff1d-4223-91a9-166bfb2814a2\")>,\n",
       " <selenium.webdriver.remote.webelement.WebElement (session=\"c1c29ab73949743a431ababadbaa7bdd\", element=\"ebbd663e-fbf5-4f24-ac70-21c351916251\")>,\n",
       " <selenium.webdriver.remote.webelement.WebElement (session=\"c1c29ab73949743a431ababadbaa7bdd\", element=\"fbec4906-e92a-4d9e-8b4e-d13700cf2db9\")>,\n",
       " <selenium.webdriver.remote.webelement.WebElement (session=\"c1c29ab73949743a431ababadbaa7bdd\", element=\"543a8978-da70-4db7-96f1-7035dad28120\")>,\n",
       " <selenium.webdriver.remote.webelement.WebElement (session=\"c1c29ab73949743a431ababadbaa7bdd\", element=\"26b06690-d6ca-4067-bdce-e0a99edb32de\")>,\n",
       " <selenium.webdriver.remote.webelement.WebElement (session=\"c1c29ab73949743a431ababadbaa7bdd\", element=\"4a27c536-d5c5-420f-ac7b-f1068ef008c2\")>,\n",
       " <selenium.webdriver.remote.webelement.WebElement (session=\"c1c29ab73949743a431ababadbaa7bdd\", element=\"e1b2666e-1edb-4cee-9083-4d28a150b772\")>,\n",
       " <selenium.webdriver.remote.webelement.WebElement (session=\"c1c29ab73949743a431ababadbaa7bdd\", element=\"2b8338d9-bc8d-456d-b774-6d917abc16ec\")>,\n",
       " <selenium.webdriver.remote.webelement.WebElement (session=\"c1c29ab73949743a431ababadbaa7bdd\", element=\"711b7721-231b-4525-9bc8-cb2563b44c72\")>,\n",
       " <selenium.webdriver.remote.webelement.WebElement (session=\"c1c29ab73949743a431ababadbaa7bdd\", element=\"cf1504c9-b8c5-45d5-a784-300c212b1c38\")>,\n",
       " <selenium.webdriver.remote.webelement.WebElement (session=\"c1c29ab73949743a431ababadbaa7bdd\", element=\"d98499a4-8413-4811-ab3b-d1d99ceae702\")>,\n",
       " <selenium.webdriver.remote.webelement.WebElement (session=\"c1c29ab73949743a431ababadbaa7bdd\", element=\"b4aa1604-54ac-425e-bc2b-a39ebf1b9cb9\")>,\n",
       " <selenium.webdriver.remote.webelement.WebElement (session=\"c1c29ab73949743a431ababadbaa7bdd\", element=\"211fc7ec-6af5-432e-81fb-4fa74e56c58d\")>,\n",
       " <selenium.webdriver.remote.webelement.WebElement (session=\"c1c29ab73949743a431ababadbaa7bdd\", element=\"5d079824-7c50-4049-a4eb-a5bd0fc4f28a\")>,\n",
       " <selenium.webdriver.remote.webelement.WebElement (session=\"c1c29ab73949743a431ababadbaa7bdd\", element=\"78ebf80e-e92c-482b-a244-4af29964f74c\")>,\n",
       " <selenium.webdriver.remote.webelement.WebElement (session=\"c1c29ab73949743a431ababadbaa7bdd\", element=\"5f25c7cf-914e-474d-b8c0-28818f194f0b\")>,\n",
       " <selenium.webdriver.remote.webelement.WebElement (session=\"c1c29ab73949743a431ababadbaa7bdd\", element=\"c0fdc977-c18b-47ae-9b29-b5b683abc086\")>,\n",
       " <selenium.webdriver.remote.webelement.WebElement (session=\"c1c29ab73949743a431ababadbaa7bdd\", element=\"23195860-6d0f-4abd-b9f6-bfa66aa6d409\")>,\n",
       " <selenium.webdriver.remote.webelement.WebElement (session=\"c1c29ab73949743a431ababadbaa7bdd\", element=\"9653cb88-2ae0-4a0f-b00e-f976d19853dc\")>,\n",
       " <selenium.webdriver.remote.webelement.WebElement (session=\"c1c29ab73949743a431ababadbaa7bdd\", element=\"bcbd10b0-fe68-4487-a8d9-91bb1bdbd57b\")>,\n",
       " <selenium.webdriver.remote.webelement.WebElement (session=\"c1c29ab73949743a431ababadbaa7bdd\", element=\"e8b42ce2-3993-4fb2-b842-9f2b705ba0cb\")>,\n",
       " <selenium.webdriver.remote.webelement.WebElement (session=\"c1c29ab73949743a431ababadbaa7bdd\", element=\"a2f3d701-9c86-4093-8e85-6d8bba996bc9\")>,\n",
       " <selenium.webdriver.remote.webelement.WebElement (session=\"c1c29ab73949743a431ababadbaa7bdd\", element=\"41753f35-f315-42e0-b52e-12e064c991eb\")>,\n",
       " <selenium.webdriver.remote.webelement.WebElement (session=\"c1c29ab73949743a431ababadbaa7bdd\", element=\"a20f9d16-2c9b-4e39-932a-f94cdaf9d03b\")>,\n",
       " <selenium.webdriver.remote.webelement.WebElement (session=\"c1c29ab73949743a431ababadbaa7bdd\", element=\"c5d1a357-1551-48f5-b5db-9394122611bc\")>,\n",
       " <selenium.webdriver.remote.webelement.WebElement (session=\"c1c29ab73949743a431ababadbaa7bdd\", element=\"f12c3745-98ce-40e3-9b48-ca3d160d6b56\")>,\n",
       " <selenium.webdriver.remote.webelement.WebElement (session=\"c1c29ab73949743a431ababadbaa7bdd\", element=\"717196a4-8fa4-441f-a7df-841b61e3789f\")>,\n",
       " <selenium.webdriver.remote.webelement.WebElement (session=\"c1c29ab73949743a431ababadbaa7bdd\", element=\"cd2d117d-ec0d-40bb-bdc3-59adce9d590c\")>,\n",
       " <selenium.webdriver.remote.webelement.WebElement (session=\"c1c29ab73949743a431ababadbaa7bdd\", element=\"b428a3f3-12a9-44f5-bfa9-87f011d9d00e\")>,\n",
       " <selenium.webdriver.remote.webelement.WebElement (session=\"c1c29ab73949743a431ababadbaa7bdd\", element=\"44a37e8c-5c31-4278-ab41-19ef2d4822ee\")>,\n",
       " <selenium.webdriver.remote.webelement.WebElement (session=\"c1c29ab73949743a431ababadbaa7bdd\", element=\"45ba0c61-8665-4d86-b3c2-1d939b52850f\")>,\n",
       " <selenium.webdriver.remote.webelement.WebElement (session=\"c1c29ab73949743a431ababadbaa7bdd\", element=\"fa7c74b8-9972-4408-8861-2f80d9647d93\")>,\n",
       " <selenium.webdriver.remote.webelement.WebElement (session=\"c1c29ab73949743a431ababadbaa7bdd\", element=\"620d4614-cd22-49a4-b22e-4f9119aec75e\")>,\n",
       " <selenium.webdriver.remote.webelement.WebElement (session=\"c1c29ab73949743a431ababadbaa7bdd\", element=\"57679739-4e87-413b-a07d-03d118cf2ee7\")>,\n",
       " <selenium.webdriver.remote.webelement.WebElement (session=\"c1c29ab73949743a431ababadbaa7bdd\", element=\"462f0da5-4841-4cec-ae23-8b9a03b684c2\")>,\n",
       " <selenium.webdriver.remote.webelement.WebElement (session=\"c1c29ab73949743a431ababadbaa7bdd\", element=\"3c5d5886-78f3-4625-a6bb-c9ea1df73ad5\")>,\n",
       " <selenium.webdriver.remote.webelement.WebElement (session=\"c1c29ab73949743a431ababadbaa7bdd\", element=\"500b9375-e7de-4271-8196-59c5866cc426\")>]"
      ]
     },
     "execution_count": 125,
     "metadata": {},
     "output_type": "execute_result"
    }
   ],
   "source": [
    "des_tag=driver.find_elements_by_xpath(\"//div[@class='_2WkVRV']\")\n",
    "des_tag[0:100]"
   ]
  },
  {
   "cell_type": "code",
   "execution_count": 126,
   "metadata": {},
   "outputs": [
    {
     "data": {
      "text/plain": [
       "['bluemaker',\n",
       " 'SPARX',\n",
       " 'Chevit',\n",
       " 'Chevit',\n",
       " 'Robbie jones',\n",
       " 'Chevit',\n",
       " 'Robbie jones',\n",
       " 'aadi',\n",
       " 'Shoes Bank',\n",
       " 'ORICUM',\n",
       " 'Chevit',\n",
       " 'Chevit',\n",
       " 'Chevit',\n",
       " 'bluemaker',\n",
       " 'Red Rose',\n",
       " 'SPARX',\n",
       " 'HOTSTYLE',\n",
       " 'T-ROCK',\n",
       " 'ROCKFIELD',\n",
       " 'EZBRA',\n",
       " 'believe',\n",
       " 'SCATCHITE',\n",
       " 'D-SNEAKERZ',\n",
       " 'Magnolia',\n",
       " 'Numenzo',\n",
       " 'Magnolia',\n",
       " 'bluemaker',\n",
       " 'Birde',\n",
       " 'SPARX',\n",
       " 'ENJOY the celebration people',\n",
       " 'HOTSTYLE',\n",
       " 'WOODLAND',\n",
       " '\"trend\"',\n",
       " 'bluemaker',\n",
       " 'Stefano Rads',\n",
       " 'Wika',\n",
       " 'A ANTIC MOP',\n",
       " 'Red Rose',\n",
       " 'Jokatoo',\n",
       " 'bluemaker']"
      ]
     },
     "execution_count": 126,
     "metadata": {},
     "output_type": "execute_result"
    }
   ],
   "source": [
    "for i in des_tag:\n",
    "    des=i.text\n",
    "    product_description.append(des)\n",
    "product_description[0:100]"
   ]
  },
  {
   "cell_type": "code",
   "execution_count": 127,
   "metadata": {},
   "outputs": [
    {
     "data": {
      "text/plain": [
       "[<selenium.webdriver.remote.webelement.WebElement (session=\"c1c29ab73949743a431ababadbaa7bdd\", element=\"e588b067-557b-4150-9c3c-4fb8795f254c\")>,\n",
       " <selenium.webdriver.remote.webelement.WebElement (session=\"c1c29ab73949743a431ababadbaa7bdd\", element=\"cba749b0-eb07-4979-b88e-29a291b10abc\")>,\n",
       " <selenium.webdriver.remote.webelement.WebElement (session=\"c1c29ab73949743a431ababadbaa7bdd\", element=\"dff22d02-4108-4b5c-835a-7173347d7ab9\")>,\n",
       " <selenium.webdriver.remote.webelement.WebElement (session=\"c1c29ab73949743a431ababadbaa7bdd\", element=\"60fc05e6-68f2-4c25-957e-92c59b3aea49\")>,\n",
       " <selenium.webdriver.remote.webelement.WebElement (session=\"c1c29ab73949743a431ababadbaa7bdd\", element=\"72655ffe-c811-4c20-9e30-08a2738fa57d\")>,\n",
       " <selenium.webdriver.remote.webelement.WebElement (session=\"c1c29ab73949743a431ababadbaa7bdd\", element=\"b080fe98-9126-429d-91ed-25ba37f0ec92\")>,\n",
       " <selenium.webdriver.remote.webelement.WebElement (session=\"c1c29ab73949743a431ababadbaa7bdd\", element=\"037a4a25-e7d1-4d4e-baf2-a67d5a26a3b0\")>,\n",
       " <selenium.webdriver.remote.webelement.WebElement (session=\"c1c29ab73949743a431ababadbaa7bdd\", element=\"13c7e3d5-7c88-46dc-b0aa-92cd99db3d1f\")>,\n",
       " <selenium.webdriver.remote.webelement.WebElement (session=\"c1c29ab73949743a431ababadbaa7bdd\", element=\"7d570d10-ade2-48d6-8f9a-c1f8aa615daf\")>,\n",
       " <selenium.webdriver.remote.webelement.WebElement (session=\"c1c29ab73949743a431ababadbaa7bdd\", element=\"d67cf4ce-8e49-420a-abfe-1e4cb2a515be\")>,\n",
       " <selenium.webdriver.remote.webelement.WebElement (session=\"c1c29ab73949743a431ababadbaa7bdd\", element=\"bad8728a-980d-4807-9340-dc682ec96b7d\")>,\n",
       " <selenium.webdriver.remote.webelement.WebElement (session=\"c1c29ab73949743a431ababadbaa7bdd\", element=\"862f911a-fb21-4aba-b1ba-69b4b3caf614\")>,\n",
       " <selenium.webdriver.remote.webelement.WebElement (session=\"c1c29ab73949743a431ababadbaa7bdd\", element=\"7fdd07be-2359-4f87-9510-4abdd7988db4\")>,\n",
       " <selenium.webdriver.remote.webelement.WebElement (session=\"c1c29ab73949743a431ababadbaa7bdd\", element=\"305793a6-7293-4e8b-9591-a6178144133b\")>,\n",
       " <selenium.webdriver.remote.webelement.WebElement (session=\"c1c29ab73949743a431ababadbaa7bdd\", element=\"2266af37-6f92-4336-baf9-630f21296ed6\")>,\n",
       " <selenium.webdriver.remote.webelement.WebElement (session=\"c1c29ab73949743a431ababadbaa7bdd\", element=\"26f7dc15-f8fc-4cf3-bce2-f145c1ca3a28\")>,\n",
       " <selenium.webdriver.remote.webelement.WebElement (session=\"c1c29ab73949743a431ababadbaa7bdd\", element=\"67047d0f-d168-43db-8d99-94cb697a53bc\")>,\n",
       " <selenium.webdriver.remote.webelement.WebElement (session=\"c1c29ab73949743a431ababadbaa7bdd\", element=\"90ff2e40-2ea9-49ef-ad4d-289eee8ceec9\")>,\n",
       " <selenium.webdriver.remote.webelement.WebElement (session=\"c1c29ab73949743a431ababadbaa7bdd\", element=\"8497d372-ef3d-4474-8399-0ac0df82deab\")>,\n",
       " <selenium.webdriver.remote.webelement.WebElement (session=\"c1c29ab73949743a431ababadbaa7bdd\", element=\"f61b1fcb-6ab7-484a-b1fa-8709ab27501a\")>,\n",
       " <selenium.webdriver.remote.webelement.WebElement (session=\"c1c29ab73949743a431ababadbaa7bdd\", element=\"f3787db0-4372-4f88-b3f8-e1ad8a564a81\")>,\n",
       " <selenium.webdriver.remote.webelement.WebElement (session=\"c1c29ab73949743a431ababadbaa7bdd\", element=\"15ef6fcf-6d26-49b7-96de-da64af9f7654\")>,\n",
       " <selenium.webdriver.remote.webelement.WebElement (session=\"c1c29ab73949743a431ababadbaa7bdd\", element=\"52d69f5f-9f49-45c6-9096-7f1b2c90a599\")>,\n",
       " <selenium.webdriver.remote.webelement.WebElement (session=\"c1c29ab73949743a431ababadbaa7bdd\", element=\"87319d2e-f0e5-4ccc-a734-3ebe1a09531f\")>,\n",
       " <selenium.webdriver.remote.webelement.WebElement (session=\"c1c29ab73949743a431ababadbaa7bdd\", element=\"f4053c04-6690-4e29-8b20-7d202090db72\")>,\n",
       " <selenium.webdriver.remote.webelement.WebElement (session=\"c1c29ab73949743a431ababadbaa7bdd\", element=\"98ce110d-4d8e-4766-9ddf-d334f1671b6e\")>,\n",
       " <selenium.webdriver.remote.webelement.WebElement (session=\"c1c29ab73949743a431ababadbaa7bdd\", element=\"58450142-5bc0-4d16-8c73-85256ebce389\")>,\n",
       " <selenium.webdriver.remote.webelement.WebElement (session=\"c1c29ab73949743a431ababadbaa7bdd\", element=\"64ea305f-d6a3-46a6-8be9-4dbc4f5d7c05\")>,\n",
       " <selenium.webdriver.remote.webelement.WebElement (session=\"c1c29ab73949743a431ababadbaa7bdd\", element=\"e2199767-aae1-4405-85e2-a68bf3a81412\")>,\n",
       " <selenium.webdriver.remote.webelement.WebElement (session=\"c1c29ab73949743a431ababadbaa7bdd\", element=\"760ccb34-3621-4aaf-bad0-2c563ea81a0e\")>,\n",
       " <selenium.webdriver.remote.webelement.WebElement (session=\"c1c29ab73949743a431ababadbaa7bdd\", element=\"397d0970-46b6-4d32-b05f-fc7e57d36b12\")>,\n",
       " <selenium.webdriver.remote.webelement.WebElement (session=\"c1c29ab73949743a431ababadbaa7bdd\", element=\"040cdd61-5799-4edf-8114-f9239521ee55\")>,\n",
       " <selenium.webdriver.remote.webelement.WebElement (session=\"c1c29ab73949743a431ababadbaa7bdd\", element=\"7fc45fea-93da-485a-a660-21a0f1dd345c\")>,\n",
       " <selenium.webdriver.remote.webelement.WebElement (session=\"c1c29ab73949743a431ababadbaa7bdd\", element=\"269b0d19-c756-44ab-b2bb-83a2c78c900a\")>,\n",
       " <selenium.webdriver.remote.webelement.WebElement (session=\"c1c29ab73949743a431ababadbaa7bdd\", element=\"a7e75808-e722-4a4f-b16c-61983af4fdff\")>,\n",
       " <selenium.webdriver.remote.webelement.WebElement (session=\"c1c29ab73949743a431ababadbaa7bdd\", element=\"22dc2b0e-3b65-4a33-a934-5c1ec7ea2748\")>,\n",
       " <selenium.webdriver.remote.webelement.WebElement (session=\"c1c29ab73949743a431ababadbaa7bdd\", element=\"fbd3c3b7-ba7c-4fa4-9932-f320b66fe7f7\")>,\n",
       " <selenium.webdriver.remote.webelement.WebElement (session=\"c1c29ab73949743a431ababadbaa7bdd\", element=\"f88cbbcd-a7f0-4a08-990c-01f33c8a7be6\")>,\n",
       " <selenium.webdriver.remote.webelement.WebElement (session=\"c1c29ab73949743a431ababadbaa7bdd\", element=\"27e89f63-f862-4107-b217-279c041d245d\")>,\n",
       " <selenium.webdriver.remote.webelement.WebElement (session=\"c1c29ab73949743a431ababadbaa7bdd\", element=\"486ff07a-750e-47bd-b424-a0153de5ba01\")>]"
      ]
     },
     "execution_count": 127,
     "metadata": {},
     "output_type": "execute_result"
    }
   ],
   "source": [
    "price_tag=driver.find_elements_by_xpath(\"//div[@class='_30jeq3']\")\n",
    "price_tag[0:100]"
   ]
  },
  {
   "cell_type": "code",
   "execution_count": 128,
   "metadata": {},
   "outputs": [
    {
     "data": {
      "text/plain": [
       "['₹499',\n",
       " '₹499',\n",
       " '₹499',\n",
       " '₹474',\n",
       " '₹399',\n",
       " '₹420',\n",
       " '₹499',\n",
       " '₹298',\n",
       " '₹349',\n",
       " '₹398',\n",
       " '₹322',\n",
       " '₹254',\n",
       " '₹211',\n",
       " '₹499',\n",
       " '₹379',\n",
       " '₹999',\n",
       " '₹283',\n",
       " '₹386',\n",
       " '₹360',\n",
       " '₹389',\n",
       " '₹446',\n",
       " '₹398',\n",
       " '₹367',\n",
       " '₹330',\n",
       " '₹398',\n",
       " '₹323',\n",
       " '₹499',\n",
       " '₹299',\n",
       " '₹840',\n",
       " '₹649',\n",
       " '₹199',\n",
       " '₹947',\n",
       " '₹479',\n",
       " '₹499',\n",
       " '₹242',\n",
       " '₹449',\n",
       " '₹420',\n",
       " '₹379',\n",
       " '₹455',\n",
       " '₹499']"
      ]
     },
     "execution_count": 128,
     "metadata": {},
     "output_type": "execute_result"
    }
   ],
   "source": [
    "for i in price_tag:\n",
    "    price=i.text\n",
    "    product_price.append(price)\n",
    "product_price[0:100]"
   ]
  },
  {
   "cell_type": "code",
   "execution_count": 129,
   "metadata": {},
   "outputs": [
    {
     "data": {
      "text/plain": [
       "[<selenium.webdriver.remote.webelement.WebElement (session=\"c1c29ab73949743a431ababadbaa7bdd\", element=\"7db9016c-7ce6-4284-8bb2-3a8dcc04f6de\")>,\n",
       " <selenium.webdriver.remote.webelement.WebElement (session=\"c1c29ab73949743a431ababadbaa7bdd\", element=\"7e947de2-6ce8-4d67-b60e-4bf320893e18\")>,\n",
       " <selenium.webdriver.remote.webelement.WebElement (session=\"c1c29ab73949743a431ababadbaa7bdd\", element=\"a82615ae-3371-4d4c-a1d3-01a2ae84f7a3\")>,\n",
       " <selenium.webdriver.remote.webelement.WebElement (session=\"c1c29ab73949743a431ababadbaa7bdd\", element=\"e41cdd80-7448-410e-9d4f-3c9fecc3ef7d\")>,\n",
       " <selenium.webdriver.remote.webelement.WebElement (session=\"c1c29ab73949743a431ababadbaa7bdd\", element=\"257237ef-2903-48a7-9004-a5df19114e35\")>,\n",
       " <selenium.webdriver.remote.webelement.WebElement (session=\"c1c29ab73949743a431ababadbaa7bdd\", element=\"e977e090-2e5e-40bf-a0cd-1913089f3880\")>,\n",
       " <selenium.webdriver.remote.webelement.WebElement (session=\"c1c29ab73949743a431ababadbaa7bdd\", element=\"ac42a64a-96f3-4252-aa5d-5cd51a64f3fb\")>,\n",
       " <selenium.webdriver.remote.webelement.WebElement (session=\"c1c29ab73949743a431ababadbaa7bdd\", element=\"5d3c1d9a-b7e4-4a5c-b3bf-9e9caf2f9fc7\")>,\n",
       " <selenium.webdriver.remote.webelement.WebElement (session=\"c1c29ab73949743a431ababadbaa7bdd\", element=\"274383b9-8f68-4693-8af7-21477c8a4717\")>,\n",
       " <selenium.webdriver.remote.webelement.WebElement (session=\"c1c29ab73949743a431ababadbaa7bdd\", element=\"7332337c-01c5-4828-b8e9-e0a7e1a71f40\")>,\n",
       " <selenium.webdriver.remote.webelement.WebElement (session=\"c1c29ab73949743a431ababadbaa7bdd\", element=\"844a41de-8bd4-4bac-bf20-54048e75180d\")>,\n",
       " <selenium.webdriver.remote.webelement.WebElement (session=\"c1c29ab73949743a431ababadbaa7bdd\", element=\"c6b197cd-265d-476e-a064-f2f9ffd7052f\")>,\n",
       " <selenium.webdriver.remote.webelement.WebElement (session=\"c1c29ab73949743a431ababadbaa7bdd\", element=\"ab76852d-67fd-4ef8-ad11-83ae049fa2ac\")>,\n",
       " <selenium.webdriver.remote.webelement.WebElement (session=\"c1c29ab73949743a431ababadbaa7bdd\", element=\"62afecc6-aea8-46c5-b0bb-ea9ca1957e92\")>,\n",
       " <selenium.webdriver.remote.webelement.WebElement (session=\"c1c29ab73949743a431ababadbaa7bdd\", element=\"337ad179-5b42-45b2-be35-e8975feb6369\")>,\n",
       " <selenium.webdriver.remote.webelement.WebElement (session=\"c1c29ab73949743a431ababadbaa7bdd\", element=\"54e73398-5707-4642-88e9-3a7e5cbe185c\")>,\n",
       " <selenium.webdriver.remote.webelement.WebElement (session=\"c1c29ab73949743a431ababadbaa7bdd\", element=\"efdb94f2-da95-4cb7-9d13-1fa81da76570\")>,\n",
       " <selenium.webdriver.remote.webelement.WebElement (session=\"c1c29ab73949743a431ababadbaa7bdd\", element=\"cdba55b3-00c6-459c-b644-b86515f32d45\")>,\n",
       " <selenium.webdriver.remote.webelement.WebElement (session=\"c1c29ab73949743a431ababadbaa7bdd\", element=\"0c105f68-9363-4d04-b356-20f5dc4550f3\")>,\n",
       " <selenium.webdriver.remote.webelement.WebElement (session=\"c1c29ab73949743a431ababadbaa7bdd\", element=\"3e354330-e3f4-475a-be81-b3bea3d7d7be\")>,\n",
       " <selenium.webdriver.remote.webelement.WebElement (session=\"c1c29ab73949743a431ababadbaa7bdd\", element=\"cd5780fb-6a47-4841-b59d-0f9c8992795d\")>,\n",
       " <selenium.webdriver.remote.webelement.WebElement (session=\"c1c29ab73949743a431ababadbaa7bdd\", element=\"4d6aa94b-b9d9-41c6-9ced-33e8df73be3a\")>,\n",
       " <selenium.webdriver.remote.webelement.WebElement (session=\"c1c29ab73949743a431ababadbaa7bdd\", element=\"82cce4c4-f201-445c-ae2b-289abf931962\")>,\n",
       " <selenium.webdriver.remote.webelement.WebElement (session=\"c1c29ab73949743a431ababadbaa7bdd\", element=\"1ec85085-31d0-4ff4-8751-8844c52588ae\")>,\n",
       " <selenium.webdriver.remote.webelement.WebElement (session=\"c1c29ab73949743a431ababadbaa7bdd\", element=\"a882b2b3-e897-4c45-9bfc-5dec35e31e87\")>,\n",
       " <selenium.webdriver.remote.webelement.WebElement (session=\"c1c29ab73949743a431ababadbaa7bdd\", element=\"e3a332be-fca2-40b2-a563-5500056a4253\")>,\n",
       " <selenium.webdriver.remote.webelement.WebElement (session=\"c1c29ab73949743a431ababadbaa7bdd\", element=\"37d0e332-aa7e-4553-b4b2-1264d9c2dc6e\")>,\n",
       " <selenium.webdriver.remote.webelement.WebElement (session=\"c1c29ab73949743a431ababadbaa7bdd\", element=\"bdbc5f61-2c88-4282-ad5f-5ea9b1cf6f93\")>,\n",
       " <selenium.webdriver.remote.webelement.WebElement (session=\"c1c29ab73949743a431ababadbaa7bdd\", element=\"b8b95267-2c4a-4119-9e4e-db30a2d778c1\")>,\n",
       " <selenium.webdriver.remote.webelement.WebElement (session=\"c1c29ab73949743a431ababadbaa7bdd\", element=\"505c8058-f72b-4b16-92d0-1242779138b4\")>,\n",
       " <selenium.webdriver.remote.webelement.WebElement (session=\"c1c29ab73949743a431ababadbaa7bdd\", element=\"689a1b37-6105-4489-8dd9-f88d4e45fad7\")>,\n",
       " <selenium.webdriver.remote.webelement.WebElement (session=\"c1c29ab73949743a431ababadbaa7bdd\", element=\"c6a42bc5-0422-415a-af50-ed014d2cb77c\")>,\n",
       " <selenium.webdriver.remote.webelement.WebElement (session=\"c1c29ab73949743a431ababadbaa7bdd\", element=\"67d067ce-845b-4baa-b523-5885163b7236\")>,\n",
       " <selenium.webdriver.remote.webelement.WebElement (session=\"c1c29ab73949743a431ababadbaa7bdd\", element=\"dddcc880-d8da-4a98-9a7c-517429a4559f\")>,\n",
       " <selenium.webdriver.remote.webelement.WebElement (session=\"c1c29ab73949743a431ababadbaa7bdd\", element=\"e3217679-b99c-4c6e-b65d-ec3a7d08d502\")>,\n",
       " <selenium.webdriver.remote.webelement.WebElement (session=\"c1c29ab73949743a431ababadbaa7bdd\", element=\"efa0a9ea-8743-45b6-9700-1644597c2ef7\")>,\n",
       " <selenium.webdriver.remote.webelement.WebElement (session=\"c1c29ab73949743a431ababadbaa7bdd\", element=\"f2b0fa87-a042-471d-831f-bd8491e74f2d\")>,\n",
       " <selenium.webdriver.remote.webelement.WebElement (session=\"c1c29ab73949743a431ababadbaa7bdd\", element=\"56b50e1c-bd8b-41cc-a006-9937e9e63a96\")>,\n",
       " <selenium.webdriver.remote.webelement.WebElement (session=\"c1c29ab73949743a431ababadbaa7bdd\", element=\"32880cda-5640-4883-847b-7dac015011f6\")>,\n",
       " <selenium.webdriver.remote.webelement.WebElement (session=\"c1c29ab73949743a431ababadbaa7bdd\", element=\"872b68ce-388d-4c09-8d29-2377f63c26c2\")>]"
      ]
     },
     "execution_count": 129,
     "metadata": {},
     "output_type": "execute_result"
    }
   ],
   "source": [
    "discount_tag=driver.find_elements_by_xpath(\"//div[@class='_3Ay6Sb']/span[1]\")\n",
    "\n",
    "discount_tag[0:100]"
   ]
  },
  {
   "cell_type": "code",
   "execution_count": 130,
   "metadata": {},
   "outputs": [
    {
     "data": {
      "text/plain": [
       "['50% off',\n",
       " '44% off',\n",
       " '72% off',\n",
       " '76% off',\n",
       " '60% off',\n",
       " '78% off',\n",
       " '50% off',\n",
       " '70% off',\n",
       " '65% off',\n",
       " '60% off',\n",
       " '67% off',\n",
       " '74% off',\n",
       " '57% off',\n",
       " '50% off',\n",
       " '62% off',\n",
       " '23% off',\n",
       " '43% off',\n",
       " '61% off',\n",
       " '63% off',\n",
       " '61% off',\n",
       " '55% off',\n",
       " '60% off',\n",
       " '44% off',\n",
       " '66% off',\n",
       " '60% off',\n",
       " '67% off',\n",
       " '50% off',\n",
       " '40% off',\n",
       " '15% off',\n",
       " '35% off',\n",
       " '60% off',\n",
       " '52% off',\n",
       " '88% off',\n",
       " '50% off',\n",
       " '65% off',\n",
       " '55% off',\n",
       " '57% off',\n",
       " '24% off',\n",
       " '69% off',\n",
       " '50% off']"
      ]
     },
     "execution_count": 130,
     "metadata": {},
     "output_type": "execute_result"
    }
   ],
   "source": [
    "for i in discount_tag:\n",
    "    discount=i.text\n",
    "    product_discount.append(discount)\n",
    "product_discount[0:100]"
   ]
  },
  {
   "cell_type": "code",
   "execution_count": 131,
   "metadata": {},
   "outputs": [
    {
     "name": "stdout",
     "output_type": "stream",
     "text": [
      "40 40 40 40\n"
     ]
    }
   ],
   "source": [
    "print(len(product_brand),len(product_description),len(product_price),len(product_discount))"
   ]
  },
  {
   "cell_type": "code",
   "execution_count": 132,
   "metadata": {},
   "outputs": [],
   "source": [
    "import pandas as pd\n",
    "sneakers=pd.DataFrame({})\n",
    "sneakers['brand']=product_brand\n",
    "sneakers['des']=product_description\n",
    "sneakers['price']=product_price\n",
    "sneakers['discount']=product_discount"
   ]
  },
  {
   "cell_type": "code",
   "execution_count": 133,
   "metadata": {},
   "outputs": [
    {
     "data": {
      "text/html": [
       "<div>\n",
       "<style scoped>\n",
       "    .dataframe tbody tr th:only-of-type {\n",
       "        vertical-align: middle;\n",
       "    }\n",
       "\n",
       "    .dataframe tbody tr th {\n",
       "        vertical-align: top;\n",
       "    }\n",
       "\n",
       "    .dataframe thead th {\n",
       "        text-align: right;\n",
       "    }\n",
       "</style>\n",
       "<table border=\"1\" class=\"dataframe\">\n",
       "  <thead>\n",
       "    <tr style=\"text-align: right;\">\n",
       "      <th></th>\n",
       "      <th>brand</th>\n",
       "      <th>des</th>\n",
       "      <th>price</th>\n",
       "      <th>discount</th>\n",
       "    </tr>\n",
       "  </thead>\n",
       "  <tbody>\n",
       "    <tr>\n",
       "      <th>0</th>\n",
       "      <td>bluemaker</td>\n",
       "      <td>bluemaker</td>\n",
       "      <td>₹499</td>\n",
       "      <td>50% off</td>\n",
       "    </tr>\n",
       "    <tr>\n",
       "      <th>1</th>\n",
       "      <td>SPARX</td>\n",
       "      <td>SPARX</td>\n",
       "      <td>₹499</td>\n",
       "      <td>44% off</td>\n",
       "    </tr>\n",
       "    <tr>\n",
       "      <th>2</th>\n",
       "      <td>Chevit</td>\n",
       "      <td>Chevit</td>\n",
       "      <td>₹499</td>\n",
       "      <td>72% off</td>\n",
       "    </tr>\n",
       "    <tr>\n",
       "      <th>3</th>\n",
       "      <td>Chevit</td>\n",
       "      <td>Chevit</td>\n",
       "      <td>₹474</td>\n",
       "      <td>76% off</td>\n",
       "    </tr>\n",
       "    <tr>\n",
       "      <th>4</th>\n",
       "      <td>Robbie jones</td>\n",
       "      <td>Robbie jones</td>\n",
       "      <td>₹399</td>\n",
       "      <td>60% off</td>\n",
       "    </tr>\n",
       "    <tr>\n",
       "      <th>5</th>\n",
       "      <td>Chevit</td>\n",
       "      <td>Chevit</td>\n",
       "      <td>₹420</td>\n",
       "      <td>78% off</td>\n",
       "    </tr>\n",
       "    <tr>\n",
       "      <th>6</th>\n",
       "      <td>Robbie jones</td>\n",
       "      <td>Robbie jones</td>\n",
       "      <td>₹499</td>\n",
       "      <td>50% off</td>\n",
       "    </tr>\n",
       "    <tr>\n",
       "      <th>7</th>\n",
       "      <td>aadi</td>\n",
       "      <td>aadi</td>\n",
       "      <td>₹298</td>\n",
       "      <td>70% off</td>\n",
       "    </tr>\n",
       "    <tr>\n",
       "      <th>8</th>\n",
       "      <td>Shoes Bank</td>\n",
       "      <td>Shoes Bank</td>\n",
       "      <td>₹349</td>\n",
       "      <td>65% off</td>\n",
       "    </tr>\n",
       "    <tr>\n",
       "      <th>9</th>\n",
       "      <td>ORICUM</td>\n",
       "      <td>ORICUM</td>\n",
       "      <td>₹398</td>\n",
       "      <td>60% off</td>\n",
       "    </tr>\n",
       "    <tr>\n",
       "      <th>10</th>\n",
       "      <td>Chevit</td>\n",
       "      <td>Chevit</td>\n",
       "      <td>₹322</td>\n",
       "      <td>67% off</td>\n",
       "    </tr>\n",
       "    <tr>\n",
       "      <th>11</th>\n",
       "      <td>Chevit</td>\n",
       "      <td>Chevit</td>\n",
       "      <td>₹254</td>\n",
       "      <td>74% off</td>\n",
       "    </tr>\n",
       "    <tr>\n",
       "      <th>12</th>\n",
       "      <td>Chevit</td>\n",
       "      <td>Chevit</td>\n",
       "      <td>₹211</td>\n",
       "      <td>57% off</td>\n",
       "    </tr>\n",
       "    <tr>\n",
       "      <th>13</th>\n",
       "      <td>bluemaker</td>\n",
       "      <td>bluemaker</td>\n",
       "      <td>₹499</td>\n",
       "      <td>50% off</td>\n",
       "    </tr>\n",
       "    <tr>\n",
       "      <th>14</th>\n",
       "      <td>Red Rose</td>\n",
       "      <td>Red Rose</td>\n",
       "      <td>₹379</td>\n",
       "      <td>62% off</td>\n",
       "    </tr>\n",
       "    <tr>\n",
       "      <th>15</th>\n",
       "      <td>SPARX</td>\n",
       "      <td>SPARX</td>\n",
       "      <td>₹999</td>\n",
       "      <td>23% off</td>\n",
       "    </tr>\n",
       "    <tr>\n",
       "      <th>16</th>\n",
       "      <td>HOTSTYLE</td>\n",
       "      <td>HOTSTYLE</td>\n",
       "      <td>₹283</td>\n",
       "      <td>43% off</td>\n",
       "    </tr>\n",
       "    <tr>\n",
       "      <th>17</th>\n",
       "      <td>T-ROCK</td>\n",
       "      <td>T-ROCK</td>\n",
       "      <td>₹386</td>\n",
       "      <td>61% off</td>\n",
       "    </tr>\n",
       "    <tr>\n",
       "      <th>18</th>\n",
       "      <td>ROCKFIELD</td>\n",
       "      <td>ROCKFIELD</td>\n",
       "      <td>₹360</td>\n",
       "      <td>63% off</td>\n",
       "    </tr>\n",
       "    <tr>\n",
       "      <th>19</th>\n",
       "      <td>EZBRA</td>\n",
       "      <td>EZBRA</td>\n",
       "      <td>₹389</td>\n",
       "      <td>61% off</td>\n",
       "    </tr>\n",
       "    <tr>\n",
       "      <th>20</th>\n",
       "      <td>believe</td>\n",
       "      <td>believe</td>\n",
       "      <td>₹446</td>\n",
       "      <td>55% off</td>\n",
       "    </tr>\n",
       "    <tr>\n",
       "      <th>21</th>\n",
       "      <td>SCATCHITE</td>\n",
       "      <td>SCATCHITE</td>\n",
       "      <td>₹398</td>\n",
       "      <td>60% off</td>\n",
       "    </tr>\n",
       "    <tr>\n",
       "      <th>22</th>\n",
       "      <td>D-SNEAKERZ</td>\n",
       "      <td>D-SNEAKERZ</td>\n",
       "      <td>₹367</td>\n",
       "      <td>44% off</td>\n",
       "    </tr>\n",
       "    <tr>\n",
       "      <th>23</th>\n",
       "      <td>Magnolia</td>\n",
       "      <td>Magnolia</td>\n",
       "      <td>₹330</td>\n",
       "      <td>66% off</td>\n",
       "    </tr>\n",
       "    <tr>\n",
       "      <th>24</th>\n",
       "      <td>Numenzo</td>\n",
       "      <td>Numenzo</td>\n",
       "      <td>₹398</td>\n",
       "      <td>60% off</td>\n",
       "    </tr>\n",
       "    <tr>\n",
       "      <th>25</th>\n",
       "      <td>Magnolia</td>\n",
       "      <td>Magnolia</td>\n",
       "      <td>₹323</td>\n",
       "      <td>67% off</td>\n",
       "    </tr>\n",
       "    <tr>\n",
       "      <th>26</th>\n",
       "      <td>bluemaker</td>\n",
       "      <td>bluemaker</td>\n",
       "      <td>₹499</td>\n",
       "      <td>50% off</td>\n",
       "    </tr>\n",
       "    <tr>\n",
       "      <th>27</th>\n",
       "      <td>Birde</td>\n",
       "      <td>Birde</td>\n",
       "      <td>₹299</td>\n",
       "      <td>40% off</td>\n",
       "    </tr>\n",
       "    <tr>\n",
       "      <th>28</th>\n",
       "      <td>SPARX</td>\n",
       "      <td>SPARX</td>\n",
       "      <td>₹840</td>\n",
       "      <td>15% off</td>\n",
       "    </tr>\n",
       "    <tr>\n",
       "      <th>29</th>\n",
       "      <td>ENJOY the celebration people</td>\n",
       "      <td>ENJOY the celebration people</td>\n",
       "      <td>₹649</td>\n",
       "      <td>35% off</td>\n",
       "    </tr>\n",
       "    <tr>\n",
       "      <th>30</th>\n",
       "      <td>HOTSTYLE</td>\n",
       "      <td>HOTSTYLE</td>\n",
       "      <td>₹199</td>\n",
       "      <td>60% off</td>\n",
       "    </tr>\n",
       "    <tr>\n",
       "      <th>31</th>\n",
       "      <td>WOODLAND</td>\n",
       "      <td>WOODLAND</td>\n",
       "      <td>₹947</td>\n",
       "      <td>52% off</td>\n",
       "    </tr>\n",
       "    <tr>\n",
       "      <th>32</th>\n",
       "      <td>\"trend\"</td>\n",
       "      <td>\"trend\"</td>\n",
       "      <td>₹479</td>\n",
       "      <td>88% off</td>\n",
       "    </tr>\n",
       "    <tr>\n",
       "      <th>33</th>\n",
       "      <td>bluemaker</td>\n",
       "      <td>bluemaker</td>\n",
       "      <td>₹499</td>\n",
       "      <td>50% off</td>\n",
       "    </tr>\n",
       "    <tr>\n",
       "      <th>34</th>\n",
       "      <td>Stefano Rads</td>\n",
       "      <td>Stefano Rads</td>\n",
       "      <td>₹242</td>\n",
       "      <td>65% off</td>\n",
       "    </tr>\n",
       "    <tr>\n",
       "      <th>35</th>\n",
       "      <td>Wika</td>\n",
       "      <td>Wika</td>\n",
       "      <td>₹449</td>\n",
       "      <td>55% off</td>\n",
       "    </tr>\n",
       "    <tr>\n",
       "      <th>36</th>\n",
       "      <td>A ANTIC MOP</td>\n",
       "      <td>A ANTIC MOP</td>\n",
       "      <td>₹420</td>\n",
       "      <td>57% off</td>\n",
       "    </tr>\n",
       "    <tr>\n",
       "      <th>37</th>\n",
       "      <td>Red Rose</td>\n",
       "      <td>Red Rose</td>\n",
       "      <td>₹379</td>\n",
       "      <td>24% off</td>\n",
       "    </tr>\n",
       "    <tr>\n",
       "      <th>38</th>\n",
       "      <td>Jokatoo</td>\n",
       "      <td>Jokatoo</td>\n",
       "      <td>₹455</td>\n",
       "      <td>69% off</td>\n",
       "    </tr>\n",
       "    <tr>\n",
       "      <th>39</th>\n",
       "      <td>bluemaker</td>\n",
       "      <td>bluemaker</td>\n",
       "      <td>₹499</td>\n",
       "      <td>50% off</td>\n",
       "    </tr>\n",
       "  </tbody>\n",
       "</table>\n",
       "</div>"
      ],
      "text/plain": [
       "                           brand                           des price discount\n",
       "0                      bluemaker                     bluemaker  ₹499  50% off\n",
       "1                          SPARX                         SPARX  ₹499  44% off\n",
       "2                         Chevit                        Chevit  ₹499  72% off\n",
       "3                         Chevit                        Chevit  ₹474  76% off\n",
       "4                   Robbie jones                  Robbie jones  ₹399  60% off\n",
       "5                         Chevit                        Chevit  ₹420  78% off\n",
       "6                   Robbie jones                  Robbie jones  ₹499  50% off\n",
       "7                           aadi                          aadi  ₹298  70% off\n",
       "8                     Shoes Bank                    Shoes Bank  ₹349  65% off\n",
       "9                         ORICUM                        ORICUM  ₹398  60% off\n",
       "10                        Chevit                        Chevit  ₹322  67% off\n",
       "11                        Chevit                        Chevit  ₹254  74% off\n",
       "12                        Chevit                        Chevit  ₹211  57% off\n",
       "13                     bluemaker                     bluemaker  ₹499  50% off\n",
       "14                      Red Rose                      Red Rose  ₹379  62% off\n",
       "15                         SPARX                         SPARX  ₹999  23% off\n",
       "16                      HOTSTYLE                      HOTSTYLE  ₹283  43% off\n",
       "17                        T-ROCK                        T-ROCK  ₹386  61% off\n",
       "18                     ROCKFIELD                     ROCKFIELD  ₹360  63% off\n",
       "19                         EZBRA                         EZBRA  ₹389  61% off\n",
       "20                       believe                       believe  ₹446  55% off\n",
       "21                     SCATCHITE                     SCATCHITE  ₹398  60% off\n",
       "22                    D-SNEAKERZ                    D-SNEAKERZ  ₹367  44% off\n",
       "23                      Magnolia                      Magnolia  ₹330  66% off\n",
       "24                       Numenzo                       Numenzo  ₹398  60% off\n",
       "25                      Magnolia                      Magnolia  ₹323  67% off\n",
       "26                     bluemaker                     bluemaker  ₹499  50% off\n",
       "27                         Birde                         Birde  ₹299  40% off\n",
       "28                         SPARX                         SPARX  ₹840  15% off\n",
       "29  ENJOY the celebration people  ENJOY the celebration people  ₹649  35% off\n",
       "30                      HOTSTYLE                      HOTSTYLE  ₹199  60% off\n",
       "31                      WOODLAND                      WOODLAND  ₹947  52% off\n",
       "32                       \"trend\"                       \"trend\"  ₹479  88% off\n",
       "33                     bluemaker                     bluemaker  ₹499  50% off\n",
       "34                  Stefano Rads                  Stefano Rads  ₹242  65% off\n",
       "35                          Wika                          Wika  ₹449  55% off\n",
       "36                   A ANTIC MOP                   A ANTIC MOP  ₹420  57% off\n",
       "37                      Red Rose                      Red Rose  ₹379  24% off\n",
       "38                       Jokatoo                       Jokatoo  ₹455  69% off\n",
       "39                     bluemaker                     bluemaker  ₹499  50% off"
      ]
     },
     "execution_count": 133,
     "metadata": {},
     "output_type": "execute_result"
    }
   ],
   "source": [
    "sneakers"
   ]
  },
  {
   "cell_type": "code",
   "execution_count": 134,
   "metadata": {},
   "outputs": [],
   "source": [
    "#Closing the driver\n",
    "driver.close()"
   ]
  },
  {
   "cell_type": "markdown",
   "metadata": {},
   "source": [
    "###### Q9: Go to the link - https://www.myntra.com/shoes Set Price filter to “Rs. 6649 to Rs. 13099” , Color filter to “Black”And then scrape First 100 shoes data you get. The data should include “Brand” of the shoes , Short Shoe description, price of the shoes."
   ]
  },
  {
   "cell_type": "code",
   "execution_count": 135,
   "metadata": {},
   "outputs": [],
   "source": [
    "#Importing required libraries\n",
    "import pandas as pd\n",
    "import selenium\n",
    "from selenium import webdriver\n",
    "from selenium.common.exceptions import NoSuchElementException"
   ]
  },
  {
   "cell_type": "code",
   "execution_count": 136,
   "metadata": {},
   "outputs": [],
   "source": [
    "#Connect to web driver\n",
    "driver = webdriver.Chrome(r\"C:\\Users\\rahsh\\Downloads\\chromedriver_win32\\chromedriver.exe\")"
   ]
  },
  {
   "cell_type": "code",
   "execution_count": 137,
   "metadata": {},
   "outputs": [],
   "source": [
    "#specifying the url of the webpage to be scraped\n",
    "url=\"https://www.myntra.com/shoes\""
   ]
  },
  {
   "cell_type": "code",
   "execution_count": 138,
   "metadata": {},
   "outputs": [],
   "source": [
    "#opening the webpage through our driver\n",
    "driver.get(url)"
   ]
  },
  {
   "cell_type": "code",
   "execution_count": 139,
   "metadata": {},
   "outputs": [],
   "source": [
    "#clicking on price filter\n",
    "driver.find_element_by_xpath('//*[@id=\"mountRoot\"]/div/div[1]/main/div[3]/div[1]/section/div/div[5]/ul/li[2]/label/div').click()"
   ]
  },
  {
   "cell_type": "code",
   "execution_count": 140,
   "metadata": {},
   "outputs": [],
   "source": [
    "#clicking on color filter\n",
    "driver.find_element_by_xpath('//*[@id=\"mountRoot\"]/div/div[1]/main/div[3]/div[1]/section/div/div[6]/ul/li[1]/label/div').click()"
   ]
  },
  {
   "cell_type": "code",
   "execution_count": 141,
   "metadata": {},
   "outputs": [],
   "source": [
    "#creating the empty lists\n",
    "Brand=[]\n",
    "Product_Description=[]\n",
    "Price=[]"
   ]
  },
  {
   "cell_type": "code",
   "execution_count": 142,
   "metadata": {},
   "outputs": [],
   "source": [
    "#getting the list of url of first 100 shoes\n",
    "URL=[]\n",
    "for i in range(0,2):\n",
    "    shoes=driver.find_elements_by_xpath(\"//li[@class='product-base']\")\n",
    "    for i in shoes:\n",
    "        #shoes1=i.find_element_by_tag_name(\"div\")\n",
    "        #shoes2=shoes1.find_element_by_tag_name(\"div\")\n",
    "        shoes3=i.find_element_by_tag_name(\"a\")\n",
    "        URL.append(shoes3.get_attribute('href'))\n",
    "    driver.find_element_by_xpath('//*[@id=\"desktopSearchResults\"]/div[2]/section/div[2]/ul/li[3]/a').click()\n",
    "    time.sleep(3)"
   ]
  },
  {
   "cell_type": "code",
   "execution_count": 143,
   "metadata": {},
   "outputs": [
    {
     "data": {
      "text/plain": [
       "['https://www.myntra.com/casual-shoes/cole-haan/cole-haan-men-black-originalgrand-stitchlite-wingtip-oxford-sneakers/11052208/buy',\n",
       " 'https://www.myntra.com/sports-shoes/nike/nike-men-black-air-zoom-pegasus-37-running-shoes/11979982/buy',\n",
       " 'https://www.myntra.com/formal-shoes/hush-puppies/hush-puppies-men-black-solid-leather-formal-slip-ons/12452162/buy',\n",
       " 'https://www.myntra.com/sports-shoes/nike/nike-men-black-jordan-delta-basketball-shoes/12738432/buy',\n",
       " 'https://www.myntra.com/sports-shoes/nike/nike-men-black--yellow-joyride-running-shoes/11979996/buy',\n",
       " 'https://www.myntra.com/sports-shoes/nike/nike-men-black-kd13-ep-mid-top-basketball-shoes/11980028/buy',\n",
       " 'https://www.myntra.com/sports-shoes/nike/nike-men-black-react-infinity-running-shoe/11980034/buy',\n",
       " 'https://www.myntra.com/sports-shoes/under-armour/under-armour-men-black--fluorescent-green-ua-hovr-guardian-2-blk-sports-shoes/11373444/buy',\n",
       " 'https://www.myntra.com/sports-shoes/nike/nike-men-black-react-miler-running-shoes/13327694/buy',\n",
       " 'https://www.myntra.com/sports-shoes/nike/nike-women-black-react-phantom-run-fk-2-running-shoes/11979848/buy',\n",
       " 'https://www.myntra.com/sports-shoes/puma-motorsport/puma-motorsport-unisex-black-mercedes-drift-cat-8-running-shoes/11419712/buy',\n",
       " 'https://www.myntra.com/sports-shoes/under-armour/under-armour-men-black-hovr-strt-woven-design-sportstyle-shoes/11373578/buy',\n",
       " 'https://www.myntra.com/sports-shoes/nike/nike-women-black-air-zoom-vomero-14-running-shoes/11652644/buy',\n",
       " 'https://www.myntra.com/formal-shoes/bugatti/bugatti-men-black-solid-leather-formal-derbys/13782738/buy',\n",
       " 'https://www.myntra.com/sports-shoes/nike/nike-women-black-air-zoom-vomero-15-running-shoes/13327846/buy',\n",
       " 'https://www.myntra.com/sports-shoes/nike/nike-women-black--pink-colourblocked-air-zoom-structure-23-running-shoes/13328008/buy',\n",
       " 'https://www.myntra.com/sports-shoes/nike/nike-women-black-air-zoom-pegasus-37-flyease-running-shoes/11979906/buy',\n",
       " 'https://www.myntra.com/sports-shoes/nike/nike-men-black-air-zoom-vomero-15-running-shoes/13327908/buy',\n",
       " 'https://www.myntra.com/sports-shoes/skechers/skechers-men-black-viper---competitor-training-shoes/12138854/buy',\n",
       " 'https://www.myntra.com/sports-shoes/puma/puma-men-black-mesh-fuse-training-or-gym-shoes/13459320/buy',\n",
       " 'https://www.myntra.com/sports-shoes/under-armour/under-armour-women-black--charcoal-grey-woven-design-liquify-rebel-running-shoes/12247064/buy',\n",
       " 'https://www.myntra.com/sports-shoes/puma/puma-women-black-speed-orbiter-running-shoes/12282290/buy',\n",
       " 'https://www.myntra.com/formal-shoes/hush-puppies/hush-puppies-men-black-solid-formal-derbys-/13123142/buy',\n",
       " 'https://www.myntra.com/casual-shoes/nike/nike-men-black--beige-jordan-delta-sneakers/11979792/buy',\n",
       " 'https://www.myntra.com/casual-shoes/bugatti/bugatti-men-black-perforated-mule-sneakers/13782384/buy',\n",
       " 'https://www.myntra.com/sports-shoes/under-armour/under-armour-women-black--lavender-woven-design-hovr-sonic-3-running-shoes/12247132/buy',\n",
       " 'https://www.myntra.com/sports-shoes/under-armour/under-armour-women-black-woven-design-bluetooth-hovr-sonic-3-running-shoes-/11634252/buy',\n",
       " 'https://www.myntra.com/sports-shoes/puma/puma-men-black-liberate-nitro-running-shoes/13484284/buy',\n",
       " 'https://www.myntra.com/sports-shoes/puma/puma-men-black-velocity-nitro-running-shoes/13484306/buy',\n",
       " 'https://www.myntra.com/sports-shoes/under-armour/under-armour-women-black-hovr-rise-2-training-shoes/12247240/buy',\n",
       " 'https://www.myntra.com/sports-shoes/under-armour/under-armour-men-black--blue-liquify-woven-design-running-shoes/12819536/buy',\n",
       " 'https://www.myntra.com/casual-shoes/skechers/skechers-women-uno---loving-love-printed-sneakers/13846928/buy',\n",
       " 'https://www.myntra.com/casual-shoes/skechers/skechers-women-black-dlites-30-air-sky--sneakers/12470582/buy',\n",
       " 'https://www.myntra.com/sports-shoes/under-armour/under-armour-women-black--lavender-woven-design-charged-impulse-running-shoes/12247138/buy',\n",
       " 'https://www.myntra.com/casual-shoes/tommy-hilfiger/tommy-hilfiger-men-black-solid-heritage-seasonal-leather-sneakers/12448966/buy',\n",
       " 'https://www.myntra.com/sports-shoes/puma/puma-men-black-running-shoes/2254357/buy',\n",
       " 'https://www.myntra.com/casual-shoes/adidas-originals/adidas-originals-men-black-woven-design-nite-jogger-sneakers/11353040/buy',\n",
       " 'https://www.myntra.com/casual-shoes/hush-puppies/hush-puppies-men-black-colourblocked-driving-shoes/12698504/buy',\n",
       " 'https://www.myntra.com/sports-shoes/puma/puma-men-black-lqdcell-method-fm-training-shoes/13484168/buy',\n",
       " 'https://www.myntra.com/casual-shoes/adidas-originals/adidas-originals-men-black-perforated-superstar-sneakers/12709158/buy',\n",
       " 'https://www.myntra.com/formal-shoes/hush-puppies/hush-puppies-men-black-solid-leather-formal-slip-ons/12435690/buy',\n",
       " 'https://www.myntra.com/heels/geox/geox-women-black-leather-solid-block-heels/11774984/buy',\n",
       " 'https://www.myntra.com/formal-shoes/bugatti/bugatti-men-black-textured-leather-formal-loafers/13782932/buy',\n",
       " 'https://www.myntra.com/casual-shoes/nike/nike-women-black-air-max-viva-sneakers/13327800/buy',\n",
       " 'https://www.myntra.com/formal-shoes/heel--buckle-london/heel--buckle-london-men-black-solid-leather-formal-oxfords/10878290/buy',\n",
       " 'https://www.myntra.com/formal-shoes/florsheim/florsheim-men-black-solid-leather-formal-derbys/11977936/buy',\n",
       " 'https://www.myntra.com/sports-shoes/under-armour/under-armour-women-black--charcoal-grey-woven-design-charged-breathe-tr-2-training-shoes/12247108/buy',\n",
       " 'https://www.myntra.com/sports-shoes/under-armour/under-armour-women-black-tribase-reign-2-woven-design-training-shoes/12247276/buy',\n",
       " 'https://www.myntra.com/sports-shoes/puma/puma-men-black-mesh-running-shoes/11336028/buy',\n",
       " 'https://www.myntra.com/sports-shoes/fila/fila-men-black-running-shoes/11984696/buy',\n",
       " 'https://www.myntra.com/sports-shoes/under-armour/under-armour-women-black--charcoal-grey-woven-design-charged-breathe-tr-2-training-shoes/12247108/buy',\n",
       " 'https://www.myntra.com/sports-shoes/under-armour/under-armour-women-black-tribase-reign-2-woven-design-training-shoes/12247276/buy',\n",
       " 'https://www.myntra.com/sports-shoes/puma/puma-men-black-mesh-running-shoes/11336028/buy',\n",
       " 'https://www.myntra.com/sports-shoes/fila/fila-men-black-running-shoes/11984696/buy',\n",
       " 'https://www.myntra.com/casual-shoes/geox/geox-men-black-leather-driving-shoes/10029207/buy',\n",
       " 'https://www.myntra.com/casual-shoes/geox/geox-men-black-leather-driving-shoes/10029259/buy',\n",
       " 'https://www.myntra.com/sports-shoes/under-armour/under-armour-men-black-woven-design-charged-rogue-2-wide-fit-2e-running-shoes/12247074/buy',\n",
       " 'https://www.myntra.com/casual-shoes/under-armour/under-armour-men-black-hovr-ctw-sneakers/10692646/buy',\n",
       " 'https://www.myntra.com/casual-shoes/heel--buckle-london/heel--buckle-london-men-black-leather-sneakers/10878272/buy',\n",
       " 'https://www.myntra.com/casual-shoes/cole-haan/cole-haan-men-black-originalgrand-stitchlite-wingtip-oxford-sneakers/11052208/buy',\n",
       " 'https://www.myntra.com/casual-shoes/geox/geox-men-black-solid-leather-sneakers/11107564/buy',\n",
       " 'https://www.myntra.com/casual-shoes/geox/geox-men-black-solid-leather-driving-shoes/11107532/buy',\n",
       " 'https://www.myntra.com/casual-shoes/bugatti/bugatti-women-black-sneakers/13782874/buy',\n",
       " 'https://www.myntra.com/sports-shoes/xtep/xtep-men-black-textile-high-top-running-shoes/12679004/buy',\n",
       " 'https://www.myntra.com/sports-shoes/under-armour/under-armour-men-black--charcoal-grey-woven-design-liquify-running-shoes/12819530/buy',\n",
       " 'https://www.myntra.com/casual-shoes/clarks/clarks-men-black-leather-casual-derbys/11788848/buy',\n",
       " 'https://www.myntra.com/casual-shoes/tommy-hilfiger/tommy-hilfiger-men-black-solid-sneakers/12449008/buy',\n",
       " 'https://www.myntra.com/casual-shoes/vionic/vionic-men-black--grey-textured-sneakers/12459116/buy',\n",
       " 'https://www.myntra.com/heels/heel--buckle-london/heel--buckle-london-women-black-solid-leather-gladiators/10877590/buy',\n",
       " 'https://www.myntra.com/casual-shoes/hush-puppies/hush-puppies-men-black-leather-slip-on-sneakers/12698534/buy',\n",
       " 'https://www.myntra.com/heels/geox/geox-women-black-solid-leather-pumps/11107568/buy',\n",
       " 'https://www.myntra.com/heels/heel--buckle-london/heel--buckle-london-women-black--transparent-solid-leather-block-heels/10877608/buy',\n",
       " 'https://www.myntra.com/heels/saint-g/saint-g-women-black-woven-design-leather-heeled-boots/11216720/buy',\n",
       " 'https://www.myntra.com/heels/saint-g/saint-g-women-black-solid-heeled-boots/11218120/buy',\n",
       " 'https://www.myntra.com/heels/geox/geox-women-black-solid-leather-wedges/11708778/buy',\n",
       " 'https://www.myntra.com/heels/geox/geox-women-black-solid-wedges/11708816/buy',\n",
       " 'https://www.myntra.com/heels/heel--buckle-london/heel--buckle-london-women-black-embellished-peep-toe-heels/11818354/buy',\n",
       " 'https://www.myntra.com/heels/geox/geox-women-black-leather-solid-pumps/11774972/buy',\n",
       " 'https://www.myntra.com/heels/bugatti/bugatti-women-black--grey-solid-block-heels/13741588/buy',\n",
       " 'https://www.myntra.com/casual-shoes/hush-puppies/hush-puppies-men-black-leather-derbys/13065422/buy',\n",
       " 'https://www.myntra.com/casual-shoes/hush-puppies/hush-puppies-men-black-textured-oxfords/13065474/buy',\n",
       " 'https://www.myntra.com/sports-shoes/puma/puma-men-black-ignite-ronin-unrest-running-shoes/8097939/buy',\n",
       " 'https://www.myntra.com/sports-shoes/puma/puma-men-black--red-ignite-dual-nm-running-shoes/8109743/buy',\n",
       " 'https://www.myntra.com/heels/saint-g/saint-g-women-black-solid-leather-heeled-boots/12310282/buy',\n",
       " 'https://www.myntra.com/casual-shoes/geox/geox-women-black-sequinned-slip-on-sneakers/10018963/buy',\n",
       " 'https://www.myntra.com/formal-shoes/heel--buckle-london/heel--buckle-london-men-black-textured-leather-monk-shoes/10878256/buy',\n",
       " 'https://www.myntra.com/formal-shoes/ruosh/ruosh-men-black-solid-leather-formal-derbys/11930212/buy',\n",
       " 'https://www.myntra.com/casual-shoes/puma-motorsport/puma-motorsport-unisex-black-woven-design-sneakers/13522546/buy',\n",
       " 'https://www.myntra.com/heels/heel--buckle-london/heel--buckle-london-women-black-embellished-leather-pumps/12942670/buy',\n",
       " 'https://www.myntra.com/heels/geox/geox-women-black-solid-flatforms/13131874/buy',\n",
       " 'https://www.myntra.com/heels/cole-haan/cole-haan-women-black-solid-sandals/13160684/buy',\n",
       " 'https://www.myntra.com/formal-shoes/hush-puppies/hush-puppies-men-black-solid-leather-formal-slip-ons/12755300/buy',\n",
       " 'https://www.myntra.com/formal-shoes/geox/geox-men-black-solid-leather-formal-derbys/11708834/buy',\n",
       " 'https://www.myntra.com/formal-shoes/ruosh/ruosh-men-black-solid-leather-formal-oxfords/11714642/buy',\n",
       " 'https://www.myntra.com/formal-shoes/geox/geox-men-black-solid-leather-formal-slip-ons/11708786/buy',\n",
       " 'https://www.myntra.com/formal-shoes/geox/geox-men-black-solid-leather-formal-derbys/11708826/buy',\n",
       " 'https://www.myntra.com/casual-shoes/geox/geox-women-black-leather-boat-shoes/11708712/buy',\n",
       " 'https://www.myntra.com/flats/geox/geox-women-black-solid-leather-flats/11774956/buy',\n",
       " 'https://www.myntra.com/casual-shoes/cole-haan/cole-haan-women-black-zerogrand-global-trainer-sneakers/11910804/buy',\n",
       " 'https://www.myntra.com/formal-shoes/geox/geox-men-black-solid-leather-formal-oxfords/11774934/buy']"
      ]
     },
     "execution_count": 143,
     "metadata": {},
     "output_type": "execute_result"
    }
   ],
   "source": [
    "URL"
   ]
  },
  {
   "cell_type": "code",
   "execution_count": 144,
   "metadata": {},
   "outputs": [
    {
     "data": {
      "text/plain": [
       "100"
      ]
     },
     "execution_count": 144,
     "metadata": {},
     "output_type": "execute_result"
    }
   ],
   "source": [
    "#checking the length of url's\n",
    "len(URL)"
   ]
  },
  {
   "cell_type": "code",
   "execution_count": 145,
   "metadata": {},
   "outputs": [],
   "source": [
    "#going to the url of first shoes through our driver\n",
    "driver.get(URL[0])"
   ]
  },
  {
   "cell_type": "code",
   "execution_count": 146,
   "metadata": {},
   "outputs": [
    {
     "name": "stderr",
     "output_type": "stream",
     "text": [
      "100%|████████████████████████████████████████████████████████████████████████████████| 100/100 [06:57<00:00,  4.17s/it]\n"
     ]
    }
   ],
   "source": [
    "#running a loop to extract all the required information from the list_of_url\n",
    "from tqdm import tqdm\n",
    "for i in tqdm(URL):\n",
    "    driver.get(i)\n",
    "    try:\n",
    "        brand=driver.find_element_by_xpath('//*[@id=\"mountRoot\"]/div/div/div/main/div[2]/div[2]/div[1]/h1[1]').text\n",
    "        Brand.append(brand)\n",
    "    except NoSuchElementException:\n",
    "        Brand.append(\"Null\")\n",
    "    try:\n",
    "        description=driver.find_element_by_xpath('//*[@id=\"mountRoot\"]/div/div/div/main/div[2]/div[2]/div[1]/h1[2]').text\n",
    "        Product_Description.append(description)\n",
    "    except NoSuchElementException:\n",
    "        Product_Description.append(\"Null\")\n",
    "    try:\n",
    "        price=driver.find_element_by_xpath('//*[@id=\"mountRoot\"]/div/div/div/main/div[2]/div[2]/div[1]/p[1]/span[1]/strong').text\n",
    "        Price.append(price)\n",
    "    except NoSuchElementException:\n",
    "        Price.append(\"Null\")\n",
    "    time.sleep(3)"
   ]
  },
  {
   "cell_type": "code",
   "execution_count": 147,
   "metadata": {},
   "outputs": [
    {
     "data": {
      "text/plain": [
       "['Cole Haan',\n",
       " 'Nike',\n",
       " 'Hush Puppies',\n",
       " 'Nike',\n",
       " 'Nike',\n",
       " 'Nike',\n",
       " 'Nike',\n",
       " 'UNDER ARMOUR',\n",
       " 'Nike',\n",
       " 'Nike',\n",
       " 'PUMA Motorsport',\n",
       " 'UNDER ARMOUR',\n",
       " 'Nike',\n",
       " 'Bugatti',\n",
       " 'Nike',\n",
       " 'Nike',\n",
       " 'Nike',\n",
       " 'Nike',\n",
       " 'Skechers',\n",
       " 'Puma',\n",
       " 'UNDER ARMOUR',\n",
       " 'Puma',\n",
       " 'Hush Puppies',\n",
       " 'Nike',\n",
       " 'Bugatti',\n",
       " 'UNDER ARMOUR',\n",
       " 'UNDER ARMOUR',\n",
       " 'Puma',\n",
       " 'Puma',\n",
       " 'UNDER ARMOUR',\n",
       " 'UNDER ARMOUR',\n",
       " 'Skechers',\n",
       " 'Skechers',\n",
       " 'UNDER ARMOUR',\n",
       " 'Tommy Hilfiger',\n",
       " 'Puma',\n",
       " 'ADIDAS Originals',\n",
       " 'Hush Puppies',\n",
       " 'Puma',\n",
       " 'ADIDAS Originals',\n",
       " 'Hush Puppies',\n",
       " 'Geox',\n",
       " 'Bugatti',\n",
       " 'Nike',\n",
       " 'Heel & Buckle London',\n",
       " 'Florsheim',\n",
       " 'UNDER ARMOUR',\n",
       " 'UNDER ARMOUR',\n",
       " 'Puma',\n",
       " 'FILA',\n",
       " 'UNDER ARMOUR',\n",
       " 'UNDER ARMOUR',\n",
       " 'Puma',\n",
       " 'FILA',\n",
       " 'Geox',\n",
       " 'Geox',\n",
       " 'UNDER ARMOUR',\n",
       " 'UNDER ARMOUR',\n",
       " 'Heel & Buckle London',\n",
       " 'Cole Haan',\n",
       " 'Geox',\n",
       " 'Geox',\n",
       " 'Bugatti',\n",
       " 'Xtep',\n",
       " 'UNDER ARMOUR',\n",
       " 'Clarks',\n",
       " 'Tommy Hilfiger',\n",
       " 'VIONIC',\n",
       " 'Heel & Buckle London',\n",
       " 'Hush Puppies',\n",
       " 'Geox',\n",
       " 'Heel & Buckle London',\n",
       " 'Saint G',\n",
       " 'Saint G',\n",
       " 'Geox',\n",
       " 'Geox',\n",
       " 'Heel & Buckle London',\n",
       " 'Geox',\n",
       " 'Bugatti',\n",
       " 'Hush Puppies',\n",
       " 'Hush Puppies',\n",
       " 'Puma',\n",
       " 'Puma',\n",
       " 'Saint G',\n",
       " 'Geox',\n",
       " 'Heel & Buckle London',\n",
       " 'Ruosh',\n",
       " 'PUMA Motorsport',\n",
       " 'Heel & Buckle London',\n",
       " 'Geox',\n",
       " 'Cole Haan',\n",
       " 'Hush Puppies',\n",
       " 'Geox',\n",
       " 'Ruosh',\n",
       " 'Geox',\n",
       " 'Geox',\n",
       " 'Geox',\n",
       " 'Geox',\n",
       " 'Cole Haan',\n",
       " 'Geox']"
      ]
     },
     "execution_count": 147,
     "metadata": {},
     "output_type": "execute_result"
    }
   ],
   "source": [
    "Brand"
   ]
  },
  {
   "cell_type": "code",
   "execution_count": 148,
   "metadata": {},
   "outputs": [
    {
     "data": {
      "text/plain": [
       "['Men Black Originalgrand Stitchlite Wingtip Oxford Sneakers',\n",
       " 'Men Black AIR ZOOM PEGASUS 37 Running Shoes',\n",
       " 'Men Black Solid Leather Formal Slip-Ons',\n",
       " 'Men Black JORDAN DELTA Basketball Shoes',\n",
       " 'Men Black & Yellow JOYRIDE Running Shoes',\n",
       " 'Men Black KD13 EP Mid-Top Basketball Shoes',\n",
       " 'Men Black React Infinity Running Shoe',\n",
       " 'Men Black & Fluorescent Green UA HOVR Guardian 2-BLK Sports Shoes',\n",
       " 'Men Black REACT MILER Running Shoes',\n",
       " 'Women Black REACT PHANTOM RUN FK 2 Running Shoes',\n",
       " 'Unisex Black Mercedes Drift Cat 8 Running Shoes',\n",
       " 'Men Black HOVR STRT Woven Design Sportstyle Shoes',\n",
       " 'Women Black AIR ZOOM VOMERO 14 Running Shoes',\n",
       " 'Men Black Solid Leather Formal Derbys',\n",
       " 'Women Black AIR ZOOM VOMERO 15 Running Shoes',\n",
       " 'Women Black & Pink Colourblocked AIR ZOOM STRUCTURE 23 Running Shoes',\n",
       " 'Women Black AIR ZOOM PEGASUS 37 FLYEASE Running Shoes',\n",
       " 'Men Black AIR ZOOM VOMERO 15 Running Shoes',\n",
       " 'Men Black VIPER - COMPETITOR Training Shoes',\n",
       " 'Men Black Mesh Fuse Training Or Gym Shoes',\n",
       " 'Women Black & Charcoal Grey Woven Design Liquify Rebel Running Shoes',\n",
       " 'Women Black SPEED Orbiter Running Shoes',\n",
       " 'Men Black Solid Formal Derbys',\n",
       " 'Men Black & Beige JORDAN DELTA Sneakers',\n",
       " 'Men Black Perforated Mule Sneakers',\n",
       " 'Women Black & Lavender Woven Design HOVR Sonic 3 Running Shoes',\n",
       " 'Women Black Woven Design Bluetooth HOVR Sonic 3 Running Shoes',\n",
       " 'Men Black Liberate Nitro Running Shoes',\n",
       " 'Men Black Velocity Nitro Running Shoes',\n",
       " 'Women Black HOVR Rise 2 Training Shoes',\n",
       " 'Men Black & Blue Liquify Woven Design Running Shoes',\n",
       " 'Women UNO - LOVING LOVE Printed Sneakers',\n",
       " \"Women Black D'LITES 3.0 AIR-SKY Sneakers\",\n",
       " 'Women Black & Lavender Woven Design Charged Impulse Running Shoes',\n",
       " 'Men Black Solid Heritage Seasonal Leather Sneakers',\n",
       " 'Men Black Running Shoes',\n",
       " 'Men Black Woven Design Nite Jogger Sneakers',\n",
       " 'Men Black Colourblocked Driving Shoes',\n",
       " 'Men Black LQDCELL Method FM Training Shoes',\n",
       " 'Men Black Perforated Superstar Sneakers',\n",
       " 'Men Black Solid Leather Formal Slip-Ons',\n",
       " 'Women Black Leather Solid Block Heels',\n",
       " 'Men Black Textured Leather Formal Loafers',\n",
       " 'Women Black AIR MAX VIVA Sneakers',\n",
       " 'Men Black Solid Leather Formal Oxfords',\n",
       " 'Men Black Solid Leather Formal Derbys',\n",
       " 'Women Black & Charcoal Grey Woven Design Charged Breathe TR 2 Training Shoes',\n",
       " 'Women Black TriBase Reign 2 Woven Design Training Shoes',\n",
       " 'Men Black Mesh Running Shoes',\n",
       " 'Men Black Running Shoes',\n",
       " 'Women Black & Charcoal Grey Woven Design Charged Breathe TR 2 Training Shoes',\n",
       " 'Women Black TriBase Reign 2 Woven Design Training Shoes',\n",
       " 'Men Black Mesh Running Shoes',\n",
       " 'Men Black Running Shoes',\n",
       " 'Men Black Leather Driving Shoes',\n",
       " 'Men Black Leather Driving Shoes',\n",
       " 'Men Black Woven Design Charged Rogue 2 Wide Fit 2E Running Shoes',\n",
       " 'Men Black HOVR CTW Sneakers',\n",
       " 'Men Black Leather Sneakers',\n",
       " 'Men Black Originalgrand Stitchlite Wingtip Oxford Sneakers',\n",
       " 'Men Black Solid Leather Sneakers',\n",
       " 'Men Black Solid Leather Driving Shoes',\n",
       " 'Women Black Sneakers',\n",
       " 'Men Black Textile High-Top Running Shoes',\n",
       " 'Men Black & Charcoal Grey Woven Design Liquify Running Shoes',\n",
       " 'Men Black Leather Casual Derbys',\n",
       " 'Men Black Solid Sneakers',\n",
       " 'Men Black & Grey Textured Sneakers',\n",
       " 'Women Black Solid Leather Gladiators',\n",
       " 'Men Black Leather Slip-On Sneakers',\n",
       " 'Women Black Solid Leather Pumps',\n",
       " 'Women Black & Transparent Solid Leather Block Heels',\n",
       " 'Women Black Woven Design Leather Heeled Boots',\n",
       " 'Women Black Solid Heeled Boots',\n",
       " 'Women Black Solid Leather Wedges',\n",
       " 'Women Black Solid Wedges',\n",
       " 'Women Black Embellished Peep Toe Heels',\n",
       " 'Women Black Leather Solid Pumps',\n",
       " 'Women Black & Grey Solid Block Heels',\n",
       " 'Men Black Leather Derbys',\n",
       " 'Men Black Textured Oxfords',\n",
       " 'Men Black IGNITE Ronin Unrest Running Shoes',\n",
       " 'Men Black & Red IGNITE Dual NM Running Shoes',\n",
       " 'Women Black Solid Leather Heeled Boots',\n",
       " 'Women Black Sequinned Slip-On Sneakers',\n",
       " 'Men Black Textured Leather Monk Shoes',\n",
       " 'Men Black Solid Leather Formal Derbys',\n",
       " 'Unisex Black Woven-Design Sneakers',\n",
       " 'Women Black Embellished Leather Pumps',\n",
       " 'Women Black Solid Flatforms',\n",
       " 'Women Black Solid Sandals',\n",
       " 'Men Black Solid Leather Formal Slip-Ons',\n",
       " 'Men Black Solid Leather Formal Derbys',\n",
       " 'Men Black Solid Leather Formal Oxfords',\n",
       " 'Men Black Solid Leather Formal Slip-Ons',\n",
       " 'Men Black Solid Leather Formal Derbys',\n",
       " 'Women Black Leather Boat Shoes',\n",
       " 'Women Black Solid Leather Flats',\n",
       " 'Women Black Zerogrand Global Trainer Sneakers',\n",
       " 'Men Black Solid Leather Formal Oxfords']"
      ]
     },
     "execution_count": 148,
     "metadata": {},
     "output_type": "execute_result"
    }
   ],
   "source": [
    "Product_Description"
   ]
  },
  {
   "cell_type": "code",
   "execution_count": 149,
   "metadata": {},
   "outputs": [
    {
     "data": {
      "text/plain": [
       "['Rs. 12999',\n",
       " 'Rs. 11495',\n",
       " 'Rs. 8999',\n",
       " 'Rs. 12495',\n",
       " 'Rs. 10496',\n",
       " 'Rs. 12995',\n",
       " 'Rs. 10846',\n",
       " 'Rs. 11999',\n",
       " 'Rs. 8796',\n",
       " 'Rs. 8396',\n",
       " 'Rs. 7999',\n",
       " 'Rs. 9999',\n",
       " 'Rs. 7796',\n",
       " 'Rs. 9999',\n",
       " 'Rs. 10121',\n",
       " 'Rs. 7721',\n",
       " 'Rs. 7496',\n",
       " 'Rs. 10796',\n",
       " 'Rs. 6999',\n",
       " 'Rs. 7999',\n",
       " 'Rs. 8999',\n",
       " 'Rs. 7149',\n",
       " 'Rs. 9999',\n",
       " 'Rs. 10995',\n",
       " 'Rs. 6999',\n",
       " 'Rs. 10999',\n",
       " 'Rs. 10999',\n",
       " 'Rs. 9999',\n",
       " 'Rs. 10999',\n",
       " 'Rs. 9999',\n",
       " 'Rs. 10999',\n",
       " 'Rs. 6799',\n",
       " 'Rs. 6999',\n",
       " 'Rs. 7999',\n",
       " 'Rs. 6749',\n",
       " 'Rs. 6999',\n",
       " 'Rs. 9799',\n",
       " 'Rs. 8999',\n",
       " 'Rs. 6999',\n",
       " 'Rs. 7699',\n",
       " 'Rs. 9999',\n",
       " 'Rs. 9990',\n",
       " 'Rs. 7999',\n",
       " 'Rs. 9996',\n",
       " 'Rs. 7693',\n",
       " 'Rs. 6995',\n",
       " 'Rs. 7999',\n",
       " 'Rs. 11999',\n",
       " 'Rs. 7499',\n",
       " 'Rs. 8499',\n",
       " 'Rs. 7999',\n",
       " 'Rs. 11999',\n",
       " 'Rs. 7499',\n",
       " 'Rs. 8499',\n",
       " 'Rs. 9999',\n",
       " 'Rs. 9499',\n",
       " 'Rs. 7999',\n",
       " 'Rs. 8499',\n",
       " 'Rs. 6993',\n",
       " 'Rs. 12999',\n",
       " 'Rs. 9999',\n",
       " 'Rs. 7999',\n",
       " 'Rs. 7999',\n",
       " 'Rs. 9349',\n",
       " 'Rs. 10999',\n",
       " 'Rs. 6749',\n",
       " 'Rs. 6749',\n",
       " 'Rs. 7039',\n",
       " 'Rs. 6993',\n",
       " 'Rs. 9999',\n",
       " 'Rs. 6999',\n",
       " 'Rs. 6993',\n",
       " 'Rs. 6675',\n",
       " 'Rs. 7440',\n",
       " 'Rs. 9490',\n",
       " 'Rs. 8490',\n",
       " 'Rs. 7192',\n",
       " 'Rs. 11990',\n",
       " 'Rs. 8499',\n",
       " 'Rs. 7999',\n",
       " 'Rs. 6999',\n",
       " 'Rs. 6999',\n",
       " 'Rs. 6999',\n",
       " 'Rs. 9900',\n",
       " 'Rs. 8499',\n",
       " 'Rs. 9793',\n",
       " 'Rs. 8990',\n",
       " 'Rs. 7999',\n",
       " 'Rs. 7192',\n",
       " 'Rs. 8999',\n",
       " 'Rs. 7499',\n",
       " 'Rs. 8999',\n",
       " 'Rs. 11490',\n",
       " 'Rs. 9443',\n",
       " 'Rs. 9490',\n",
       " 'Rs. 12990',\n",
       " 'Rs. 8990',\n",
       " 'Rs. 9990',\n",
       " 'Rs. 7499',\n",
       " 'Rs. 10490']"
      ]
     },
     "execution_count": 149,
     "metadata": {},
     "output_type": "execute_result"
    }
   ],
   "source": [
    "Price"
   ]
  },
  {
   "cell_type": "code",
   "execution_count": 150,
   "metadata": {},
   "outputs": [
    {
     "name": "stdout",
     "output_type": "stream",
     "text": [
      "100 100 100\n"
     ]
    }
   ],
   "source": [
    "#printing length\n",
    "print(len(Brand),len(Product_Description),len(Price))"
   ]
  },
  {
   "cell_type": "code",
   "execution_count": 151,
   "metadata": {},
   "outputs": [],
   "source": [
    "#creating a dataframe\n",
    "\n",
    "Shoes=pd.DataFrame({})\n",
    "Shoes['Brand']=Brand\n",
    "Shoes['Product_Description']=Product_Description\n",
    "Shoes['Price']=Price"
   ]
  },
  {
   "cell_type": "code",
   "execution_count": 152,
   "metadata": {},
   "outputs": [
    {
     "data": {
      "text/html": [
       "<div>\n",
       "<style scoped>\n",
       "    .dataframe tbody tr th:only-of-type {\n",
       "        vertical-align: middle;\n",
       "    }\n",
       "\n",
       "    .dataframe tbody tr th {\n",
       "        vertical-align: top;\n",
       "    }\n",
       "\n",
       "    .dataframe thead th {\n",
       "        text-align: right;\n",
       "    }\n",
       "</style>\n",
       "<table border=\"1\" class=\"dataframe\">\n",
       "  <thead>\n",
       "    <tr style=\"text-align: right;\">\n",
       "      <th></th>\n",
       "      <th>Brand</th>\n",
       "      <th>Product_Description</th>\n",
       "      <th>Price</th>\n",
       "    </tr>\n",
       "  </thead>\n",
       "  <tbody>\n",
       "    <tr>\n",
       "      <th>0</th>\n",
       "      <td>Cole Haan</td>\n",
       "      <td>Men Black Originalgrand Stitchlite Wingtip Oxf...</td>\n",
       "      <td>Rs. 12999</td>\n",
       "    </tr>\n",
       "    <tr>\n",
       "      <th>1</th>\n",
       "      <td>Nike</td>\n",
       "      <td>Men Black AIR ZOOM PEGASUS 37 Running Shoes</td>\n",
       "      <td>Rs. 11495</td>\n",
       "    </tr>\n",
       "    <tr>\n",
       "      <th>2</th>\n",
       "      <td>Hush Puppies</td>\n",
       "      <td>Men Black Solid Leather Formal Slip-Ons</td>\n",
       "      <td>Rs. 8999</td>\n",
       "    </tr>\n",
       "    <tr>\n",
       "      <th>3</th>\n",
       "      <td>Nike</td>\n",
       "      <td>Men Black JORDAN DELTA Basketball Shoes</td>\n",
       "      <td>Rs. 12495</td>\n",
       "    </tr>\n",
       "    <tr>\n",
       "      <th>4</th>\n",
       "      <td>Nike</td>\n",
       "      <td>Men Black &amp; Yellow JOYRIDE Running Shoes</td>\n",
       "      <td>Rs. 10496</td>\n",
       "    </tr>\n",
       "    <tr>\n",
       "      <th>...</th>\n",
       "      <td>...</td>\n",
       "      <td>...</td>\n",
       "      <td>...</td>\n",
       "    </tr>\n",
       "    <tr>\n",
       "      <th>95</th>\n",
       "      <td>Geox</td>\n",
       "      <td>Men Black Solid Leather Formal Derbys</td>\n",
       "      <td>Rs. 12990</td>\n",
       "    </tr>\n",
       "    <tr>\n",
       "      <th>96</th>\n",
       "      <td>Geox</td>\n",
       "      <td>Women Black Leather Boat Shoes</td>\n",
       "      <td>Rs. 8990</td>\n",
       "    </tr>\n",
       "    <tr>\n",
       "      <th>97</th>\n",
       "      <td>Geox</td>\n",
       "      <td>Women Black Solid Leather Flats</td>\n",
       "      <td>Rs. 9990</td>\n",
       "    </tr>\n",
       "    <tr>\n",
       "      <th>98</th>\n",
       "      <td>Cole Haan</td>\n",
       "      <td>Women Black Zerogrand Global Trainer Sneakers</td>\n",
       "      <td>Rs. 7499</td>\n",
       "    </tr>\n",
       "    <tr>\n",
       "      <th>99</th>\n",
       "      <td>Geox</td>\n",
       "      <td>Men Black Solid Leather Formal Oxfords</td>\n",
       "      <td>Rs. 10490</td>\n",
       "    </tr>\n",
       "  </tbody>\n",
       "</table>\n",
       "<p>100 rows × 3 columns</p>\n",
       "</div>"
      ],
      "text/plain": [
       "           Brand                                Product_Description      Price\n",
       "0      Cole Haan  Men Black Originalgrand Stitchlite Wingtip Oxf...  Rs. 12999\n",
       "1           Nike        Men Black AIR ZOOM PEGASUS 37 Running Shoes  Rs. 11495\n",
       "2   Hush Puppies            Men Black Solid Leather Formal Slip-Ons   Rs. 8999\n",
       "3           Nike            Men Black JORDAN DELTA Basketball Shoes  Rs. 12495\n",
       "4           Nike           Men Black & Yellow JOYRIDE Running Shoes  Rs. 10496\n",
       "..           ...                                                ...        ...\n",
       "95          Geox              Men Black Solid Leather Formal Derbys  Rs. 12990\n",
       "96          Geox                     Women Black Leather Boat Shoes   Rs. 8990\n",
       "97          Geox                    Women Black Solid Leather Flats   Rs. 9990\n",
       "98     Cole Haan      Women Black Zerogrand Global Trainer Sneakers   Rs. 7499\n",
       "99          Geox             Men Black Solid Leather Formal Oxfords  Rs. 10490\n",
       "\n",
       "[100 rows x 3 columns]"
      ]
     },
     "execution_count": 152,
     "metadata": {},
     "output_type": "execute_result"
    }
   ],
   "source": [
    "Shoes"
   ]
  },
  {
   "cell_type": "code",
   "execution_count": 153,
   "metadata": {},
   "outputs": [],
   "source": [
    "#Closing the driver\n",
    "driver.close()"
   ]
  },
  {
   "cell_type": "markdown",
   "metadata": {},
   "source": [
    "###### Q10: Go to webpage https://www.amazon.in/ Enter “Laptop” in the search field and then click the search icon.Then set CPU Type filter to “Intel Core i7” and “Intel Core i9”.After setting the filters scrape first 10 laptops data. You have to scrape 3 attributes for each laptop:\n",
    "###### 1. Title  2. Ratings  3. Price"
   ]
  },
  {
   "cell_type": "code",
   "execution_count": 174,
   "metadata": {},
   "outputs": [],
   "source": [
    "#Importing required libraries\n",
    "import pandas as pd\n",
    "import selenium\n",
    "from selenium import webdriver\n",
    "from selenium.common.exceptions import NoSuchElementException"
   ]
  },
  {
   "cell_type": "code",
   "execution_count": 175,
   "metadata": {},
   "outputs": [],
   "source": [
    "#Connect to web driver\n",
    "driver = webdriver.Chrome(r\"C:\\Users\\rahsh\\Downloads\\chromedriver_win32\\chromedriver.exe\")"
   ]
  },
  {
   "cell_type": "code",
   "execution_count": 176,
   "metadata": {},
   "outputs": [],
   "source": [
    "#creating the empty list\n",
    "Title=[]\n",
    "Ratings=[]\n",
    "Price=[]"
   ]
  },
  {
   "cell_type": "code",
   "execution_count": 177,
   "metadata": {},
   "outputs": [],
   "source": [
    "#Getting the website to driver\n",
    "driver.get('https://www.amazon.in')"
   ]
  },
  {
   "cell_type": "code",
   "execution_count": 178,
   "metadata": {},
   "outputs": [],
   "source": [
    "#locating the search bar\\\n",
    "search_bar = driver.find_element_by_id(\"twotabsearchtextbox\")\n",
    "search_bar.clear()\n",
    "search_bar.send_keys(\"laptops\")\n",
    "search_button = driver.find_element_by_xpath('//span[@id=\"nav-search-submit-text\"]')\n",
    "search_button.click()"
   ]
  },
  {
   "cell_type": "code",
   "execution_count": 179,
   "metadata": {},
   "outputs": [],
   "source": [
    "#locating the i7 filter\n",
    "filter_button = driver.find_elements_by_xpath(\"//a[@class='a-link-normal s-navigation-item']/span\")\n",
    "for i in filter_button:\n",
    "    if i.text=='Intel Core i7':\n",
    "        i.click()\n",
    "        break"
   ]
  },
  {
   "cell_type": "code",
   "execution_count": 180,
   "metadata": {},
   "outputs": [],
   "source": [
    "#locating the i9 filter\n",
    "filter_button = driver.find_elements_by_xpath(\"//a[@class='a-link-normal s-navigation-item']/span\")\n",
    "for i in filter_button:\n",
    "    if i.text=='Intel Core i9':\n",
    "        i.click()\n",
    "        break"
   ]
  },
  {
   "cell_type": "code",
   "execution_count": 181,
   "metadata": {},
   "outputs": [],
   "source": [
    "#scrapping Titles\n",
    "titles = driver.find_elements_by_xpath(\"//span[@class='a-size-medium a-color-base a-text-normal']\")\n",
    "for i in titles[:10]:\n",
    "    Title.append(i.text)"
   ]
  },
  {
   "cell_type": "code",
   "execution_count": 182,
   "metadata": {},
   "outputs": [],
   "source": [
    "#scrapping Price\n",
    "prices=driver.find_elements_by_xpath(\"//span[@class='a-price-whole']\")\n",
    "for i in prices[:10]:\n",
    "    Price.append(i.text)"
   ]
  },
  {
   "cell_type": "code",
   "execution_count": 184,
   "metadata": {},
   "outputs": [],
   "source": [
    "#locating Ratings\n",
    "urls = driver.find_elements_by_xpath(\"//a[@class='a-link-normal a-text-normal']\")\n",
    "UR=[]\n",
    "for i in urls[:10]:\n",
    "    UR.append(i.get_attribute('href'))\n",
    "for url in UR:\n",
    "    driver.get(url)\n",
    "    try:\n",
    "        rate=driver.find_element_by_xpath(\"//span[@id='acrCustomerReviewText']\")\n",
    "        rate.click()\n",
    "        rating=driver.find_element_by_xpath(\"//span[@class-'a-size-medium a-color-base']\")\n",
    "        Ratings.append(rating.text)\n",
    "        \n",
    "    except NoSuchElementException  as e:\n",
    "        Ratings.append(\"No rating\")"
   ]
  },
  {
   "cell_type": "code",
   "execution_count": 193,
   "metadata": {},
   "outputs": [
    {
     "name": "stdout",
     "output_type": "stream",
     "text": [
      "10\n",
      "10\n"
     ]
    }
   ],
   "source": [
    "#checking the length of each list\n",
    "print(len(Title))\n",
    "print(len(Price))"
   ]
  },
  {
   "cell_type": "code",
   "execution_count": 194,
   "metadata": {},
   "outputs": [
    {
     "data": {
      "text/plain": [
       "['Lenovo IdeaPad Flex 5 11th Gen Intel Core i7 14-inch FHD IPS 2-in-1 Touchscreen Laptop (16GB/512GB SSD/Win 10/Office 2019/Lenovo Digital Pen Stylus/Fingerprint Reader/Graphite Grey/1.5Kg), 82HS0092IN',\n",
       " 'HP Pavilion Gaming 10th Gen Intel Core i7 Processor 15.6-inch FHD Gaming Laptop (16GB/512GB SSD + 32GB Intel Optane/Windows 10/NVIDIA 1650 4GB/Shadow Black), 15-dk1151TX',\n",
       " 'ASUS VivoBook S S14 Intel Core i7-1165G7 11th Gen, 14-inch FHD Thin and Light Laptop (8GB RAM/512GB SSD + 32GB Optane Memory/Windows 10/Office 2019/Iris X Graphics- Indie Black/1.4 Kg), S433EA-AM701TS',\n",
       " 'Lenovo Legion 5 10th Gen Intel Core i7 15.6 inch Full HD IPS Gaming Laptop (16GB/1TB HDD + 256GB SSD/Windows 10/120 Hz/NVIDIA GTX 1650 4GB GDDR6 Graphics/Phantom Black/2.3Kg), 82AU00KKIN',\n",
       " 'Dell Latitude 3410 14 Inch HD Intel Core i7 10th Gen ( 8GB / 1TB / Windows 10 Pro / 3 Years Warranty ) Business Laptop with STOLT Backpack',\n",
       " '(Renewed) DELL Latitude E6540 15.6-inch Laptop (4th Gen Intel Core i7/8GB/256GB SSD/Windows 10/Integrated Graphics), Silver',\n",
       " 'LifeDigital ZED AIR CX7 15.6 IPS FHD Screen Black Laptop (Intel Core i7, 8GB RAM, 512GB SSD, Windows 10)',\n",
       " 'Lenovo IdeaPad Gaming 3 10th Gen Intel Core i7 15.6-inch FHD IPS Gaming Laptop (8GB/1TB HDD + 256 GB SSD/Windows 10/NVIDIA GTX 1650 4GB GDDR6/with M100 RGB Gaming Mouse/Onyx Black/2.2Kg), 81Y400VAIN',\n",
       " \"(Renewed) Dell Latitude E6540 Laptop (CORE I7 4TH GEN/4GB/500GB/WEBCAM/15.6''/Windows 10 Pro)\",\n",
       " 'Lenovo Legion Y530 Intel Core I7 8th Gen 15.6 - inch Gaming FHD Laptop (8GB/ 1TB HDD +128GB SSD/ Windows 10 Home/ 4GB Graphics/ Black), 81FV00KNIN']"
      ]
     },
     "execution_count": 194,
     "metadata": {},
     "output_type": "execute_result"
    }
   ],
   "source": [
    "Title"
   ]
  },
  {
   "cell_type": "code",
   "execution_count": 195,
   "metadata": {},
   "outputs": [
    {
     "data": {
      "text/plain": [
       "['86,990',\n",
       " '83,077',\n",
       " '77,990',\n",
       " '90,990',\n",
       " '39,999',\n",
       " '36,601',\n",
       " '76,990',\n",
       " '33,990',\n",
       " '89,990',\n",
       " '76,500']"
      ]
     },
     "execution_count": 195,
     "metadata": {},
     "output_type": "execute_result"
    }
   ],
   "source": [
    "Price"
   ]
  },
  {
   "cell_type": "code",
   "execution_count": 196,
   "metadata": {},
   "outputs": [
    {
     "name": "stdout",
     "output_type": "stream",
     "text": [
      "                                               Title   Price\n",
      "0  Lenovo IdeaPad Flex 5 11th Gen Intel Core i7 1...  86,990\n",
      "1  HP Pavilion Gaming 10th Gen Intel Core i7 Proc...  83,077\n",
      "2  ASUS VivoBook S S14 Intel Core i7-1165G7 11th ...  77,990\n",
      "3  Lenovo Legion 5 10th Gen Intel Core i7 15.6 in...  90,990\n",
      "4  Dell Latitude 3410 14 Inch HD Intel Core i7 10...  39,999\n",
      "5  (Renewed) DELL Latitude E6540 15.6-inch Laptop...  36,601\n",
      "6  LifeDigital ZED AIR CX7 15.6 IPS FHD Screen Bl...  76,990\n",
      "7  Lenovo IdeaPad Gaming 3 10th Gen Intel Core i7...  33,990\n",
      "8  (Renewed) Dell Latitude E6540 Laptop (CORE I7 ...  89,990\n",
      "9  Lenovo Legion Y530 Intel Core I7 8th Gen 15.6 ...  76,500\n"
     ]
    }
   ],
   "source": [
    "#creating a dataframe\n",
    "laptop=pd.DataFrame({'Title':Title,\n",
    "                 'Price':Price,\n",
    "                })\n",
    "#printing the dataframe\n",
    "print(laptop)"
   ]
  },
  {
   "cell_type": "code",
   "execution_count": 197,
   "metadata": {},
   "outputs": [],
   "source": [
    "#Closing the driver\n",
    "driver.close()"
   ]
  }
 ],
 "metadata": {
  "kernelspec": {
   "display_name": "Python 3",
   "language": "python",
   "name": "python3"
  },
  "language_info": {
   "codemirror_mode": {
    "name": "ipython",
    "version": 3
   },
   "file_extension": ".py",
   "mimetype": "text/x-python",
   "name": "python",
   "nbconvert_exporter": "python",
   "pygments_lexer": "ipython3",
   "version": "3.8.3"
  }
 },
 "nbformat": 4,
 "nbformat_minor": 4
}
